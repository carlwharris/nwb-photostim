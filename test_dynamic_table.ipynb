{
 "cells": [
  {
   "cell_type": "code",
   "execution_count": 1,
   "metadata": {
    "collapsed": true
   },
   "outputs": [],
   "source": [
    "from bisect import bisect_left\n",
    "\n",
    "from hdmf.data_utils import DataIO\n",
    "from hdmf.common import DynamicTable\n",
    "from hdmf.utils import docval, getargs, popargs, get_docval\n",
    "\n",
    "from pynwb.base import TimeSeries, TimeSeriesReferenceVectorData, TimeSeriesReference\n",
    "\n",
    "class StimulusPresentation(DynamicTable):\n",
    "    \"\"\"\n",
    "    Table for storing Epoch data\n",
    "    \"\"\"\n",
    "\n",
    "    __defaultname__ = 'epochs'\n",
    "\n",
    "    __columns__ = (\n",
    "        {'name': 'start_time', 'description': 'Start time of epoch, in seconds', 'required': True},\n",
    "        {'name': 'stop_time', 'description': 'Stop time of epoch, in seconds', 'required': True},\n",
    "        {'name': 'tags', 'description': 'user-defined tags', 'index': True},\n",
    "        {'name': 'timeseries', 'description': 'index into a TimeSeries object',\n",
    "         'index': True, 'class': TimeSeriesReferenceVectorData}\n",
    "    )\n",
    "\n",
    "    @docval({'name': 'name', 'type': str, 'doc': 'name of this TimeIntervals'},  # required\n",
    "            {'name': 'description', 'type': str, 'doc': 'Description of this TimeIntervals',\n",
    "             'default': \"experimental intervals\"},\n",
    "            *get_docval(DynamicTable.__init__, 'id', 'columns', 'colnames'))\n",
    "    def __init__(self, **kwargs):\n",
    "        super().__init__(**kwargs)\n",
    "\n",
    "    @docval({'name': 'start_time', 'type': float, 'doc': 'Start time of epoch, in seconds'},\n",
    "            {'name': 'stop_time', 'type': float, 'doc': 'Stop time of epoch, in seconds'},\n",
    "            {'name': 'tags', 'type': (str, list, tuple), 'doc': 'user-defined tags used throughout time intervals',\n",
    "             'default': None},\n",
    "            {'name': 'timeseries', 'type': (list, tuple, TimeSeries), 'doc': 'the TimeSeries this epoch applies to',\n",
    "             'default': None},\n",
    "            allow_extra=True)\n",
    "    def add_interval(self, **kwargs):\n",
    "        tags, timeseries = popargs('tags', 'timeseries', kwargs)\n",
    "        start_time, stop_time = getargs('start_time', 'stop_time', kwargs)\n",
    "        rkwargs = dict(kwargs)\n",
    "        if tags is not None:\n",
    "            if isinstance(tags, str):\n",
    "                tags = [s.strip() for s in tags.split(\",\") if not s.isspace()]\n",
    "            rkwargs['tags'] = tags\n",
    "        if not (timeseries is None or (isinstance(timeseries, (tuple, list)) and len(timeseries) == 0)):\n",
    "            if isinstance(timeseries, TimeSeries):\n",
    "                timeseries = [timeseries]\n",
    "            tmp = list()\n",
    "            for ts in timeseries:\n",
    "                idx_start, count = self.__calculate_idx_count(start_time, stop_time, ts)\n",
    "                tmp.append(TimeSeriesReference(idx_start, count, ts))\n",
    "            timeseries = tmp\n",
    "            rkwargs['timeseries'] = timeseries\n",
    "        return super().add_row(**rkwargs)\n",
    "\n",
    "    def __calculate_idx_count(self, start_time, stop_time, ts_data):\n",
    "        if isinstance(ts_data.timestamps, DataIO):\n",
    "            ts_timestamps = ts_data.timestamps.data\n",
    "            ts_starting_time = ts_data.starting_time\n",
    "            ts_rate = ts_data.rate\n",
    "        else:\n",
    "            ts = ts_data\n",
    "            ts_timestamps = ts.timestamps\n",
    "            ts_starting_time = ts.starting_time\n",
    "            ts_rate = ts.rate\n",
    "        if ts_starting_time is not None and ts_rate:\n",
    "            start_idx = int((start_time - ts_starting_time)*ts_rate)\n",
    "            stop_idx = int((stop_time - ts_starting_time)*ts_rate)\n",
    "        elif len(ts_timestamps) > 0:\n",
    "            timestamps = ts_timestamps\n",
    "            start_idx = bisect_left(timestamps, start_time)\n",
    "            stop_idx = bisect_left(timestamps, stop_time)\n",
    "        else:\n",
    "            raise ValueError(\"TimeSeries object must have timestamps or starting_time and rate\")\n",
    "        count = stop_idx - start_idx\n",
    "        idx_start = start_idx\n",
    "        return int(idx_start), int(count)\n",
    "\n"
   ]
  },
  {
   "cell_type": "code",
   "execution_count": 8,
   "outputs": [],
   "source": [
    "sp = StimulusPresentation(name='test_presentation_table', description='abcd')\n",
    "sp.add_interval(start_time=1., stop_time=3., tags=['test1', 'test2'])\n",
    "sp.add_interval(start_time=5., stop_time=7., tags=['test1', 'test2'])\n",
    "sp.add_interval(start_time=4., stop_time=4.5, tags=['test1', 'test2'])"
   ],
   "metadata": {
    "collapsed": false,
    "pycharm": {
     "name": "#%%\n"
    }
   }
  },
  {
   "cell_type": "code",
   "execution_count": 9,
   "outputs": [
    {
     "name": "stdout",
     "output_type": "stream",
     "text": [
      "    start_time  stop_time            tags\n",
      "id                                       \n",
      "0          1.0        3.0  [test1, test2]\n",
      "1          5.0        7.0  [test1, test2]\n",
      "2          4.0        4.5  [test1, test2]\n"
     ]
    }
   ],
   "source": [
    "df = sp.to_dataframe()\n",
    "print(df)"
   ],
   "metadata": {
    "collapsed": false,
    "pycharm": {
     "name": "#%%\n"
    }
   }
  },
  {
   "cell_type": "code",
   "execution_count": 1,
   "outputs": [
    {
     "name": "stdout",
     "output_type": "stream",
     "text": [
      "    start_time  end_time\n",
      "id                      \n",
      "0          1.0       3.0\n",
      "1          4.0       5.0\n"
     ]
    }
   ],
   "source": [
    "from file_classes import StimulusPresentation\n",
    "\n",
    "sp = StimulusPresentation(name='test_presentation_table', description='abcd')\n",
    "sp.add_row(start_time=1., end_time=3.)\n",
    "sp.add_row(start_time=4., end_time=5.)\n",
    "df = sp.to_dataframe()\n",
    "print(df)"
   ],
   "metadata": {
    "collapsed": false,
    "pycharm": {
     "name": "#%%\n"
    }
   }
  },
  {
   "cell_type": "code",
   "execution_count": 2,
   "outputs": [
    {
     "name": "stdout",
     "output_type": "stream",
     "text": [
      "Empty DataFrame\n",
      "Columns: [start_time, stop_time]\n",
      "Index: []\n"
     ]
    }
   ],
   "source": [],
   "metadata": {
    "collapsed": false,
    "pycharm": {
     "name": "#%%\n"
    }
   }
  },
  {
   "cell_type": "code",
   "execution_count": null,
   "outputs": [],
   "source": [],
   "metadata": {
    "collapsed": false,
    "pycharm": {
     "name": "#%%\n"
    }
   }
  }
 ],
 "metadata": {
  "kernelspec": {
   "display_name": "Python 3",
   "language": "python",
   "name": "python3"
  },
  "language_info": {
   "codemirror_mode": {
    "name": "ipython",
    "version": 2
   },
   "file_extension": ".py",
   "mimetype": "text/x-python",
   "name": "python",
   "nbconvert_exporter": "python",
   "pygments_lexer": "ipython2",
   "version": "2.7.6"
  }
 },
 "nbformat": 4,
 "nbformat_minor": 0
}