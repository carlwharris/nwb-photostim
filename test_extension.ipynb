{
 "cells": [
  {
   "cell_type": "code",
   "execution_count": 2,
   "metadata": {
    "collapsed": true
   },
   "outputs": [
    {
     "name": "stdout",
     "output_type": "stream",
     "text": [
      "device ndx_photostim.PhotostimulationDevice at 0x140201301407680\n",
      "Fields:\n",
      "  description: photostim_device\n",
      "  slm: OpticalChannel ndx_photostim.SpatialLightModulator at 0x140200762117712\n",
      "Fields:\n",
      "  dimensions: [1 2 3]\n",
      "\n",
      "  type: LED\n",
      "  wavelength: 320.0\n",
      "\n",
      "root pynwb.file.NWBFile at 0x140200762115072\n",
      "Fields:\n",
      "  file_create_date: [datetime.datetime(2022, 9, 28, 15, 36, 50, 724346, tzinfo=tzlocal())]\n",
      "  identifier: EXAMPLE_ID\n",
      "  session_description: my first synthetic recording\n",
      "  session_start_time: 2022-09-28 15:36:50.724123-04:00\n",
      "  timestamps_reference_time: 2022-09-28 15:36:50.724123-04:00\n",
      "\n",
      "root pynwb.file.NWBFile at 0x140200762115072\n",
      "Fields:\n",
      "  acquisition: {\n",
      "    photostim <class 'ndx_photostim.Photostimulation'>\n",
      "  }\n",
      "  devices: {\n",
      "    device <class 'ndx_photostim.PhotostimulationDevice'>\n",
      "  }\n",
      "  file_create_date: [datetime.datetime(2022, 9, 28, 15, 36, 50, 724346, tzinfo=tzlocal())]\n",
      "  identifier: EXAMPLE_ID\n",
      "  session_description: my first synthetic recording\n",
      "  session_start_time: 2022-09-28 15:36:50.724123-04:00\n",
      "  timestamps_reference_time: 2022-09-28 15:36:50.724123-04:00\n",
      "\n"
     ]
    }
   ],
   "source": [
    "from ndx_photostim import SpatialLightModulator, PhotostimulationDevice, Photostimulation\n",
    "from datetime import datetime\n",
    "from pynwb import NWBFile\n",
    "from dateutil.tz import tzlocal\n",
    "\n",
    "nwbfile = NWBFile(\n",
    "    'my first synthetic recording',\n",
    "    'EXAMPLE_ID',\n",
    "    datetime.now(tzlocal()),\n",
    ")\n",
    "\n",
    "import numpy as np\n",
    "slm = SpatialLightModulator(\n",
    "    name=\"OpticalChannel\",\n",
    "    dimensions = [1, 2, 3],#[32, 10],\n",
    ")\n",
    "\n",
    "dev = PhotostimulationDevice(name=\"device\", description=\"photostim_device\", type='LED', wavelength=320., slm=slm)\n",
    "print(dev)\n",
    "\n",
    "print(nwbfile)\n",
    "\n",
    "nwbfile.add_device(dev)\n",
    "\n",
    "stim = Photostimulation(name=\"photostim\", device=dev, roi_coordinates=[[1, 2], [3, 4]], stimulation_diameter=5)\n",
    "\n",
    "nwbfile.add_acquisition(stim)\n",
    "\n",
    "print(nwbfile)"
   ]
  },
  {
   "cell_type": "code",
   "execution_count": null,
   "outputs": [],
   "source": [],
   "metadata": {
    "collapsed": false,
    "pycharm": {
     "name": "#%%\n"
    }
   }
  }
 ],
 "metadata": {
  "kernelspec": {
   "display_name": "Python 3",
   "language": "python",
   "name": "python3"
  },
  "language_info": {
   "codemirror_mode": {
    "name": "ipython",
    "version": 2
   },
   "file_extension": ".py",
   "mimetype": "text/x-python",
   "name": "python",
   "nbconvert_exporter": "python",
   "pygments_lexer": "ipython2",
   "version": "2.7.6"
  }
 },
 "nbformat": 4,
 "nbformat_minor": 0
}