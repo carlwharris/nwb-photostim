{
 "cells": [
  {
   "cell_type": "markdown",
   "source": [
    "Using the nwb_photostim package"
   ],
   "metadata": {
    "collapsed": false
   }
  },
  {
   "cell_type": "code",
   "execution_count": 1,
   "outputs": [],
   "source": [
    "%load_ext autoreload\n",
    "%autoreload 2"
   ],
   "metadata": {
    "collapsed": false,
    "pycharm": {
     "name": "#%%\n"
    }
   }
  },
  {
   "cell_type": "code",
   "execution_count": 2,
   "outputs": [],
   "source": [
    "from pynwb import NWBFile\n",
    "from file_classes import SpatialLightModulator, PhotostimulationDevice, HolographicPattern, PhotostimulationSeries, PhotostimulationTable\n",
    "import numpy as np\n",
    "from dateutil.tz import tzlocal\n",
    "from pynwb import NWBHDF5IO\n",
    "from datetime import datetime"
   ],
   "metadata": {
    "collapsed": false,
    "pycharm": {
     "name": "#%%\n"
    }
   }
  },
  {
   "cell_type": "markdown",
   "source": [
    "## Spatial light modulator"
   ],
   "metadata": {
    "collapsed": false
   }
  },
  {
   "cell_type": "code",
   "execution_count": 3,
   "outputs": [],
   "source": [
    "slm = SpatialLightModulator(name='example_SLM', description=\"example SLM\", manufacturer=\"SLM manufacturer\", size=[500, 500])"
   ],
   "metadata": {
    "collapsed": false,
    "pycharm": {
     "name": "#%%\n"
    }
   }
  },
  {
   "cell_type": "markdown",
   "source": [
    "## PhotostimulationDevice"
   ],
   "metadata": {
    "collapsed": false
   }
  },
  {
   "cell_type": "code",
   "execution_count": 4,
   "outputs": [
    {
     "data": {
      "text/plain": "photostimulation_device file_classes.PhotostimulationDevice at 0x140439271843408\nFields:\n  description: example photostimulation device\n  manufacturer: device manufacturer\n  opsin: example opsin\n  slm: example_SLM file_classes.SpatialLightModulator at 0x140439271841776\nFields:\n  description: example SLM\n  manufacturer: SLM manufacturer\n  size: [500 500]\n\n  type: LED\n  wavelength: 320"
     },
     "execution_count": 4,
     "metadata": {},
     "output_type": "execute_result"
    }
   ],
   "source": [
    "photostim_dev = PhotostimulationDevice(name='photostimulation_device', description=\"example photostimulation device\",\n",
    "                                       manufacturer=\"device manufacturer\", type='LED', wavelength=320, opsin=\"example opsin\")\n",
    "photostim_dev.add_slm(slm)\n",
    "\n",
    "nwbfile = NWBFile('my first synthetic recording','EXAMPLE_ID',datetime.now(tzlocal()))\n",
    "nwbfile.add_device(photostim_dev)"
   ],
   "metadata": {
    "collapsed": false,
    "pycharm": {
     "name": "#%%\n"
    }
   }
  },
  {
   "cell_type": "markdown",
   "source": [
    "## Holographic stimulation pattern\n",
    "\n",
    "The container `HolographicPattern` is used to store data corresponding to the pattern of stimulation for a given trial. The primary\n",
    "input to the function is a set of ROIs, that denote whether a given pixel is stimulated (encoded as 1) or not stimulated (encoded as 0)\n",
    "when that stimulus is presented. There are two ways to specify the ROIs: as an `image_mask_roi` or a `pixel_roi` (described below)."
   ],
   "metadata": {
    "collapsed": false
   }
  },
  {
   "cell_type": "markdown",
   "source": [
    "### ROIs specified using an image mask\n",
    "\n",
    "In the `image_mask_roi`, the input to `HolographicPattern` is an array or list with dimensionality `[width, height]` or `[width, height, depth`] covering the entire field of view. ROIs that are stimulated are encoded by 1 values, and unstimulated regions by zeros.\n",
    "\n",
    "In the example below, we simulate a `[50, 50]` pixel field of view, and randomly select 5 ROIs with a width and height of 5 pixels. To store the pattern in a `HolographicPattern` object, we use specify the ROIs using the `mask_roi` input argument on construction. A helper method `show_mask()` shows the simulated stimulated regions."
   ],
   "metadata": {
    "collapsed": false
   }
  },
  {
   "cell_type": "code",
   "execution_count": 5,
   "outputs": [
    {
     "data": {
      "text/plain": "<Figure size 640x480 with 1 Axes>",
      "image/png": "[encoded data removed]"
     },
     "metadata": {},
     "output_type": "display_data"
    }
   ],
   "source": [
    "image_mask_roi = np.zeros((50, 50))\n",
    "\n",
    "n_rois = 5\n",
    "for _ in range(n_rois):\n",
    "    x = np.random.randint(0, 45)\n",
    "    y = np.random.randint(0, 45)\n",
    "    image_mask_roi[x:x + 5, y:y + 5] = 1\n",
    "\n",
    "hp_1 = HolographicPattern(name='pattern 1', image_mask_roi=image_mask_roi)\n",
    "hp_1.show_mask()"
   ],
   "metadata": {
    "collapsed": false,
    "pycharm": {
     "name": "#%%\n"
    }
   }
  },
  {
   "cell_type": "markdown",
   "source": [
    "### ROIs specified by the center and diameter of each region\n",
    "\n",
    "Additionally, we provide a second method for specifying ROIs, the `pixel_roi`. `pixel_roi` inputs are a two- or three-dimensional vector of size `[num_rois, 3]` (in 2D stimulation) or `[num_rois, 4]` (in 3D stimulation). In the 2D case, `pixel_roi` takes the form `[(x1, y1), (x2, y2), ...]`, where `x` and `y` values correspond with the center of the ROI (in pixels). Similarly, in the 3D case, each element in the input takes the form `(x, y, z)`, where `z` denotes the depth of stimulation.\n",
    "\n",
    "As compared to `image_mask_roi`, `pixel_roi` construction require two additional specifications: `stimulation_diameter` and `dimension`. `stimulation_diameter` denotes, in pixels, the radius of the ROI centered at input location `(x, y)` or `(x, y, z)`. That is, each row of `pixel_roi` corresponds to an ROI at a given location, extending `stimulation_diameter` pixels in every direction. Additionally, the dimensions of the field of view, in pixels, must be specified by the `dimension` parameter, where `dimension=[width, height]` or `[width, height, depth]`.\n",
    "\n",
    "An example of a `HolographicPattern` with a `pixel_roi` input is shown below. This example includes 5 randomly-selected ROIs in a `[100, 100]` field of view, with a `stimulation_diameter` of 8 pixels. We use the helper function `show_mask()` to visualize the pattern."
   ],
   "metadata": {
    "collapsed": false
   }
  },
  {
   "cell_type": "code",
   "execution_count": 6,
   "outputs": [
    {
     "data": {
      "text/plain": "<Figure size 640x480 with 1 Axes>",
      "image/png": "[encoded data removed]"
     },
     "metadata": {},
     "output_type": "display_data"
    }
   ],
   "source": [
    "pixel_roi = []\n",
    "\n",
    "for i in range(5):\n",
    "    x = np.random.randint(0, 95)\n",
    "    y = np.random.randint(0, 95)\n",
    "\n",
    "    for ix in range(x, x + 1):\n",
    "        for iy in range(y, y + 1):\n",
    "            pixel_roi.append((ix, iy))\n",
    "\n",
    "hp_2 = HolographicPattern(name='pattern 2', pixel_roi=pixel_roi, ROI_size=8, dimension=[100, 100])\n",
    "hp_2.show_mask()"
   ],
   "metadata": {
    "collapsed": false,
    "pycharm": {
     "name": "#%%\n"
    }
   }
  },
  {
   "cell_type": "code",
   "execution_count": 7,
   "outputs": [
    {
     "data": {
      "text/plain": "<Figure size 640x480 with 1 Axes>",
      "image/png": "[encoded data removed]"
     },
     "metadata": {},
     "output_type": "display_data"
    }
   ],
   "source": [
    "pixel_roi = []\n",
    "\n",
    "for i in range(5):\n",
    "    x = np.random.randint(0, 95)\n",
    "    y = np.random.randint(0, 95)\n",
    "\n",
    "    for ix in range(x, x + 1):\n",
    "        for iy in range(y, y + 1):\n",
    "            pixel_roi.append((ix, iy))\n",
    "\n",
    "hp_2 = HolographicPattern(name='pattern 2', pixel_roi=pixel_roi, ROI_size=[6, 2], dimension=[100, 100])\n",
    "hp_2.show_mask()"
   ],
   "metadata": {
    "collapsed": false,
    "pycharm": {
     "name": "#%%\n"
    }
   }
  },
  {
   "cell_type": "markdown",
   "source": [
    "## Stimulation series\n",
    "\n",
    "The presentation of a given stimulation pattern over time is stored via the `PhotostimulationSeries` container.\n",
    "\n"
   ],
   "metadata": {
    "collapsed": false
   }
  },
  {
   "cell_type": "markdown",
   "source": [
    "### Interval format\n",
    "\n",
    "In the `'interval'` format, we store the onset and cessation of stimulus presentation using a 1D array consisting of the values 1 (stimulus on) and -1 (stimulus off). The corresponding times for the start and stop of the stimulus are specified via the `timestamps` property, where `data[i]==1` denotes that the stimulus was presented at time `timestamps[i]`, and `data[i+1]==-1` denotes it stopped at time `timestamps[i+1]` (time is specified in seconds). For example, in the cell below, we note that pattern `hp_1` was presented from seconds `0.5` to `1`, and then again from seconds `2` to `4`."
   ],
   "metadata": {
    "collapsed": false
   }
  },
  {
   "cell_type": "code",
   "execution_count": 8,
   "outputs": [
    {
     "name": "stdout",
     "output_type": "stream",
     "text": [
      "[ 1 -1  1 -1] [0.5 1.  2.  4. ]\n"
     ]
    }
   ],
   "source": [
    "stim_series_1 = PhotostimulationSeries(name=\"series 1\", format='interval', holographic_pattern=hp_1, data=[1, -1, 1, -1], timestamps=[0.5, 1, 2, 4])"
   ],
   "metadata": {
    "collapsed": false,
    "pycharm": {
     "name": "#%%\n"
    }
   }
  },
  {
   "cell_type": "markdown",
   "source": [
    "While we can specify the `data` and `timestamps` directly, we can also initialize an empty `PhotostimulationSeries` (by not providing a `data` or `timestamps` input), and use the function `add_interval(start, stop)` to store the presentation of the stimulus from time `start` to time `stop`. In the example below, the first call indicates presentation of the stimulus between seconds `10` and `20`, and then again from seconds `35` to `40`. We can call the helper method `to_dataframe()` to display `data` and `timestamps` simultaneously."
   ],
   "metadata": {
    "collapsed": false
   }
  },
  {
   "cell_type": "code",
   "execution_count": 9,
   "outputs": [
    {
     "name": "stdout",
     "output_type": "stream",
     "text": [
      "[ 1 -1  1 -1] [0.5 1.  2.  4. ]\n",
      "   data  timestamps\n",
      "0     1         0.5\n",
      "1    -1         1.0\n",
      "2     1         2.0\n",
      "3    -1         4.0\n",
      "4     1        10.0\n",
      "5    -1        20.0\n",
      "6     1        35.0\n",
      "7    -1        40.0\n"
     ]
    }
   ],
   "source": [
    "stim_series_2 = PhotostimulationSeries(name=\"series 2\", format='interval',  data=[1, -1, 1, -1], timestamps=[0.5, 1, 2, 4], holographic_pattern=hp_2)\n",
    "stim_series_2.add_interval(10., 20.)\n",
    "stim_series_2.add_interval(35., 40.)\n",
    "\n",
    "print(stim_series_2.to_dataframe())"
   ],
   "metadata": {
    "collapsed": false,
    "pycharm": {
     "name": "#%%\n"
    }
   }
  },
  {
   "cell_type": "markdown",
   "source": [
    "### Series format\n",
    "\n",
    "In addition to the interval format, we can also encode presentation time series data as a \"series.\" In this format, rather than indicating the start and stop of stimulation,`data` consists of a 1D array of 0s and 1s denoting whether a stimulus was on or off at a given time step. In the example below, we note that the data is `[0, 1, 0, 1, 1, 0]`, the rate (i.e., the rate at which data are sampled, in Hz) is `10`, and the `stimulus_duration` is `0.05` (meaning that, at each time point where the stimulus is \"on\", denoted by a value of 1, it remains on for 0.05 seconds). In the case of the fourth element (`data[3]=1`), for example, the `rate` indicates that this point corresponds to 0.4 seconds into the trial (since `rate=10`, meaning there are 10 evenly-sampled data points per second). Since the value of the element is `1`, the stimulus was presented at that time, for `stimulus_duration=0.05` seconds. Expressed as an interval, the fourth time step indicates the stimulus was presented from *t*=0.4 to *t=0.05*.\n",
    "\n",
    "While less easily interpretable, we include `format=`series'` as an option for the time series format because it may more closely align with the data collection modalities used in photostimulation methods."
   ],
   "metadata": {
    "collapsed": false
   }
  },
  {
   "cell_type": "code",
   "execution_count": 10,
   "outputs": [
    {
     "name": "stdout",
     "output_type": "stream",
     "text": [
      "   data  timestamps\n",
      "0     0         0.0\n",
      "1     1         0.1\n",
      "2     0         0.2\n",
      "3     1         0.3\n",
      "4     1         0.4\n",
      "5     0         0.5\n"
     ]
    }
   ],
   "source": [
    "stim_series_3 = PhotostimulationSeries(name=\"series 3\", holographic_pattern=hp_1, format='series', stimulus_duration = 0.05, data=[0, 1, 0, 1, 1, 0], rate=10.)\n",
    "print(stim_series_3.to_dataframe())"
   ],
   "metadata": {
    "collapsed": false,
    "pycharm": {
     "name": "#%%\n"
    }
   }
  },
  {
   "cell_type": "markdown",
   "source": [
    "In the example above, we use the `rate` parameter instead of `timestamps` to express the times `data` correspond to. In the `'series'` format, we can still specify timestamps directly, as we did for the interval series. Here, the data `data[i]` corresponds to an interval beginning at time `timestamps[i]` and ending at time `timestamps[i]+stimulus_duration`. Note that `PhotostimulationSeries` requires one of either `rate` or `timestamps` to be specified for the series format, in order for data to be added.\n",
    "\n",
    "In addition to adding data directly, we can also add data using the `add_onset(time)` method, which denotes the onset of the stimulus at time `time` (for duration `stimulus_duration`)."
   ],
   "metadata": {
    "collapsed": false
   }
  },
  {
   "cell_type": "code",
   "execution_count": 11,
   "outputs": [
    {
     "name": "stdout",
     "output_type": "stream",
     "text": [
      "   data  timestamps\n",
      "0     0         0.0\n",
      "1     1         0.5\n",
      "2     0         2.0\n",
      "3     1         4.0\n",
      "4     1         5.0\n",
      "5     1        10.0\n",
      "6     1        14.0\n",
      "7     1        50.0\n"
     ]
    }
   ],
   "source": [
    "stim_series_4 = PhotostimulationSeries(name=\"series 4\", holographic_pattern=hp_2, format='series', stimulus_duration = 0.05, data=[0, 1, 0, 1], timestamps=[0, 0.5, 2, 4])\n",
    "stim_series_4.add_onset(5)\n",
    "stim_series_4.add_onset([10, 14, 50])\n",
    "print(stim_series_4.to_dataframe())"
   ],
   "metadata": {
    "collapsed": false,
    "pycharm": {
     "name": "#%%\n"
    }
   }
  },
  {
   "cell_type": "markdown",
   "source": [
    "The `add_presentation` function also works for the `'interval'` format:"
   ],
   "metadata": {
    "collapsed": false
   }
  },
  {
   "cell_type": "code",
   "execution_count": 12,
   "outputs": [
    {
     "name": "stdout",
     "output_type": "stream",
     "text": [
      "   data  timestamps\n",
      "0   1.0         1.0\n",
      "1  -1.0         3.0\n",
      "2   1.0        10.0\n",
      "3  -1.0        12.0\n",
      "4   1.0        18.0\n",
      "5  -1.0        20.0\n",
      "6   1.0        24.0\n",
      "7  -1.0        26.0\n"
     ]
    }
   ],
   "source": [
    "stim_series_5 = PhotostimulationSeries(name=\"series 5\", format='interval', holographic_pattern=hp_1, stimulus_duration=2)\n",
    "stim_series_5.add_onset(1)\n",
    "stim_series_5.add_onset([10, 18, 24])\n",
    "print(stim_series_5.to_dataframe())"
   ],
   "metadata": {
    "collapsed": false,
    "pycharm": {
     "name": "#%%\n"
    }
   }
  },
  {
   "cell_type": "code",
   "execution_count": 13,
   "outputs": [],
   "source": [
    "for stim in [stim_series_1, stim_series_2, stim_series_3, stim_series_4, stim_series_5]:\n",
    "# for stim in [stim_series_5]:\n",
    "    nwbfile.add_stimulus(stim)"
   ],
   "metadata": {
    "collapsed": false,
    "pycharm": {
     "name": "#%%\n"
    }
   }
  },
  {
   "cell_type": "markdown",
   "source": [
    "## PhotostimulationTable"
   ],
   "metadata": {
    "collapsed": false
   }
  },
  {
   "cell_type": "code",
   "execution_count": 14,
   "outputs": [
    {
     "name": "stdout",
     "output_type": "stream",
     "text": [
      "         row series_name series_format  num_samples  start_time  stop_time  \\\n",
      "id                                                                           \n",
      "0   series_0    series 1      interval            4         0.0       4.00   \n",
      "1   series_1    series 2      interval            8         0.0      40.00   \n",
      "2   series_2    series 3        series            6         0.0       0.25   \n",
      "3   series_3    series 4        series            8         0.0      50.00   \n",
      "4   series_4    series 5      interval            8         0.0      26.00   \n",
      "\n",
      "   pattern_name                            photostimulation_series  \n",
      "id                                                                  \n",
      "0     pattern 1  series 1 file_classes.PhotostimulationSeries a...  \n",
      "1     pattern 2  series 2 file_classes.PhotostimulationSeries a...  \n",
      "2     pattern 1  series 3 file_classes.PhotostimulationSeries a...  \n",
      "3     pattern 2  series 4 file_classes.PhotostimulationSeries a...  \n",
      "4     pattern 1  series 5 file_classes.PhotostimulationSeries a...  \n"
     ]
    }
   ],
   "source": [
    "sp = PhotostimulationTable(name='test', description='test desc', photostimulation_device=photostim_dev, stimulus_method='asas', sweeping_method=\"sweeping_method\",\n",
    "                           time_per_sweep=0.01, num_sweeps=10)\n",
    "sp.add_series([stim_series_1, stim_series_2, stim_series_3, stim_series_4, stim_series_5])\n",
    "# sp.add_series([stim_series_5])\n",
    "print(sp.to_dataframe())"
   ],
   "metadata": {
    "collapsed": false,
    "pycharm": {
     "name": "#%%\n"
    }
   }
  },
  {
   "cell_type": "markdown",
   "source": [
    "### Plotting PhotostimulationTable timestamps\n",
    "\n",
    "The timestamps for each series in the `PhotostimulationTable` can be plotted simultaneously using the visualization function `plot()`."
   ],
   "metadata": {
    "collapsed": false
   }
  },
  {
   "cell_type": "code",
   "execution_count": 15,
   "outputs": [
    {
     "data": {
      "text/plain": "<Figure size 640x480 with 1 Axes>",
      "image/png": "[encoded data removed]"
     },
     "metadata": {},
     "output_type": "display_data"
    }
   ],
   "source": [
    "sp.plot()"
   ],
   "metadata": {
    "collapsed": false,
    "pycharm": {
     "name": "#%%\n"
    }
   }
  },
  {
   "cell_type": "markdown",
   "source": [
    "### Creating a photostimulation processing module"
   ],
   "metadata": {
    "collapsed": false
   }
  },
  {
   "cell_type": "code",
   "execution_count": 16,
   "outputs": [
    {
     "data": {
      "text/plain": "test file_classes.PhotostimulationTable at 0x140438862466448\nFields:\n  colnames: ['row' 'series_name' 'series_format' 'num_samples' 'start_time'\n 'stop_time' 'pattern_name' 'photostimulation_series']\n  columns: (\n    row <class 'hdmf.common.table.VectorData'>,\n    series_name <class 'hdmf.common.table.VectorData'>,\n    series_format <class 'hdmf.common.table.VectorData'>,\n    num_samples <class 'hdmf.common.table.VectorData'>,\n    start_time <class 'hdmf.common.table.VectorData'>,\n    stop_time <class 'hdmf.common.table.VectorData'>,\n    pattern_name <class 'hdmf.common.table.VectorData'>,\n    photostimulation_series <class 'hdmf.common.table.VectorData'>\n  )\n  description: test desc\n  id: id <class 'hdmf.common.table.ElementIdentifiers'>\n  num_sweeps: 10\n  photostimulation_device: photostimulation_device file_classes.PhotostimulationDevice at 0x140439271843408\nFields:\n  description: example photostimulation device\n  manufacturer: device manufacturer\n  opsin: example opsin\n  slm: example_SLM file_classes.SpatialLightModulator at 0x140439271841776\nFields:\n  description: example SLM\n  manufacturer: SLM manufacturer\n  size: [500 500]\n\n  type: LED\n  wavelength: 320\n\n  stimulus_method: asas\n  sweeping_method: sweeping_method\n  time_per_sweep: 0.01"
     },
     "execution_count": 16,
     "metadata": {},
     "output_type": "execute_result"
    }
   ],
   "source": [
    "behavior_module = nwbfile.create_processing_module(name=\"holographic_photostim\", description=\"initial data\")\n",
    "behavior_module.add(sp)"
   ],
   "metadata": {
    "collapsed": false,
    "pycharm": {
     "name": "#%%\n"
    }
   }
  },
  {
   "cell_type": "markdown",
   "source": [
    "## Writing the file"
   ],
   "metadata": {
    "collapsed": false
   }
  },
  {
   "cell_type": "code",
   "execution_count": 17,
   "outputs": [],
   "source": [
    "import os\n",
    "os.remove(\"basics_tutorial.h5\")\n",
    "with NWBHDF5IO(\"basics_tutorial.h5\", \"w\") as io:\n",
    "    io.write(stim_series_2)"
   ],
   "metadata": {
    "collapsed": false,
    "pycharm": {
     "name": "#%%\n"
    }
   }
  },
  {
   "cell_type": "markdown",
   "source": [
    "## Reading the file"
   ],
   "metadata": {
    "collapsed": false
   }
  },
  {
   "cell_type": "code",
   "execution_count": 18,
   "outputs": [
    {
     "name": "stdout",
     "output_type": "stream",
     "text": [
      "<HDF5 dataset \"data\": shape (8,), type \"<i8\"> <HDF5 dataset \"timestamps\": shape (4,), type \"<f8\">\n"
     ]
    },
    {
     "ename": "ConstructError",
     "evalue": "(root GroupBuilder {'attributes': {'comments': 'no comments', 'description': 'no description', 'format': 'interval', 'namespace': 'test', 'neurodata_type': 'PhotostimulationSeries', 'object_id': '3579ed68-6734-4c9b-a804-0e3610ee8fac'}, 'groups': {'pattern 2': root/pattern 2 GroupBuilder {'attributes': {'dimension': array([100, 100]), 'namespace': 'test', 'neurodata_type': 'HolographicPattern', 'object_id': '9b8ae8a5-4be1-46bd-b608-140a938cf83b'}, 'groups': {}, 'datasets': {'pixel_roi': root/pattern 2/pixel_roi DatasetBuilder {'attributes': {'ROI_size': array([6, 2])}, 'data': <Closed HDF5 dataset>}}, 'links': {}}}, 'datasets': {'data': root/data DatasetBuilder {'attributes': {'conversion': 1.0, 'offset': 0.0, 'resolution': -1.0, 'unit': 'seconds'}, 'data': <Closed HDF5 dataset>}, 'timestamps': root/timestamps DatasetBuilder {'attributes': {'interval': 1, 'unit': 'seconds'}, 'data': <Closed HDF5 dataset>}}, 'links': {}}, \"Could not construct PhotostimulationSeries object due to: 'data' and 'timestamps' need to be the same length\")",
     "output_type": "error",
     "traceback": [
      "\u001B[0;31m---------------------------------------------------------------------------\u001B[0m",
      "\u001B[0;31mValueError\u001B[0m                                Traceback (most recent call last)",
      "File \u001B[0;32m~/opt/anaconda3/envs/nwb-photostim/lib/python3.10/site-packages/hdmf/build/objectmapper.py:1248\u001B[0m, in \u001B[0;36mObjectMapper.construct\u001B[0;34m(self, **kwargs)\u001B[0m\n\u001B[1;32m   1247\u001B[0m \u001B[38;5;28;01mtry\u001B[39;00m:\n\u001B[0;32m-> 1248\u001B[0m     obj \u001B[38;5;241m=\u001B[39m \u001B[38;5;28;43mself\u001B[39;49m\u001B[38;5;241;43m.\u001B[39;49m\u001B[43m__new_container__\u001B[49m\u001B[43m(\u001B[49m\u001B[38;5;28;43mcls\u001B[39;49m\u001B[43m,\u001B[49m\u001B[43m \u001B[49m\u001B[43mbuilder\u001B[49m\u001B[38;5;241;43m.\u001B[39;49m\u001B[43msource\u001B[49m\u001B[43m,\u001B[49m\u001B[43m \u001B[49m\u001B[43mparent\u001B[49m\u001B[43m,\u001B[49m\u001B[43m \u001B[49m\u001B[43mbuilder\u001B[49m\u001B[38;5;241;43m.\u001B[39;49m\u001B[43mattributes\u001B[49m\u001B[38;5;241;43m.\u001B[39;49m\u001B[43mget\u001B[49m\u001B[43m(\u001B[49m\u001B[38;5;28;43mself\u001B[39;49m\u001B[38;5;241;43m.\u001B[39;49m\u001B[43m__spec\u001B[49m\u001B[38;5;241;43m.\u001B[39;49m\u001B[43mid_key\u001B[49m\u001B[43m(\u001B[49m\u001B[43m)\u001B[49m\u001B[43m)\u001B[49m\u001B[43m,\u001B[49m\n\u001B[1;32m   1249\u001B[0m \u001B[43m                                 \u001B[49m\u001B[38;5;241;43m*\u001B[39;49m\u001B[38;5;241;43m*\u001B[39;49m\u001B[43mkwargs\u001B[49m\u001B[43m)\u001B[49m\n\u001B[1;32m   1250\u001B[0m \u001B[38;5;28;01mexcept\u001B[39;00m \u001B[38;5;167;01mException\u001B[39;00m \u001B[38;5;28;01mas\u001B[39;00m ex:\n",
      "File \u001B[0;32m~/opt/anaconda3/envs/nwb-photostim/lib/python3.10/site-packages/hdmf/build/objectmapper.py:1261\u001B[0m, in \u001B[0;36mObjectMapper.__new_container__\u001B[0;34m(self, cls, container_source, parent, object_id, **kwargs)\u001B[0m\n\u001B[1;32m   1259\u001B[0m \u001B[38;5;66;03m# obj has been created and is in construction mode, indicating that the object is being constructed by\u001B[39;00m\n\u001B[1;32m   1260\u001B[0m \u001B[38;5;66;03m# the automatic construct process during read, rather than by the user\u001B[39;00m\n\u001B[0;32m-> 1261\u001B[0m \u001B[43mobj\u001B[49m\u001B[38;5;241;43m.\u001B[39;49m\u001B[38;5;21;43m__init__\u001B[39;49m\u001B[43m(\u001B[49m\u001B[38;5;241;43m*\u001B[39;49m\u001B[38;5;241;43m*\u001B[39;49m\u001B[43mkwargs\u001B[49m\u001B[43m)\u001B[49m\n\u001B[1;32m   1262\u001B[0m obj\u001B[38;5;241m.\u001B[39m_in_construct_mode \u001B[38;5;241m=\u001B[39m \u001B[38;5;28;01mFalse\u001B[39;00m  \u001B[38;5;66;03m# reset to False to indicate that the construction of the object is complete\u001B[39;00m\n",
      "File \u001B[0;32m~/opt/anaconda3/envs/nwb-photostim/lib/python3.10/site-packages/hdmf/utils.py:645\u001B[0m, in \u001B[0;36mdocval.<locals>.dec.<locals>.func_call\u001B[0;34m(*args, **kwargs)\u001B[0m\n\u001B[1;32m    644\u001B[0m pargs \u001B[38;5;241m=\u001B[39m _check_args(args, kwargs)\n\u001B[0;32m--> 645\u001B[0m \u001B[38;5;28;01mreturn\u001B[39;00m \u001B[43mfunc\u001B[49m\u001B[43m(\u001B[49m\u001B[43margs\u001B[49m\u001B[43m[\u001B[49m\u001B[38;5;241;43m0\u001B[39;49m\u001B[43m]\u001B[49m\u001B[43m,\u001B[49m\u001B[43m \u001B[49m\u001B[38;5;241;43m*\u001B[39;49m\u001B[38;5;241;43m*\u001B[39;49m\u001B[43mpargs\u001B[49m\u001B[43m)\u001B[49m\n",
      "File \u001B[0;32m~/PycharmProjects/nwb-photostim/file_classes.py:265\u001B[0m, in \u001B[0;36mPhotostimulationSeries.__init__\u001B[0;34m(self, **kwargs)\u001B[0m\n\u001B[1;32m    264\u001B[0m \u001B[38;5;28;01mif\u001B[39;00m \u001B[38;5;28mlen\u001B[39m(kwargs[\u001B[38;5;124m'\u001B[39m\u001B[38;5;124mdata\u001B[39m\u001B[38;5;124m'\u001B[39m]) \u001B[38;5;241m!=\u001B[39m \u001B[38;5;28mlen\u001B[39m(kwargs[\u001B[38;5;124m'\u001B[39m\u001B[38;5;124mtimestamps\u001B[39m\u001B[38;5;124m'\u001B[39m]):\n\u001B[0;32m--> 265\u001B[0m     \u001B[38;5;28;01mraise\u001B[39;00m \u001B[38;5;167;01mValueError\u001B[39;00m(\u001B[38;5;124m\"\u001B[39m\u001B[38;5;124m'\u001B[39m\u001B[38;5;124mdata\u001B[39m\u001B[38;5;124m'\u001B[39m\u001B[38;5;124m and \u001B[39m\u001B[38;5;124m'\u001B[39m\u001B[38;5;124mtimestamps\u001B[39m\u001B[38;5;124m'\u001B[39m\u001B[38;5;124m need to be the same length\u001B[39m\u001B[38;5;124m\"\u001B[39m)\n\u001B[1;32m    267\u001B[0m \u001B[38;5;28;01mif\u001B[39;00m \u001B[38;5;28mlen\u001B[39m(np\u001B[38;5;241m.\u001B[39msetdiff1d(np\u001B[38;5;241m.\u001B[39munique((kwargs[\u001B[38;5;124m'\u001B[39m\u001B[38;5;124mdata\u001B[39m\u001B[38;5;124m'\u001B[39m]\u001B[38;5;241m.\u001B[39mastype(\u001B[38;5;28mint\u001B[39m))), np\u001B[38;5;241m.\u001B[39marray([\u001B[38;5;241m-\u001B[39m\u001B[38;5;241m1\u001B[39m, \u001B[38;5;241m1\u001B[39m]))) \u001B[38;5;241m>\u001B[39m \u001B[38;5;241m0\u001B[39m:\n",
      "\u001B[0;31mValueError\u001B[0m: 'data' and 'timestamps' need to be the same length",
      "\nThe above exception was the direct cause of the following exception:\n",
      "\u001B[0;31mConstructError\u001B[0m                            Traceback (most recent call last)",
      "Input \u001B[0;32mIn [18]\u001B[0m, in \u001B[0;36m<cell line: 1>\u001B[0;34m()\u001B[0m\n\u001B[1;32m      1\u001B[0m \u001B[38;5;28;01mwith\u001B[39;00m NWBHDF5IO(\u001B[38;5;124m\"\u001B[39m\u001B[38;5;124mbasics_tutorial.h5\u001B[39m\u001B[38;5;124m\"\u001B[39m, \u001B[38;5;124m\"\u001B[39m\u001B[38;5;124mr\u001B[39m\u001B[38;5;124m\"\u001B[39m, load_namespaces\u001B[38;5;241m=\u001B[39m\u001B[38;5;28;01mTrue\u001B[39;00m) \u001B[38;5;28;01mas\u001B[39;00m io:\n\u001B[0;32m----> 2\u001B[0m     read_nwbfile \u001B[38;5;241m=\u001B[39m \u001B[43mio\u001B[49m\u001B[38;5;241;43m.\u001B[39;49m\u001B[43mread\u001B[49m\u001B[43m(\u001B[49m\u001B[43m)\u001B[49m\n\u001B[1;32m      3\u001B[0m \u001B[38;5;28mprint\u001B[39m(read_nwbfile)\n",
      "File \u001B[0;32m~/opt/anaconda3/envs/nwb-photostim/lib/python3.10/site-packages/hdmf/backends/hdf5/h5tools.py:451\u001B[0m, in \u001B[0;36mHDF5IO.read\u001B[0;34m(self, **kwargs)\u001B[0m\n\u001B[1;32m    448\u001B[0m     \u001B[38;5;28;01mraise\u001B[39;00m UnsupportedOperation(\u001B[38;5;124m\"\u001B[39m\u001B[38;5;124mCannot read from file \u001B[39m\u001B[38;5;132;01m%s\u001B[39;00m\u001B[38;5;124m in mode \u001B[39m\u001B[38;5;124m'\u001B[39m\u001B[38;5;132;01m%s\u001B[39;00m\u001B[38;5;124m'\u001B[39m\u001B[38;5;124m. Please use mode \u001B[39m\u001B[38;5;124m'\u001B[39m\u001B[38;5;124mr\u001B[39m\u001B[38;5;124m'\u001B[39m\u001B[38;5;124m, \u001B[39m\u001B[38;5;124m'\u001B[39m\u001B[38;5;124mr+\u001B[39m\u001B[38;5;124m'\u001B[39m\u001B[38;5;124m, or \u001B[39m\u001B[38;5;124m'\u001B[39m\u001B[38;5;124ma\u001B[39m\u001B[38;5;124m'\u001B[39m\u001B[38;5;124m.\u001B[39m\u001B[38;5;124m\"\u001B[39m\n\u001B[1;32m    449\u001B[0m                                \u001B[38;5;241m%\u001B[39m (\u001B[38;5;28mself\u001B[39m\u001B[38;5;241m.\u001B[39msource, \u001B[38;5;28mself\u001B[39m\u001B[38;5;241m.\u001B[39m__mode))\n\u001B[1;32m    450\u001B[0m \u001B[38;5;28;01mtry\u001B[39;00m:\n\u001B[0;32m--> 451\u001B[0m     \u001B[38;5;28;01mreturn\u001B[39;00m \u001B[38;5;28;43msuper\u001B[39;49m\u001B[43m(\u001B[49m\u001B[43m)\u001B[49m\u001B[38;5;241;43m.\u001B[39;49m\u001B[43mread\u001B[49m\u001B[43m(\u001B[49m\u001B[38;5;241;43m*\u001B[39;49m\u001B[38;5;241;43m*\u001B[39;49m\u001B[43mkwargs\u001B[49m\u001B[43m)\u001B[49m\n\u001B[1;32m    452\u001B[0m \u001B[38;5;28;01mexcept\u001B[39;00m UnsupportedOperation \u001B[38;5;28;01mas\u001B[39;00m e:\n\u001B[1;32m    453\u001B[0m     \u001B[38;5;28;01mif\u001B[39;00m \u001B[38;5;28mstr\u001B[39m(e) \u001B[38;5;241m==\u001B[39m \u001B[38;5;124m'\u001B[39m\u001B[38;5;124mCannot build data. There are no values.\u001B[39m\u001B[38;5;124m'\u001B[39m:  \u001B[38;5;66;03m# pragma: no cover\u001B[39;00m\n",
      "File \u001B[0;32m~/opt/anaconda3/envs/nwb-photostim/lib/python3.10/site-packages/hdmf/utils.py:645\u001B[0m, in \u001B[0;36mdocval.<locals>.dec.<locals>.func_call\u001B[0;34m(*args, **kwargs)\u001B[0m\n\u001B[1;32m    643\u001B[0m \u001B[38;5;28;01mdef\u001B[39;00m \u001B[38;5;21mfunc_call\u001B[39m(\u001B[38;5;241m*\u001B[39margs, \u001B[38;5;241m*\u001B[39m\u001B[38;5;241m*\u001B[39mkwargs):\n\u001B[1;32m    644\u001B[0m     pargs \u001B[38;5;241m=\u001B[39m _check_args(args, kwargs)\n\u001B[0;32m--> 645\u001B[0m     \u001B[38;5;28;01mreturn\u001B[39;00m \u001B[43mfunc\u001B[49m\u001B[43m(\u001B[49m\u001B[43margs\u001B[49m\u001B[43m[\u001B[49m\u001B[38;5;241;43m0\u001B[39;49m\u001B[43m]\u001B[49m\u001B[43m,\u001B[49m\u001B[43m \u001B[49m\u001B[38;5;241;43m*\u001B[39;49m\u001B[38;5;241;43m*\u001B[39;49m\u001B[43mpargs\u001B[49m\u001B[43m)\u001B[49m\n",
      "File \u001B[0;32m~/opt/anaconda3/envs/nwb-photostim/lib/python3.10/site-packages/hdmf/backends/io.py:42\u001B[0m, in \u001B[0;36mHDMFIO.read\u001B[0;34m(self, **kwargs)\u001B[0m\n\u001B[1;32m     39\u001B[0m \u001B[38;5;28;01mif\u001B[39;00m \u001B[38;5;28mall\u001B[39m(\u001B[38;5;28mlen\u001B[39m(v) \u001B[38;5;241m==\u001B[39m \u001B[38;5;241m0\u001B[39m \u001B[38;5;28;01mfor\u001B[39;00m v \u001B[38;5;129;01min\u001B[39;00m f_builder\u001B[38;5;241m.\u001B[39mvalues()):\n\u001B[1;32m     40\u001B[0m     \u001B[38;5;66;03m# TODO also check that the keys are appropriate. print a better error message\u001B[39;00m\n\u001B[1;32m     41\u001B[0m     \u001B[38;5;28;01mraise\u001B[39;00m UnsupportedOperation(\u001B[38;5;124m'\u001B[39m\u001B[38;5;124mCannot build data. There are no values.\u001B[39m\u001B[38;5;124m'\u001B[39m)\n\u001B[0;32m---> 42\u001B[0m container \u001B[38;5;241m=\u001B[39m \u001B[38;5;28;43mself\u001B[39;49m\u001B[38;5;241;43m.\u001B[39;49m\u001B[43m__manager\u001B[49m\u001B[38;5;241;43m.\u001B[39;49m\u001B[43mconstruct\u001B[49m\u001B[43m(\u001B[49m\u001B[43mf_builder\u001B[49m\u001B[43m)\u001B[49m\n\u001B[1;32m     43\u001B[0m \u001B[38;5;28;01mreturn\u001B[39;00m container\n",
      "File \u001B[0;32m~/opt/anaconda3/envs/nwb-photostim/lib/python3.10/site-packages/hdmf/utils.py:645\u001B[0m, in \u001B[0;36mdocval.<locals>.dec.<locals>.func_call\u001B[0;34m(*args, **kwargs)\u001B[0m\n\u001B[1;32m    643\u001B[0m \u001B[38;5;28;01mdef\u001B[39;00m \u001B[38;5;21mfunc_call\u001B[39m(\u001B[38;5;241m*\u001B[39margs, \u001B[38;5;241m*\u001B[39m\u001B[38;5;241m*\u001B[39mkwargs):\n\u001B[1;32m    644\u001B[0m     pargs \u001B[38;5;241m=\u001B[39m _check_args(args, kwargs)\n\u001B[0;32m--> 645\u001B[0m     \u001B[38;5;28;01mreturn\u001B[39;00m \u001B[43mfunc\u001B[49m\u001B[43m(\u001B[49m\u001B[43margs\u001B[49m\u001B[43m[\u001B[49m\u001B[38;5;241;43m0\u001B[39;49m\u001B[43m]\u001B[49m\u001B[43m,\u001B[49m\u001B[43m \u001B[49m\u001B[38;5;241;43m*\u001B[39;49m\u001B[38;5;241;43m*\u001B[39;49m\u001B[43mpargs\u001B[49m\u001B[43m)\u001B[49m\n",
      "File \u001B[0;32m~/opt/anaconda3/envs/nwb-photostim/lib/python3.10/site-packages/hdmf/build/manager.py:280\u001B[0m, in \u001B[0;36mBuildManager.construct\u001B[0;34m(self, **kwargs)\u001B[0m\n\u001B[1;32m    276\u001B[0m     result \u001B[38;5;241m=\u001B[39m \u001B[38;5;28mself\u001B[39m\u001B[38;5;241m.\u001B[39m__type_map\u001B[38;5;241m.\u001B[39mconstruct(builder, \u001B[38;5;28mself\u001B[39m, parent)\n\u001B[1;32m    277\u001B[0m \u001B[38;5;28;01melse\u001B[39;00m:\n\u001B[1;32m    278\u001B[0m     \u001B[38;5;66;03m# we are at the top of the hierarchy,\u001B[39;00m\n\u001B[1;32m    279\u001B[0m     \u001B[38;5;66;03m# so it must be time to resolve parents\u001B[39;00m\n\u001B[0;32m--> 280\u001B[0m     result \u001B[38;5;241m=\u001B[39m \u001B[38;5;28;43mself\u001B[39;49m\u001B[38;5;241;43m.\u001B[39;49m\u001B[43m__type_map\u001B[49m\u001B[38;5;241;43m.\u001B[39;49m\u001B[43mconstruct\u001B[49m\u001B[43m(\u001B[49m\u001B[43mbuilder\u001B[49m\u001B[43m,\u001B[49m\u001B[43m \u001B[49m\u001B[38;5;28;43mself\u001B[39;49m\u001B[43m,\u001B[49m\u001B[43m \u001B[49m\u001B[38;5;28;43;01mNone\u001B[39;49;00m\u001B[43m)\u001B[49m\n\u001B[1;32m    281\u001B[0m     \u001B[38;5;28mself\u001B[39m\u001B[38;5;241m.\u001B[39m__resolve_parents(result)\n\u001B[1;32m    282\u001B[0m \u001B[38;5;28mself\u001B[39m\u001B[38;5;241m.\u001B[39mprebuilt(result, builder)\n",
      "File \u001B[0;32m~/opt/anaconda3/envs/nwb-photostim/lib/python3.10/site-packages/hdmf/utils.py:645\u001B[0m, in \u001B[0;36mdocval.<locals>.dec.<locals>.func_call\u001B[0;34m(*args, **kwargs)\u001B[0m\n\u001B[1;32m    643\u001B[0m \u001B[38;5;28;01mdef\u001B[39;00m \u001B[38;5;21mfunc_call\u001B[39m(\u001B[38;5;241m*\u001B[39margs, \u001B[38;5;241m*\u001B[39m\u001B[38;5;241m*\u001B[39mkwargs):\n\u001B[1;32m    644\u001B[0m     pargs \u001B[38;5;241m=\u001B[39m _check_args(args, kwargs)\n\u001B[0;32m--> 645\u001B[0m     \u001B[38;5;28;01mreturn\u001B[39;00m \u001B[43mfunc\u001B[49m\u001B[43m(\u001B[49m\u001B[43margs\u001B[49m\u001B[43m[\u001B[49m\u001B[38;5;241;43m0\u001B[39;49m\u001B[43m]\u001B[49m\u001B[43m,\u001B[49m\u001B[43m \u001B[49m\u001B[38;5;241;43m*\u001B[39;49m\u001B[38;5;241;43m*\u001B[39;49m\u001B[43mpargs\u001B[49m\u001B[43m)\u001B[49m\n",
      "File \u001B[0;32m~/opt/anaconda3/envs/nwb-photostim/lib/python3.10/site-packages/hdmf/build/manager.py:789\u001B[0m, in \u001B[0;36mTypeMap.construct\u001B[0;34m(self, **kwargs)\u001B[0m\n\u001B[1;32m    787\u001B[0m     \u001B[38;5;28;01mraise\u001B[39;00m \u001B[38;5;167;01mValueError\u001B[39;00m(\u001B[38;5;124m'\u001B[39m\u001B[38;5;124mNo ObjectMapper found for builder of type \u001B[39m\u001B[38;5;132;01m%s\u001B[39;00m\u001B[38;5;124m'\u001B[39m \u001B[38;5;241m%\u001B[39m dt)\n\u001B[1;32m    788\u001B[0m \u001B[38;5;28;01melse\u001B[39;00m:\n\u001B[0;32m--> 789\u001B[0m     \u001B[38;5;28;01mreturn\u001B[39;00m \u001B[43mobj_mapper\u001B[49m\u001B[38;5;241;43m.\u001B[39;49m\u001B[43mconstruct\u001B[49m\u001B[43m(\u001B[49m\u001B[43mbuilder\u001B[49m\u001B[43m,\u001B[49m\u001B[43m \u001B[49m\u001B[43mbuild_manager\u001B[49m\u001B[43m,\u001B[49m\u001B[43m \u001B[49m\u001B[43mparent\u001B[49m\u001B[43m)\u001B[49m\n",
      "File \u001B[0;32m~/opt/anaconda3/envs/nwb-photostim/lib/python3.10/site-packages/hdmf/utils.py:645\u001B[0m, in \u001B[0;36mdocval.<locals>.dec.<locals>.func_call\u001B[0;34m(*args, **kwargs)\u001B[0m\n\u001B[1;32m    643\u001B[0m \u001B[38;5;28;01mdef\u001B[39;00m \u001B[38;5;21mfunc_call\u001B[39m(\u001B[38;5;241m*\u001B[39margs, \u001B[38;5;241m*\u001B[39m\u001B[38;5;241m*\u001B[39mkwargs):\n\u001B[1;32m    644\u001B[0m     pargs \u001B[38;5;241m=\u001B[39m _check_args(args, kwargs)\n\u001B[0;32m--> 645\u001B[0m     \u001B[38;5;28;01mreturn\u001B[39;00m \u001B[43mfunc\u001B[49m\u001B[43m(\u001B[49m\u001B[43margs\u001B[49m\u001B[43m[\u001B[49m\u001B[38;5;241;43m0\u001B[39;49m\u001B[43m]\u001B[49m\u001B[43m,\u001B[49m\u001B[43m \u001B[49m\u001B[38;5;241;43m*\u001B[39;49m\u001B[38;5;241;43m*\u001B[39;49m\u001B[43mpargs\u001B[49m\u001B[43m)\u001B[49m\n",
      "File \u001B[0;32m~/opt/anaconda3/envs/nwb-photostim/lib/python3.10/site-packages/hdmf/build/objectmapper.py:1252\u001B[0m, in \u001B[0;36mObjectMapper.construct\u001B[0;34m(self, **kwargs)\u001B[0m\n\u001B[1;32m   1250\u001B[0m \u001B[38;5;28;01mexcept\u001B[39;00m \u001B[38;5;167;01mException\u001B[39;00m \u001B[38;5;28;01mas\u001B[39;00m ex:\n\u001B[1;32m   1251\u001B[0m     msg \u001B[38;5;241m=\u001B[39m \u001B[38;5;124m'\u001B[39m\u001B[38;5;124mCould not construct \u001B[39m\u001B[38;5;132;01m%s\u001B[39;00m\u001B[38;5;124m object due to: \u001B[39m\u001B[38;5;132;01m%s\u001B[39;00m\u001B[38;5;124m'\u001B[39m \u001B[38;5;241m%\u001B[39m (\u001B[38;5;28mcls\u001B[39m\u001B[38;5;241m.\u001B[39m\u001B[38;5;18m__name__\u001B[39m, ex)\n\u001B[0;32m-> 1252\u001B[0m     \u001B[38;5;28;01mraise\u001B[39;00m ConstructError(builder, msg) \u001B[38;5;28;01mfrom\u001B[39;00m \u001B[38;5;21;01mex\u001B[39;00m\n\u001B[1;32m   1253\u001B[0m \u001B[38;5;28;01mreturn\u001B[39;00m obj\n",
      "\u001B[0;31mConstructError\u001B[0m: (root GroupBuilder {'attributes': {'comments': 'no comments', 'description': 'no description', 'format': 'interval', 'namespace': 'test', 'neurodata_type': 'PhotostimulationSeries', 'object_id': '3579ed68-6734-4c9b-a804-0e3610ee8fac'}, 'groups': {'pattern 2': root/pattern 2 GroupBuilder {'attributes': {'dimension': array([100, 100]), 'namespace': 'test', 'neurodata_type': 'HolographicPattern', 'object_id': '9b8ae8a5-4be1-46bd-b608-140a938cf83b'}, 'groups': {}, 'datasets': {'pixel_roi': root/pattern 2/pixel_roi DatasetBuilder {'attributes': {'ROI_size': array([6, 2])}, 'data': <Closed HDF5 dataset>}}, 'links': {}}}, 'datasets': {'data': root/data DatasetBuilder {'attributes': {'conversion': 1.0, 'offset': 0.0, 'resolution': -1.0, 'unit': 'seconds'}, 'data': <Closed HDF5 dataset>}, 'timestamps': root/timestamps DatasetBuilder {'attributes': {'interval': 1, 'unit': 'seconds'}, 'data': <Closed HDF5 dataset>}}, 'links': {}}, \"Could not construct PhotostimulationSeries object due to: 'data' and 'timestamps' need to be the same length\")"
     ]
    }
   ],
   "source": [
    "with NWBHDF5IO(\"basics_tutorial.h5\", \"r\", load_namespaces=True) as io:\n",
    "    read_nwbfile = io.read()\n",
    "print(read_nwbfile)"
   ],
   "metadata": {
    "collapsed": false,
    "pycharm": {
     "name": "#%%\n"
    }
   }
  },
  {
   "cell_type": "code",
   "execution_count": null,
   "outputs": [],
   "source": [
    "print(read_nwbfile.processing['holographic_photostim'])"
   ],
   "metadata": {
    "collapsed": false,
    "pycharm": {
     "name": "#%%\n"
    }
   }
  },
  {
   "cell_type": "code",
   "execution_count": null,
   "outputs": [],
   "source": [],
   "metadata": {
    "collapsed": false,
    "pycharm": {
     "name": "#%%\n"
    }
   }
  }
 ],
 "metadata": {
  "kernelspec": {
   "display_name": "Python 3",
   "language": "python",
   "name": "python3"
  },
  "language_info": {
   "codemirror_mode": {
    "name": "ipython",
    "version": 2
   },
   "file_extension": ".py",
   "mimetype": "text/x-python",
   "name": "python",
   "nbconvert_exporter": "python",
   "pygments_lexer": "ipython2",
   "version": "2.7.6"
  }
 },
 "nbformat": 4,
 "nbformat_minor": 0
}