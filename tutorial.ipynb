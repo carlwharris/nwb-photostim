{
 "cells": [
  {
   "cell_type": "markdown",
   "source": [
    "Using the nwb_photostim package"
   ],
   "metadata": {
    "collapsed": false
   }
  },
  {
   "cell_type": "code",
   "execution_count": 44,
   "outputs": [
    {
     "name": "stdout",
     "output_type": "stream",
     "text": [
      "The autoreload extension is already loaded. To reload it, use:\n",
      "  %reload_ext autoreload\n"
     ]
    }
   ],
   "source": [
    "%load_ext autoreload\n",
    "%autoreload 2"
   ],
   "metadata": {
    "collapsed": false,
    "pycharm": {
     "name": "#%%\n"
    }
   }
  },
  {
   "cell_type": "code",
   "execution_count": 45,
   "outputs": [],
   "source": [
    "from pynwb import NWBFile\n",
    "from file_classes import SpatialLightModulator, PhotostimulationDevice, HolographicPattern, PhotostimulationSeries, StimulusPresentation\n",
    "import numpy as np\n",
    "from dateutil.tz import tzlocal\n",
    "from pynwb import NWBHDF5IO\n",
    "from datetime import datetime\n"
   ],
   "metadata": {
    "collapsed": false,
    "pycharm": {
     "name": "#%%\n"
    }
   }
  },
  {
   "cell_type": "markdown",
   "source": [
    "## Spatial light modulator"
   ],
   "metadata": {
    "collapsed": false
   }
  },
  {
   "cell_type": "code",
   "execution_count": 46,
   "outputs": [],
   "source": [
    "slm = SpatialLightModulator(name='example_SLM', description=\"example SLM\", manufacturer=\"SLM manufacturer\", size=[500, 500])"
   ],
   "metadata": {
    "collapsed": false,
    "pycharm": {
     "name": "#%%\n"
    }
   }
  },
  {
   "cell_type": "markdown",
   "source": [
    "## PhotostimulationDevice"
   ],
   "metadata": {
    "collapsed": false
   }
  },
  {
   "cell_type": "code",
   "execution_count": 47,
   "outputs": [
    {
     "data": {
      "text/plain": "photostimulation_device file_classes.PhotostimulationDevice at 0x140443974046752\nFields:\n  description: example photostimulation device\n  manufacturer: device manufacturer\n  opsin: example opsin\n  slm: example_SLM file_classes.SpatialLightModulator at 0x140443974050304\nFields:\n  description: example SLM\n  manufacturer: SLM manufacturer\n  size: [500 500]\n\n  type: LED\n  wavelength: 320"
     },
     "execution_count": 47,
     "metadata": {},
     "output_type": "execute_result"
    }
   ],
   "source": [
    "photostim_dev = PhotostimulationDevice(name='photostimulation_device', description=\"example photostimulation device\",\n",
    "                                       manufacturer=\"device manufacturer\", type='LED', wavelength=320, opsin=\"example opsin\", slm=slm)\n",
    "nwbfile = NWBFile(\n",
    "    'my first synthetic recording',\n",
    "    'EXAMPLE_ID',\n",
    "    datetime.now(tzlocal()),\n",
    ")\n",
    "nwbfile.add_device(photostim_dev)"
   ],
   "metadata": {
    "collapsed": false,
    "pycharm": {
     "name": "#%%\n"
    }
   }
  },
  {
   "cell_type": "markdown",
   "source": [
    "## Holographic stimulation pattern\n",
    "\n",
    "The container `HolographicPattern` is used to store data corresponding to the pattern of stimulation for a given trial. The primary\n",
    "input to the function is a set of ROIs, that denote whether a given pixel is stimulated (encoded as 1) or not stimulated (encoded as 0)\n",
    "when that stimulus is presented. There are two ways to specify the ROIs: as an `image_mask_roi` or a `pixel_roi` (described below)."
   ],
   "metadata": {
    "collapsed": false
   }
  },
  {
   "cell_type": "markdown",
   "source": [
    "### ROIs specified using an image mask\n",
    "\n",
    "In the `image_mask_roi`, the input to `HolographicPattern` is an array or list with dimensionality `[width, height]` or `[width, height, depth`] covering the entire field of view. ROIs that are stimulated are encoded by 1 values, and unstimulated regions by zeros.\n",
    "\n",
    "In the example below, we simulate a `[50, 50]` pixel field of view, and randomly select 5 ROIs with a width and height of 5 pixels. To store the pattern in a `HolographicPattern` object, we use specify the ROIs using the `mask_roi` input argument on construction. A helper method `show_mask()` shows the simulated stimulated regions."
   ],
   "metadata": {
    "collapsed": false
   }
  },
  {
   "cell_type": "code",
   "execution_count": 50,
   "outputs": [
    {
     "data": {
      "text/plain": "<Figure size 640x480 with 1 Axes>",
      "image/png": "[encoded data removed]"
     },
     "metadata": {},
     "output_type": "display_data"
    }
   ],
   "source": [
    "image_mask_roi = np.zeros((50, 50))\n",
    "\n",
    "n_rois = 5\n",
    "for _ in range(n_rois):\n",
    "    x = np.random.randint(0, 45)\n",
    "    y = np.random.randint(0, 45)\n",
    "    mask_roi[x:x + 5, y:y + 5] = 1\n",
    "\n",
    "hp_1 = HolographicPattern(name='pattern 1', image_mask_roi=mask_roi)\n",
    "hp_1.show_mask()"
   ],
   "metadata": {
    "collapsed": false,
    "pycharm": {
     "name": "#%%\n"
    }
   }
  },
  {
   "cell_type": "markdown",
   "source": [
    "### ROIs specified by the center and diameter of each region\n",
    "\n",
    "Additionally, we provide a second method for specifying ROIs, the `pixel_roi`. `pixel_roi` inputs are a two- or three-dimensional vector of size `[num_rois, 3]` (in 2D stimulation) or `[num_rois, 4]` (in 3D stimulation). In the 2D case, `pixel_roi` takes the form `[(x1, y1), (x2, y2), ...]`, where `x` and `y` values correspond with the center of the ROI (in pixels). Similarly, in the 3D case, each element in the input takes the form `(x, y, z)`, where `z` denotes the depth of stimulation.\n",
    "\n",
    "As compared to `image_mask_roi`, `pixel_roi` construction require two additional specifications: `stimulation_diameter` and `dimension`. `stimulation_diameter` denotes, in pixels, the radius of the ROI centered at input location `(x, y)` or `(x, y, z)`. That is, each row of `pixel_roi` corresponds to an ROI at a given location, extending `stimulation_diameter` pixels in every direction. Additionally, the dimensions of the field of view, in pixels, must be specified by the `dimension` parameter, where `dimension=[width, height]` or `[width, height, depth]`.\n",
    "\n",
    "An example of a `HolographicPattern` with a `pixel_roi` input is shown below. This example includes 5 randomly-selected ROIs in a `[100, 100]` field of view, with a `stimulation_diameter` of 8 pixels. We use the helper function `show_mask()` to visualize the pattern."
   ],
   "metadata": {
    "collapsed": false
   }
  },
  {
   "cell_type": "code",
   "execution_count": 51,
   "outputs": [
    {
     "data": {
      "text/plain": "<Figure size 640x480 with 1 Axes>",
      "image/png": "[encoded data removed]"
     },
     "metadata": {},
     "output_type": "display_data"
    }
   ],
   "source": [
    "pixel_roi = []\n",
    "\n",
    "for i in range(5):\n",
    "    x = np.random.randint(0, 95)\n",
    "    y = np.random.randint(0, 95)\n",
    "\n",
    "    for ix in range(x, x + 1):\n",
    "        for iy in range(y, y + 1):\n",
    "            pixel_roi.append((ix, iy, 1))\n",
    "\n",
    "hp_2 = HolographicPattern(name='pattern 2', pixel_roi=pixel_roi, stimulation_diameter=8, dimension=[100, 100])\n",
    "hp_2.show_mask()"
   ],
   "metadata": {
    "collapsed": false,
    "pycharm": {
     "name": "#%%\n"
    }
   }
  },
  {
   "cell_type": "markdown",
   "source": [
    "## Stimulation series\n",
    "\n",
    "The presentation of a given stimulation pattern over time is stored via the `PhotostimulationSeries` container.\n",
    "\n"
   ],
   "metadata": {
    "collapsed": false
   }
  },
  {
   "cell_type": "markdown",
   "source": [
    "### Interval format\n",
    "\n",
    "In the `'interval'` format, we store the onset and cessation of stimulus presentation using a 1D array consisting of the values 1 (stimulus on) and -1 (stimulus off). The corresponding times for the start and stop of the stimulus are specified via the `timestamps` property, where `data[i]==1` denotes that the stimulus was presented at time `timestamps[i]`, and `data[i+1]==-1` denotes it stopped at time `timestamps[i+1]` (time is specified in seconds). For example, in the cell below, we note that pattern `hp_1` was presented from seconds `0.5` to `1`, and then again from seconds `2` to `4`."
   ],
   "metadata": {
    "collapsed": false
   }
  },
  {
   "cell_type": "code",
   "execution_count": 52,
   "outputs": [],
   "source": [
    "stim_series_1 = PhotostimulationSeries(name=\"series 1\", format='interval', holographic_pattern=hp_1, data=[1, -1, 1, -1], timestamps=[0.5, 1, 2, 4])"
   ],
   "metadata": {
    "collapsed": false,
    "pycharm": {
     "name": "#%%\n"
    }
   }
  },
  {
   "cell_type": "markdown",
   "source": [
    "While we can specify the `data` and `timestamps` directly, we can also initialize an empty `PhotostimulationSeries` (by not providing a `data` or `timestamps` input), and use the function `add_interval(start, stop)` to store the presentation of the stimulus from time `start` to time `stop`. In the example below, the first call indicates presentation of the stimulus between seconds `10` and `20`, and then again from seconds `35` to `40`. We can call the helper method `to_dataframe()` to display `data` and `timestamps` simultaneously."
   ],
   "metadata": {
    "collapsed": false
   }
  },
  {
   "cell_type": "code",
   "execution_count": 53,
   "outputs": [
    {
     "name": "stdout",
     "output_type": "stream",
     "text": [
      "   data  timestamps\n",
      "0   1.0        10.0\n",
      "1  -1.0        20.0\n",
      "2   1.0        35.0\n",
      "3  -1.0        40.0\n"
     ]
    }
   ],
   "source": [
    "stim_series_2 = PhotostimulationSeries(name=\"series 2\", format='interval', holographic_pattern=hp_2)\n",
    "stim_series_2.add_interval(10, 20)\n",
    "stim_series_2.add_interval(35, 40)\n",
    "\n",
    "print(stim_series_2.to_dataframe())"
   ],
   "metadata": {
    "collapsed": false,
    "pycharm": {
     "name": "#%%\n"
    }
   }
  },
  {
   "cell_type": "markdown",
   "source": [
    "### Series format\n",
    "\n",
    "In addition to the interval format, we can also encode presentation time series data as a \"series.\" In this format, rather than indicating the start and stop of stimulation,`data` consists of a 1D array of 0s and 1s denoting whether a stimulus was on or off at a given time step. In the example below, we note that the data is `[0, 1, 0, 1, 1, 0]`, the rate (i.e., the rate at which data are sampled, in Hz) is `10`, and the `stimulus_duration` is `0.05` (meaning that, at each time point where the stimulus is \"on\", denoted by a value of 1, it remains on for 0.05 seconds). In the case of the fourth element (`data[3]=1`), for example, the `rate` indicates that this point corresponds to 0.4 seconds into the trial (since `rate=10`, meaning there are 10 evenly-sampled data points per second). Since the value of the element is `1`, the stimulus was presented at that time, for `stimulus_duration=0.05` seconds. Expressed as an interval, the fourth time step indicates the stimulus was presented from *t*=0.4 to *t=0.05*.\n",
    "\n",
    "While less easily interpretable, we include `format=`series'` as an option for the time series format because it may more closely align with the data collection modalities used in photostimulation methods."
   ],
   "metadata": {
    "collapsed": false
   }
  },
  {
   "cell_type": "code",
   "execution_count": 54,
   "outputs": [
    {
     "name": "stdout",
     "output_type": "stream",
     "text": [
      "   data  timestamps\n",
      "0     0        0.00\n",
      "1     1        0.05\n",
      "2     0        0.10\n",
      "3     1        0.15\n",
      "4     1        0.20\n",
      "5     0        0.25\n"
     ]
    }
   ],
   "source": [
    "stim_series_3 = PhotostimulationSeries(name=\"series 3\", holographic_pattern=hp_1, format='series', stimulus_duration = 0.05, data=[0, 1, 0, 1, 1, 0], rate=10.)\n",
    "print(stim_series_3.to_dataframe())"
   ],
   "metadata": {
    "collapsed": false,
    "pycharm": {
     "name": "#%%\n"
    }
   }
  },
  {
   "cell_type": "markdown",
   "source": [
    "In the example above, we use the `rate` parameter instead of `timestamps` to express the times `data` correspond to. In the `'series'` format, we can still specify timestamps directly, as we did for the interval series. Here, the data `data[i]` corresponds to an interval beginning at time `timestamps[i]` and ending at time `timestamps[i]+stimulus_duration`. Note that `PhotostimulationSeries` requires one of either `rate` or `timestamps` to be specified for the series format, in order for data to be added.\n",
    "\n",
    "In addition to adding data directly, we can also add data using the `add_onset(time)` method, which denotes the onset of the stimulus at time `time` (for duration `stimulus_duration`)."
   ],
   "metadata": {
    "collapsed": false
   }
  },
  {
   "cell_type": "code",
   "execution_count": 55,
   "outputs": [
    {
     "name": "stdout",
     "output_type": "stream",
     "text": [
      "   data  timestamps\n",
      "0     0         0.0\n",
      "1     1         0.5\n",
      "2     0         2.0\n",
      "3     1         4.0\n",
      "4     1         5.0\n",
      "5     1        10.0\n",
      "6     1        14.0\n",
      "7     1        50.0\n"
     ]
    }
   ],
   "source": [
    "stim_series_4 = PhotostimulationSeries(name=\"series 4\", holographic_pattern=hp_2, format='series', stimulus_duration = 0.05, data=[0, 1, 0, 1], timestamps=[0, 0.5, 2, 4])\n",
    "stim_series_4.add_presentation(5)\n",
    "stim_series_4.add_presentation([10, 14, 50])\n",
    "print(stim_series_4.to_dataframe())"
   ],
   "metadata": {
    "collapsed": false,
    "pycharm": {
     "name": "#%%\n"
    }
   }
  },
  {
   "cell_type": "markdown",
   "source": [
    "The `add_presentation` function also works for the `'interval'` format:"
   ],
   "metadata": {
    "collapsed": false
   }
  },
  {
   "cell_type": "code",
   "execution_count": 57,
   "outputs": [
    {
     "name": "stdout",
     "output_type": "stream",
     "text": [
      "   data  timestamps\n",
      "0   1.0         1.0\n",
      "1  -1.0         3.0\n",
      "2   1.0        10.0\n",
      "3  -1.0        12.0\n",
      "4   1.0        18.0\n",
      "5  -1.0        20.0\n",
      "6   1.0        24.0\n",
      "7  -1.0        26.0\n"
     ]
    }
   ],
   "source": [
    "stim_series_5 = PhotostimulationSeries(name=\"series 5\", format='interval', holographic_pattern=hp_1, stimulus_duration=2)\n",
    "stim_series_5.add_presentation(1)\n",
    "stim_series_5.add_presentation([10, 18, 24])\n",
    "print(stim_series_5.to_dataframe())"
   ],
   "metadata": {
    "collapsed": false,
    "pycharm": {
     "name": "#%%\n"
    }
   }
  },
  {
   "cell_type": "code",
   "execution_count": null,
   "outputs": [],
   "source": [
    "sp = StimulusPresentation(name='test', description='test desc', photostimulation_device=photostim_dev, stimulus_method='asas')\n",
    "sp.add_event_type(label='stim1', stimulus_description='d1', PhotostimulationSeries=photostim_series, HolographicPattern=hp)\n",
    "sp.add_event_type(label='stim2', stimulus_description='d2', PhotostimulationSeries=photostim_series, HolographicPattern=hp)\n",
    "sp.add_event_type(label='stim2', stimulus_description='d2', PhotostimulationSeries=photostim_series, HolographicPattern=hp)\n",
    "print(sp.to_dataframe())"
   ],
   "metadata": {
    "collapsed": false,
    "pycharm": {
     "name": "#%%\n"
    }
   }
  },
  {
   "cell_type": "code",
   "execution_count": 43,
   "outputs": [],
   "source": [
    "for stim in [stim_series_1, stim_series_2, stim_series_3, stim_series_4, stim_series_5]:\n",
    "    nwbfile.add_stimulus(stim)"
   ],
   "metadata": {
    "collapsed": false,
    "pycharm": {
     "name": "#%%\n"
    }
   }
  },
  {
   "cell_type": "markdown",
   "source": [
    "## PhotostimulationTable"
   ],
   "metadata": {
    "collapsed": false
   }
  },
  {
   "cell_type": "code",
   "execution_count": 13,
   "outputs": [
    {
     "name": "stdout",
     "output_type": "stream",
     "text": [
      "    label stimulus_description  \\\n",
      "id                               \n",
      "0   stim1                   d1   \n",
      "1   stim2                   d2   \n",
      "2   stim2                   d2   \n",
      "\n",
      "                               PhotostimulationSeries  \\\n",
      "id                                                      \n",
      "0   photosim series file_classes.PhotostimulationS...   \n",
      "1   photosim series file_classes.PhotostimulationS...   \n",
      "2   photosim series file_classes.PhotostimulationS...   \n",
      "\n",
      "                                   HolographicPattern  \n",
      "id                                                     \n",
      "0   HolographicPattern file_classes.HolographicPat...  \n",
      "1   HolographicPattern file_classes.HolographicPat...  \n",
      "2   HolographicPattern file_classes.HolographicPat...  \n"
     ]
    }
   ],
   "source": [
    "sp = StimulusPresentation(name='test', description='test desc', photostimulation_device=photostim_dev, stimulus_method='asas')\n",
    "sp.add_series(label='stim1', stimulus_description='d1', PhotostimulationSeries=photostim_series, HolographicPattern=hp)\n",
    "sp.add_event_type(label='stim2', stimulus_description='d2', PhotostimulationSeries=photostim_series, HolographicPattern=hp)\n",
    "sp.add_event_type(label='stim2', stimulus_description='d2', PhotostimulationSeries=photostim_series, HolographicPattern=hp)\n",
    "print(sp.to_dataframe())"
   ],
   "metadata": {
    "collapsed": false,
    "pycharm": {
     "name": "#%%\n"
    }
   }
  },
  {
   "cell_type": "markdown",
   "source": [
    "Displaying table"
   ],
   "metadata": {
    "collapsed": false
   }
  },
  {
   "cell_type": "code",
   "execution_count": 13,
   "outputs": [],
   "source": [],
   "metadata": {
    "collapsed": false,
    "pycharm": {
     "name": "#%%\n"
    }
   }
  },
  {
   "cell_type": "markdown",
   "source": [
    "Plotting stimulation intervals"
   ],
   "metadata": {
    "collapsed": false
   }
  },
  {
   "cell_type": "code",
   "execution_count": 13,
   "outputs": [],
   "source": [],
   "metadata": {
    "collapsed": false,
    "pycharm": {
     "name": "#%%\n"
    }
   }
  },
  {
   "cell_type": "markdown",
   "source": [
    "## Writing the file"
   ],
   "metadata": {
    "collapsed": false
   }
  },
  {
   "cell_type": "code",
   "execution_count": 14,
   "outputs": [
    {
     "ename": "ReferenceTargetNotBuiltError",
     "evalue": "HolographicPattern (test/HolographicPattern): Could not find already-built Builder for HolographicPattern 'HolographicPattern' in BuildManager",
     "output_type": "error",
     "traceback": [
      "\u001B[0;31m---------------------------------------------------------------------------\u001B[0m",
      "\u001B[0;31mReferenceTargetNotBuiltError\u001B[0m              Traceback (most recent call last)",
      "Input \u001B[0;32mIn [14]\u001B[0m, in \u001B[0;36m<cell line: 8>\u001B[0;34m()\u001B[0m\n\u001B[1;32m      6\u001B[0m nwb_file \u001B[38;5;241m=\u001B[39m NWBFile(session_description\u001B[38;5;241m=\u001B[39m\u001B[38;5;124m'\u001B[39m\u001B[38;5;124mtest file\u001B[39m\u001B[38;5;124m'\u001B[39m, identifier\u001B[38;5;241m=\u001B[39m\u001B[38;5;124m'\u001B[39m\u001B[38;5;124mEXAMPLE_ID\u001B[39m\u001B[38;5;124m'\u001B[39m, session_start_time\u001B[38;5;241m=\u001B[39mdatetime\u001B[38;5;241m.\u001B[39mnow(tzlocal()))\n\u001B[1;32m      8\u001B[0m \u001B[38;5;28;01mwith\u001B[39;00m NWBHDF5IO(\u001B[38;5;124m\"\u001B[39m\u001B[38;5;124mbasics_tutorial.nwb\u001B[39m\u001B[38;5;124m\"\u001B[39m, \u001B[38;5;124m\"\u001B[39m\u001B[38;5;124mw\u001B[39m\u001B[38;5;124m\"\u001B[39m) \u001B[38;5;28;01mas\u001B[39;00m io:\n\u001B[0;32m----> 9\u001B[0m     \u001B[43mio\u001B[49m\u001B[38;5;241;43m.\u001B[39;49m\u001B[43mwrite\u001B[49m\u001B[43m(\u001B[49m\u001B[43msp\u001B[49m\u001B[43m)\u001B[49m\n\u001B[1;32m     11\u001B[0m \u001B[38;5;28;01mwith\u001B[39;00m NWBHDF5IO(\u001B[38;5;124m\"\u001B[39m\u001B[38;5;124mbasics_tutorial.nwb\u001B[39m\u001B[38;5;124m\"\u001B[39m, \u001B[38;5;124m\"\u001B[39m\u001B[38;5;124mr\u001B[39m\u001B[38;5;124m\"\u001B[39m, load_namespaces\u001B[38;5;241m=\u001B[39m\u001B[38;5;28;01mTrue\u001B[39;00m) \u001B[38;5;28;01mas\u001B[39;00m io:\n\u001B[1;32m     12\u001B[0m     read_nwbfile \u001B[38;5;241m=\u001B[39m io\u001B[38;5;241m.\u001B[39mread()\n",
      "File \u001B[0;32m~/opt/anaconda3/envs/nwb-photostim/lib/python3.10/site-packages/hdmf/utils.py:645\u001B[0m, in \u001B[0;36mdocval.<locals>.dec.<locals>.func_call\u001B[0;34m(*args, **kwargs)\u001B[0m\n\u001B[1;32m    643\u001B[0m \u001B[38;5;28;01mdef\u001B[39;00m \u001B[38;5;21mfunc_call\u001B[39m(\u001B[38;5;241m*\u001B[39margs, \u001B[38;5;241m*\u001B[39m\u001B[38;5;241m*\u001B[39mkwargs):\n\u001B[1;32m    644\u001B[0m     pargs \u001B[38;5;241m=\u001B[39m _check_args(args, kwargs)\n\u001B[0;32m--> 645\u001B[0m     \u001B[38;5;28;01mreturn\u001B[39;00m \u001B[43mfunc\u001B[49m\u001B[43m(\u001B[49m\u001B[43margs\u001B[49m\u001B[43m[\u001B[49m\u001B[38;5;241;43m0\u001B[39;49m\u001B[43m]\u001B[49m\u001B[43m,\u001B[49m\u001B[43m \u001B[49m\u001B[38;5;241;43m*\u001B[39;49m\u001B[38;5;241;43m*\u001B[39;49m\u001B[43mpargs\u001B[49m\u001B[43m)\u001B[49m\n",
      "File \u001B[0;32m~/opt/anaconda3/envs/nwb-photostim/lib/python3.10/site-packages/hdmf/backends/hdf5/h5tools.py:358\u001B[0m, in \u001B[0;36mHDF5IO.write\u001B[0;34m(self, **kwargs)\u001B[0m\n\u001B[1;32m    353\u001B[0m     \u001B[38;5;28;01mraise\u001B[39;00m UnsupportedOperation((\u001B[38;5;124m\"\u001B[39m\u001B[38;5;124mCannot write to file \u001B[39m\u001B[38;5;132;01m%s\u001B[39;00m\u001B[38;5;124m in mode \u001B[39m\u001B[38;5;124m'\u001B[39m\u001B[38;5;132;01m%s\u001B[39;00m\u001B[38;5;124m'\u001B[39m\u001B[38;5;124m. \u001B[39m\u001B[38;5;124m\"\u001B[39m\n\u001B[1;32m    354\u001B[0m                                 \u001B[38;5;124m\"\u001B[39m\u001B[38;5;124mPlease use mode \u001B[39m\u001B[38;5;124m'\u001B[39m\u001B[38;5;124mr+\u001B[39m\u001B[38;5;124m'\u001B[39m\u001B[38;5;124m, \u001B[39m\u001B[38;5;124m'\u001B[39m\u001B[38;5;124mw\u001B[39m\u001B[38;5;124m'\u001B[39m\u001B[38;5;124m, \u001B[39m\u001B[38;5;124m'\u001B[39m\u001B[38;5;124mw-\u001B[39m\u001B[38;5;124m'\u001B[39m\u001B[38;5;124m, \u001B[39m\u001B[38;5;124m'\u001B[39m\u001B[38;5;124mx\u001B[39m\u001B[38;5;124m'\u001B[39m\u001B[38;5;124m, or \u001B[39m\u001B[38;5;124m'\u001B[39m\u001B[38;5;124ma\u001B[39m\u001B[38;5;124m'\u001B[39m\u001B[38;5;124m\"\u001B[39m)\n\u001B[1;32m    355\u001B[0m                                \u001B[38;5;241m%\u001B[39m (\u001B[38;5;28mself\u001B[39m\u001B[38;5;241m.\u001B[39msource, \u001B[38;5;28mself\u001B[39m\u001B[38;5;241m.\u001B[39m__mode))\n\u001B[1;32m    357\u001B[0m cache_spec \u001B[38;5;241m=\u001B[39m popargs(\u001B[38;5;124m'\u001B[39m\u001B[38;5;124mcache_spec\u001B[39m\u001B[38;5;124m'\u001B[39m, kwargs)\n\u001B[0;32m--> 358\u001B[0m \u001B[38;5;28;43msuper\u001B[39;49m\u001B[43m(\u001B[49m\u001B[43m)\u001B[49m\u001B[38;5;241;43m.\u001B[39;49m\u001B[43mwrite\u001B[49m\u001B[43m(\u001B[49m\u001B[38;5;241;43m*\u001B[39;49m\u001B[38;5;241;43m*\u001B[39;49m\u001B[43mkwargs\u001B[49m\u001B[43m)\u001B[49m\n\u001B[1;32m    359\u001B[0m \u001B[38;5;28;01mif\u001B[39;00m cache_spec:\n\u001B[1;32m    360\u001B[0m     \u001B[38;5;28mself\u001B[39m\u001B[38;5;241m.\u001B[39m__cache_spec()\n",
      "File \u001B[0;32m~/opt/anaconda3/envs/nwb-photostim/lib/python3.10/site-packages/hdmf/utils.py:645\u001B[0m, in \u001B[0;36mdocval.<locals>.dec.<locals>.func_call\u001B[0;34m(*args, **kwargs)\u001B[0m\n\u001B[1;32m    643\u001B[0m \u001B[38;5;28;01mdef\u001B[39;00m \u001B[38;5;21mfunc_call\u001B[39m(\u001B[38;5;241m*\u001B[39margs, \u001B[38;5;241m*\u001B[39m\u001B[38;5;241m*\u001B[39mkwargs):\n\u001B[1;32m    644\u001B[0m     pargs \u001B[38;5;241m=\u001B[39m _check_args(args, kwargs)\n\u001B[0;32m--> 645\u001B[0m     \u001B[38;5;28;01mreturn\u001B[39;00m \u001B[43mfunc\u001B[49m\u001B[43m(\u001B[49m\u001B[43margs\u001B[49m\u001B[43m[\u001B[49m\u001B[38;5;241;43m0\u001B[39;49m\u001B[43m]\u001B[49m\u001B[43m,\u001B[49m\u001B[43m \u001B[49m\u001B[38;5;241;43m*\u001B[39;49m\u001B[38;5;241;43m*\u001B[39;49m\u001B[43mpargs\u001B[49m\u001B[43m)\u001B[49m\n",
      "File \u001B[0;32m~/opt/anaconda3/envs/nwb-photostim/lib/python3.10/site-packages/hdmf/backends/io.py:50\u001B[0m, in \u001B[0;36mHDMFIO.write\u001B[0;34m(self, **kwargs)\u001B[0m\n\u001B[1;32m     48\u001B[0m \u001B[38;5;124;03m\"\"\"Write a container to the IO source.\"\"\"\u001B[39;00m\n\u001B[1;32m     49\u001B[0m container \u001B[38;5;241m=\u001B[39m popargs(\u001B[38;5;124m'\u001B[39m\u001B[38;5;124mcontainer\u001B[39m\u001B[38;5;124m'\u001B[39m, kwargs)\n\u001B[0;32m---> 50\u001B[0m f_builder \u001B[38;5;241m=\u001B[39m \u001B[38;5;28;43mself\u001B[39;49m\u001B[38;5;241;43m.\u001B[39;49m\u001B[43m__manager\u001B[49m\u001B[38;5;241;43m.\u001B[39;49m\u001B[43mbuild\u001B[49m\u001B[43m(\u001B[49m\u001B[43mcontainer\u001B[49m\u001B[43m,\u001B[49m\u001B[43m \u001B[49m\u001B[43msource\u001B[49m\u001B[38;5;241;43m=\u001B[39;49m\u001B[38;5;28;43mself\u001B[39;49m\u001B[38;5;241;43m.\u001B[39;49m\u001B[43m__source\u001B[49m\u001B[43m,\u001B[49m\u001B[43m \u001B[49m\u001B[43mroot\u001B[49m\u001B[38;5;241;43m=\u001B[39;49m\u001B[38;5;28;43;01mTrue\u001B[39;49;00m\u001B[43m)\u001B[49m\n\u001B[1;32m     51\u001B[0m \u001B[38;5;28mself\u001B[39m\u001B[38;5;241m.\u001B[39mwrite_builder(f_builder, \u001B[38;5;241m*\u001B[39m\u001B[38;5;241m*\u001B[39mkwargs)\n",
      "File \u001B[0;32m~/opt/anaconda3/envs/nwb-photostim/lib/python3.10/site-packages/hdmf/utils.py:645\u001B[0m, in \u001B[0;36mdocval.<locals>.dec.<locals>.func_call\u001B[0;34m(*args, **kwargs)\u001B[0m\n\u001B[1;32m    643\u001B[0m \u001B[38;5;28;01mdef\u001B[39;00m \u001B[38;5;21mfunc_call\u001B[39m(\u001B[38;5;241m*\u001B[39margs, \u001B[38;5;241m*\u001B[39m\u001B[38;5;241m*\u001B[39mkwargs):\n\u001B[1;32m    644\u001B[0m     pargs \u001B[38;5;241m=\u001B[39m _check_args(args, kwargs)\n\u001B[0;32m--> 645\u001B[0m     \u001B[38;5;28;01mreturn\u001B[39;00m \u001B[43mfunc\u001B[49m\u001B[43m(\u001B[49m\u001B[43margs\u001B[49m\u001B[43m[\u001B[49m\u001B[38;5;241;43m0\u001B[39;49m\u001B[43m]\u001B[49m\u001B[43m,\u001B[49m\u001B[43m \u001B[49m\u001B[38;5;241;43m*\u001B[39;49m\u001B[38;5;241;43m*\u001B[39;49m\u001B[43mpargs\u001B[49m\u001B[43m)\u001B[49m\n",
      "File \u001B[0;32m~/opt/anaconda3/envs/nwb-photostim/lib/python3.10/site-packages/hdmf/build/manager.py:188\u001B[0m, in \u001B[0;36mBuildManager.build\u001B[0;34m(self, **kwargs)\u001B[0m\n\u001B[1;32m    184\u001B[0m     \u001B[38;5;28mself\u001B[39m\u001B[38;5;241m.\u001B[39mlogger\u001B[38;5;241m.\u001B[39mdebug(\u001B[38;5;124m\"\u001B[39m\u001B[38;5;124mUsing prebuilt \u001B[39m\u001B[38;5;132;01m%s\u001B[39;00m\u001B[38;5;124m \u001B[39m\u001B[38;5;124m'\u001B[39m\u001B[38;5;132;01m%s\u001B[39;00m\u001B[38;5;124m'\u001B[39m\u001B[38;5;124m for \u001B[39m\u001B[38;5;132;01m%s\u001B[39;00m\u001B[38;5;124m \u001B[39m\u001B[38;5;124m'\u001B[39m\u001B[38;5;132;01m%s\u001B[39;00m\u001B[38;5;124m'\u001B[39m\u001B[38;5;124m\"\u001B[39m\n\u001B[1;32m    185\u001B[0m                       \u001B[38;5;241m%\u001B[39m (result\u001B[38;5;241m.\u001B[39m\u001B[38;5;18m__class__\u001B[39m\u001B[38;5;241m.\u001B[39m\u001B[38;5;18m__name__\u001B[39m, result\u001B[38;5;241m.\u001B[39mname,\n\u001B[1;32m    186\u001B[0m                          container\u001B[38;5;241m.\u001B[39m\u001B[38;5;18m__class__\u001B[39m\u001B[38;5;241m.\u001B[39m\u001B[38;5;18m__name__\u001B[39m, container\u001B[38;5;241m.\u001B[39mname))\n\u001B[1;32m    187\u001B[0m \u001B[38;5;28;01mif\u001B[39;00m root:  \u001B[38;5;66;03m# create reference builders only after building all other builders\u001B[39;00m\n\u001B[0;32m--> 188\u001B[0m     \u001B[38;5;28;43mself\u001B[39;49m\u001B[38;5;241;43m.\u001B[39;49m\u001B[43m__add_refs\u001B[49m\u001B[43m(\u001B[49m\u001B[43m)\u001B[49m\n\u001B[1;32m    189\u001B[0m     \u001B[38;5;28mself\u001B[39m\u001B[38;5;241m.\u001B[39m__active_builders\u001B[38;5;241m.\u001B[39mclear()  \u001B[38;5;66;03m# reset active builders now that build process has completed\u001B[39;00m\n\u001B[1;32m    190\u001B[0m \u001B[38;5;28;01mreturn\u001B[39;00m result\n",
      "File \u001B[0;32m~/opt/anaconda3/envs/nwb-photostim/lib/python3.10/site-packages/hdmf/build/manager.py:233\u001B[0m, in \u001B[0;36mBuildManager.__add_refs\u001B[0;34m(self)\u001B[0m\n\u001B[1;32m    230\u001B[0m call \u001B[38;5;241m=\u001B[39m \u001B[38;5;28mself\u001B[39m\u001B[38;5;241m.\u001B[39m__ref_queue\u001B[38;5;241m.\u001B[39mpopleft()\n\u001B[1;32m    231\u001B[0m \u001B[38;5;28mself\u001B[39m\u001B[38;5;241m.\u001B[39mlogger\u001B[38;5;241m.\u001B[39mdebug(\u001B[38;5;124m\"\u001B[39m\u001B[38;5;124mAdding ReferenceBuilder with call id \u001B[39m\u001B[38;5;132;01m%d\u001B[39;00m\u001B[38;5;124m from queue (length \u001B[39m\u001B[38;5;132;01m%d\u001B[39;00m\u001B[38;5;124m)\u001B[39m\u001B[38;5;124m\"\u001B[39m\n\u001B[1;32m    232\u001B[0m                   \u001B[38;5;241m%\u001B[39m (\u001B[38;5;28mid\u001B[39m(call), \u001B[38;5;28mlen\u001B[39m(\u001B[38;5;28mself\u001B[39m\u001B[38;5;241m.\u001B[39m__ref_queue)))\n\u001B[0;32m--> 233\u001B[0m \u001B[43mcall\u001B[49m\u001B[43m(\u001B[49m\u001B[43m)\u001B[49m\n",
      "File \u001B[0;32m~/opt/anaconda3/envs/nwb-photostim/lib/python3.10/site-packages/hdmf/build/objectmapper.py:808\u001B[0m, in \u001B[0;36mObjectMapper.__set_dataset_to_refs.<locals>._filler\u001B[0;34m()\u001B[0m\n\u001B[1;32m    807\u001B[0m \u001B[38;5;28;01mdef\u001B[39;00m \u001B[38;5;21m_filler\u001B[39m():\n\u001B[0;32m--> 808\u001B[0m     builder\u001B[38;5;241m.\u001B[39mdata \u001B[38;5;241m=\u001B[39m \u001B[38;5;28;43mself\u001B[39;49m\u001B[38;5;241;43m.\u001B[39;49m\u001B[43m__get_ref_builder\u001B[49m\u001B[43m(\u001B[49m\u001B[43mbuilder\u001B[49m\u001B[43m,\u001B[49m\u001B[43m \u001B[49m\u001B[43mdtype\u001B[49m\u001B[43m,\u001B[49m\u001B[43m \u001B[49m\u001B[43mshape\u001B[49m\u001B[43m,\u001B[49m\u001B[43m \u001B[49m\u001B[43mcontainer\u001B[49m\u001B[43m,\u001B[49m\u001B[43m \u001B[49m\u001B[43mbuild_manager\u001B[49m\u001B[43m)\u001B[49m\n",
      "File \u001B[0;32m~/opt/anaconda3/envs/nwb-photostim/lib/python3.10/site-packages/hdmf/build/objectmapper.py:875\u001B[0m, in \u001B[0;36mObjectMapper.__get_ref_builder\u001B[0;34m(self, builder, dtype, shape, container, build_manager)\u001B[0m\n\u001B[1;32m    873\u001B[0m     bldr_data \u001B[38;5;241m=\u001B[39m \u001B[38;5;28mlist\u001B[39m()\n\u001B[1;32m    874\u001B[0m     \u001B[38;5;28;01mfor\u001B[39;00m d \u001B[38;5;129;01min\u001B[39;00m container\u001B[38;5;241m.\u001B[39mdata:\n\u001B[0;32m--> 875\u001B[0m         target_builder \u001B[38;5;241m=\u001B[39m \u001B[38;5;28;43mself\u001B[39;49m\u001B[38;5;241;43m.\u001B[39;49m\u001B[43m__get_target_builder\u001B[49m\u001B[43m(\u001B[49m\u001B[43md\u001B[49m\u001B[43m,\u001B[49m\u001B[43m \u001B[49m\u001B[43mbuild_manager\u001B[49m\u001B[43m,\u001B[49m\u001B[43m \u001B[49m\u001B[43mbuilder\u001B[49m\u001B[43m)\u001B[49m\n\u001B[1;32m    876\u001B[0m         bldr_data\u001B[38;5;241m.\u001B[39mappend(ReferenceBuilder(target_builder))\n\u001B[1;32m    877\u001B[0m \u001B[38;5;28;01melse\u001B[39;00m:\n",
      "File \u001B[0;32m~/opt/anaconda3/envs/nwb-photostim/lib/python3.10/site-packages/hdmf/build/objectmapper.py:887\u001B[0m, in \u001B[0;36mObjectMapper.__get_target_builder\u001B[0;34m(self, container, build_manager, builder)\u001B[0m\n\u001B[1;32m    885\u001B[0m target_builder \u001B[38;5;241m=\u001B[39m build_manager\u001B[38;5;241m.\u001B[39mget_builder(container)\n\u001B[1;32m    886\u001B[0m \u001B[38;5;28;01mif\u001B[39;00m target_builder \u001B[38;5;129;01mis\u001B[39;00m \u001B[38;5;28;01mNone\u001B[39;00m:\n\u001B[0;32m--> 887\u001B[0m     \u001B[38;5;28;01mraise\u001B[39;00m ReferenceTargetNotBuiltError(builder, container)\n\u001B[1;32m    888\u001B[0m \u001B[38;5;28;01mreturn\u001B[39;00m target_builder\n",
      "\u001B[0;31mReferenceTargetNotBuiltError\u001B[0m: HolographicPattern (test/HolographicPattern): Could not find already-built Builder for HolographicPattern 'HolographicPattern' in BuildManager"
     ]
    }
   ],
   "source": [
    "from datetime import datetime\n",
    "from dateutil.tz import tzlocal\n",
    "from pynwb import NWBFile\n",
    "from pynwb import NWBHDF5IO\n",
    "\n",
    "nwb_file = NWBFile(session_description='test file', identifier='EXAMPLE_ID', session_start_time=datetime.now(tzlocal()))\n",
    "\n",
    "with NWBHDF5IO(\"basics_tutorial.nwb\", \"w\") as io:\n",
    "    io.write(sp)\n",
    "\n",
    "with NWBHDF5IO(\"basics_tutorial.nwb\", \"r\", load_namespaces=True) as io:\n",
    "    read_nwbfile = io.read()"
   ],
   "metadata": {
    "collapsed": false,
    "pycharm": {
     "name": "#%%\n"
    }
   }
  },
  {
   "cell_type": "markdown",
   "source": [
    "## Reading the file"
   ],
   "metadata": {
    "collapsed": false
   }
  },
  {
   "cell_type": "code",
   "execution_count": 3,
   "outputs": [],
   "source": [
    "import pynwb\n",
    "\n",
    "file = \"test.namespace.yaml\"\n",
    "tm = pynwb.get_type_map(file)\n",
    "m = pynwb.get_manager(file)"
   ],
   "metadata": {
    "collapsed": false,
    "pycharm": {
     "name": "#%%\n"
    }
   }
  },
  {
   "cell_type": "code",
   "execution_count": 7,
   "outputs": [
    {
     "name": "stdout",
     "output_type": "stream",
     "text": [
      "Help on class PhotostimulationDevice in module abc:\n",
      "\n",
      "class PhotostimulationDevice(pynwb.device.Device)\n",
      " |  PhotostimulationDevice(*args, **kwargs)\n",
      " |  \n",
      " |  Method resolution order:\n",
      " |      PhotostimulationDevice\n",
      " |      pynwb.device.Device\n",
      " |      pynwb.core.NWBContainer\n",
      " |      pynwb.core.NWBMixin\n",
      " |      hdmf.container.Container\n",
      " |      hdmf.container.AbstractContainer\n",
      " |      builtins.object\n",
      " |  \n",
      " |  Methods defined here:\n",
      " |  \n",
      " |  __init__(*args, **kwargs)\n",
      " |      __init__(name, type, wavelength, slm, description=None, manufacturer=None, opsin=None, peak_pulse_power=None, power=None, pulse_rate=None)\n",
      " |      \n",
      " |      \n",
      " |      \n",
      " |      Args:\n",
      " |          name (:py:class:`~str`): the name of this device\n",
      " |          type (:py:class:`~str`): type of stimulation (laser or LED)\n",
      " |          wavelength (:py:class:`~float` or :py:class:`~numpy.float32` or :py:class:`~numpy.float64` or :py:class:`~numpy.int8` or :py:class:`~numpy.int16` or :py:class:`~numpy.int32` or :py:class:`~numpy.int64` or :py:class:`~int` or :py:class:`~numpy.uint8` or :py:class:`~numpy.uint16` or :py:class:`~numpy.uint32` or :py:class:`~numpy.uint64`): wavelength of photostimulation\n",
      " |          slm (:py:class:`~abc.SpatialLightModulator`): slm\n",
      " |          description (:py:class:`~str`): Description of the device (e.g., model, firmware version, processing software version, etc.)\n",
      " |          manufacturer (:py:class:`~str`): the name of the manufacturer of this device\n",
      " |          opsin (:py:class:`~str`): opsin used\n",
      " |          peak_pulse_power (:py:class:`~float` or :py:class:`~numpy.float32` or :py:class:`~numpy.float64` or :py:class:`~numpy.int8` or :py:class:`~numpy.int16` or :py:class:`~numpy.int32` or :py:class:`~numpy.int64` or :py:class:`~int` or :py:class:`~numpy.uint8` or :py:class:`~numpy.uint16` or :py:class:`~numpy.uint32` or :py:class:`~numpy.uint64`): peak pulse power (J)\n",
      " |          power (:py:class:`~float` or :py:class:`~numpy.float32` or :py:class:`~numpy.float64` or :py:class:`~numpy.int8` or :py:class:`~numpy.int16` or :py:class:`~numpy.int32` or :py:class:`~numpy.int64` or :py:class:`~int` or :py:class:`~numpy.uint8` or :py:class:`~numpy.uint16` or :py:class:`~numpy.uint32` or :py:class:`~numpy.uint64`): power (in milliwatts)\n",
      " |          pulse_rate (:py:class:`~float` or :py:class:`~numpy.float32` or :py:class:`~numpy.float64` or :py:class:`~numpy.int8` or :py:class:`~numpy.int16` or :py:class:`~numpy.int32` or :py:class:`~numpy.int64` or :py:class:`~int` or :py:class:`~numpy.uint8` or :py:class:`~numpy.uint16` or :py:class:`~numpy.uint32` or :py:class:`~numpy.uint64`): pulse rate (Hz)\n",
      " |  \n",
      " |  ----------------------------------------------------------------------\n",
      " |  Data descriptors defined here:\n",
      " |  \n",
      " |  opsin\n",
      " |      opsin used\n",
      " |  \n",
      " |  peak_pulse_power\n",
      " |      peak pulse power (J)\n",
      " |  \n",
      " |  power\n",
      " |      power (in milliwatts)\n",
      " |  \n",
      " |  pulse_rate\n",
      " |      pulse rate (Hz)\n",
      " |  \n",
      " |  slm\n",
      " |      slm\n",
      " |  \n",
      " |  type\n",
      " |      type of stimulation (laser or LED)\n",
      " |  \n",
      " |  wavelength\n",
      " |      wavelength of photostimulation\n",
      " |  \n",
      " |  ----------------------------------------------------------------------\n",
      " |  Data and other attributes defined here:\n",
      " |  \n",
      " |  __abstractmethods__ = frozenset()\n",
      " |  \n",
      " |  __nwbfields__ = ('name', 'description', 'manufacturer', 'type', 'wavel...\n",
      " |  \n",
      " |  namespace = 'test'\n",
      " |  \n",
      " |  neurodata_type = 'PhotostimulationDevice'\n",
      " |  \n",
      " |  ----------------------------------------------------------------------\n",
      " |  Data descriptors inherited from pynwb.device.Device:\n",
      " |  \n",
      " |  description\n",
      " |      Description of the device (e.g., model, firmware version, processing software version, etc.)\n",
      " |  \n",
      " |  manufacturer\n",
      " |      the name of the manufacturer of this device\n",
      " |  \n",
      " |  ----------------------------------------------------------------------\n",
      " |  Methods inherited from pynwb.core.NWBMixin:\n",
      " |  \n",
      " |  get_ancestor(*args, **kwargs)\n",
      " |      get_ancestor(neurodata_type=None)\n",
      " |      \n",
      " |      Traverse parent hierarchy and return first instance of the specified data_type\n",
      " |      \n",
      " |      Args:\n",
      " |          neurodata_type (:py:class:`~str`): the data_type to search for\n",
      " |  \n",
      " |  ----------------------------------------------------------------------\n",
      " |  Data and other attributes inherited from pynwb.core.NWBMixin:\n",
      " |  \n",
      " |  __fields__ = ()\n",
      " |  \n",
      " |  ----------------------------------------------------------------------\n",
      " |  Methods inherited from hdmf.container.Container:\n",
      " |  \n",
      " |  __repr__(self)\n",
      " |      Return repr(self).\n",
      " |  \n",
      " |  ----------------------------------------------------------------------\n",
      " |  Data and other attributes inherited from hdmf.container.Container:\n",
      " |  \n",
      " |  data_type = 'Container'\n",
      " |  \n",
      " |  ----------------------------------------------------------------------\n",
      " |  Methods inherited from hdmf.container.AbstractContainer:\n",
      " |  \n",
      " |  add_child(*args, **kwargs)\n",
      " |      add_child(child=None)\n",
      " |      \n",
      " |      \n",
      " |      \n",
      " |      Args:\n",
      " |          child (Container): the child Container for this Container\n",
      " |  \n",
      " |  generate_new_id(*args, **kwargs)\n",
      " |      generate_new_id(recurse=True)\n",
      " |      \n",
      " |      Changes the object ID of this Container and all of its children to a new UUID string.\n",
      " |      \n",
      " |      Args:\n",
      " |          recurse (:py:class:`~bool`): whether or not to change the object ID of this container's children\n",
      " |  \n",
      " |  reset_parent(self)\n",
      " |      Reset the parent of this Container to None and remove the Container from the children of its parent.\n",
      " |      \n",
      " |      Use with caution. This can result in orphaned containers and broken links.\n",
      " |  \n",
      " |  set_modified(*args, **kwargs)\n",
      " |      set_modified(modified=True)\n",
      " |      \n",
      " |      \n",
      " |      \n",
      " |      Args:\n",
      " |          modified (:py:class:`~bool`): whether or not this Container has been modified\n",
      " |  \n",
      " |  ----------------------------------------------------------------------\n",
      " |  Class methods inherited from hdmf.container.AbstractContainer:\n",
      " |  \n",
      " |  get_fields_conf() from hdmf.utils.ExtenderMeta\n",
      " |  \n",
      " |  type_hierarchy() from hdmf.utils.ExtenderMeta\n",
      " |  \n",
      " |  ----------------------------------------------------------------------\n",
      " |  Static methods inherited from hdmf.container.AbstractContainer:\n",
      " |  \n",
      " |  __new__(cls, *args, **kwargs)\n",
      " |      Static method of the object class called by Python to create the object first and then\n",
      " |       __init__() is called to initialize the object's attributes.\n",
      " |      \n",
      " |      NOTE: this method is called directly from ObjectMapper.__new_container__ during the process of\n",
      " |      constructing the object from builders that are read from a file.\n",
      " |  \n",
      " |  ----------------------------------------------------------------------\n",
      " |  Readonly properties inherited from hdmf.container.AbstractContainer:\n",
      " |  \n",
      " |  children\n",
      " |  \n",
      " |  fields\n",
      " |  \n",
      " |  modified\n",
      " |  \n",
      " |  name\n",
      " |      The name of this Container\n",
      " |  \n",
      " |  object_id\n",
      " |  \n",
      " |  ----------------------------------------------------------------------\n",
      " |  Data descriptors inherited from hdmf.container.AbstractContainer:\n",
      " |  \n",
      " |  __dict__\n",
      " |      dictionary for instance variables (if defined)\n",
      " |  \n",
      " |  __weakref__\n",
      " |      list of weak references to the object (if defined)\n",
      " |  \n",
      " |  container_source\n",
      " |      The source of this Container\n",
      " |  \n",
      " |  parent\n",
      " |      The parent Container of this Container\n",
      "\n"
     ]
    }
   ],
   "source": [
    "pynwb.load_namespaces(file)\n",
    "c = pynwb.get_class(\"PhotostimulationDevice\", \"test\")\n",
    "\n",
    "help(c)"
   ],
   "metadata": {
    "collapsed": false,
    "pycharm": {
     "name": "#%%\n"
    }
   }
  },
  {
   "cell_type": "code",
   "execution_count": 13,
   "outputs": [
    {
     "name": "stdout",
     "output_type": "stream",
     "text": [
      "Help on property:\n",
      "\n",
      "    slm\n",
      "\n"
     ]
    }
   ],
   "source": [
    "help(c.slm)"
   ],
   "metadata": {
    "collapsed": false,
    "pycharm": {
     "name": "#%%\n"
    }
   }
  },
  {
   "cell_type": "code",
   "execution_count": 10,
   "outputs": [
    {
     "data": {
      "text/plain": "<attribute '__weakref__' of 'AbstractContainer' objects>"
     },
     "execution_count": 10,
     "metadata": {},
     "output_type": "execute_result"
    }
   ],
   "source": [
    "c.__weakref__"
   ],
   "metadata": {
    "collapsed": false,
    "pycharm": {
     "name": "#%%\n"
    }
   }
  },
  {
   "cell_type": "code",
   "execution_count": null,
   "outputs": [],
   "source": [],
   "metadata": {
    "collapsed": false,
    "pycharm": {
     "name": "#%%\n"
    }
   }
  },
  {
   "cell_type": "code",
   "execution_count": 30,
   "outputs": [],
   "source": [
    "import pandas as pd\n",
    "from pynwb import register_class, load_namespaces\n",
    "from pynwb.core import NWBContainer, NWBDataInterface\n",
    "from pynwb.base import TimeSeries\n",
    "from collections.abc import Iterable\n",
    "from pynwb.device import  Device\n",
    "from hdmf.utils import docval, popargs, get_docval, popargs_to_dict\n",
    "from pynwb.core import DynamicTable, VectorData\n",
    "import numpy as np\n",
    "from hdmf.utils import docval, getargs, popargs, popargs_to_dict, get_docval, call_docval_func\n",
    "import warnings\n",
    "from pynwb.io.core import NWBContainerMapper\n",
    "from pynwb import register_map\n",
    "from pynwb.base import TimeSeries, TimeSeriesReferenceVectorData, TimeSeriesReference\n",
    "from pynwb.file import MultiContainerInterface, NWBContainer\n",
    "from hdmf.build import ObjectMapper\n",
    "from hdmf.common.io.table import DynamicTableMap\n",
    "import matplotlib.pyplot as plt\n",
    "\n",
    "\n",
    "ns_path = \"test.namespace.yaml\"\n",
    "load_namespaces(ns_path)\n",
    "namespace = 'test'\n",
    "\n",
    "@register_class('PhotostimulationDevice', namespace)\n",
    "class PhotostimulationDevice(Device):\n",
    "    \"\"\"\n",
    "    Device used in photostimulation.\n",
    "    \"\"\"\n",
    "\n",
    "    __nwbfields__ = ({'name': 'slm', 'child': True}, 'type', 'wavelength','opsin', 'peak_pulse_power', 'power', 'pulse_rate')\n",
    "\n",
    "    @docval(*get_docval(Device.__init__) + (\n",
    "        {'name': 'slm', 'type': SpatialLightModulator, 'doc': 'spatial light modulator'},\n",
    "        {'name': 'type', 'type': str, 'doc': 'type of stimulation (laser or LED)'},\n",
    "        {'name': 'wavelength', 'type': (int, float), 'doc': 'wavelength of photostimulation'},\n",
    "        {'name': 'opsin', 'type': str, 'doc': 'opsin used', 'default': None},\n",
    "        {'name': 'peak_pulse_power', 'type': (int, float), 'doc': 'peak pulse power (J)', 'default': None},\n",
    "        {'name': 'power', 'type': (int, float), 'doc': 'power (in milliwatts)', 'default': None},\n",
    "        {'name': 'pulse_rate', 'type': (int, float), 'doc': 'pulse rate (Hz)', 'default': None}\n",
    "    ))\n",
    "    def __init__(self, **kwargs):\n",
    "        keys_to_set = ('slm', 'type', 'wavelength','opsin', 'peak_pulse_power', 'power', 'pulse_rate')\n",
    "        args_to_set = popargs_to_dict(keys_to_set, kwargs)\n",
    "        super().__init__(**kwargs)\n",
    "\n",
    "        for key, val in args_to_set.items():\n",
    "            setattr(self, key, val)\n",
    "\n",
    "@register_map(PhotostimulationDevice)\n",
    "class PhotostimulationDeviceMap(NWBContainerMapper):\n",
    "    def __init__(self, spec):\n",
    "        print('hello')\n",
    "        super().__init__(spec)\n",
    "        self.map_spec('slm', self.spec.get_neurodata_type('SpatialLightModulator'))\n",
    "        print(spec)\n",
    "\n",
    "slm = SpatialLightModulator(name=\"slm\", dimension=np.array([1, 2, 3]))\n",
    "photostim_dev = PhotostimulationDevice(name=\"photostim_dev\", description=\"photostim_device\", type='LED',\n",
    "                                               wavelength=320, slm=slm)"
   ],
   "metadata": {
    "collapsed": false,
    "pycharm": {
     "name": "#%%\n"
    }
   }
  },
  {
   "cell_type": "code",
   "execution_count": 31,
   "outputs": [
    {
     "name": "stdout",
     "output_type": "stream",
     "text": [
      "Help on class PhotostimulationDeviceMap in module __main__:\n",
      "\n",
      "class PhotostimulationDeviceMap(pynwb.io.core.NWBContainerMapper)\n",
      " |  PhotostimulationDeviceMap(spec)\n",
      " |  \n",
      " |  Method resolution order:\n",
      " |      PhotostimulationDeviceMap\n",
      " |      pynwb.io.core.NWBContainerMapper\n",
      " |      pynwb.io.core.NWBBaseTypeMapper\n",
      " |      hdmf.build.objectmapper.ObjectMapper\n",
      " |      builtins.object\n",
      " |  \n",
      " |  Methods defined here:\n",
      " |  \n",
      " |  __init__(self, spec)\n",
      " |      __init__(spec)\n",
      " |      \n",
      " |      Create a map from AbstractContainer attributes to specifications\n",
      " |      \n",
      " |      Args:\n",
      " |          spec (:py:class:`~hdmf.spec.spec.DatasetSpec` or :py:class:`~hdmf.spec.spec.GroupSpec`): The specification for mapping objects to builders\n",
      " |  \n",
      " |  ----------------------------------------------------------------------\n",
      " |  Data and other attributes defined here:\n",
      " |  \n",
      " |  __abstractmethods__ = frozenset()\n",
      " |  \n",
      " |  constructor_args = {'name': <function ObjectMapper.get_container_name>...\n",
      " |  \n",
      " |  obj_attrs = {}\n",
      " |  \n",
      " |  ----------------------------------------------------------------------\n",
      " |  Static methods inherited from pynwb.io.core.NWBBaseTypeMapper:\n",
      " |  \n",
      " |  get_nwb_file(container)\n",
      " |  \n",
      " |  ----------------------------------------------------------------------\n",
      " |  Methods inherited from hdmf.build.objectmapper.ObjectMapper:\n",
      " |  \n",
      " |  __new_container__(self, cls, container_source, parent, object_id, **kwargs)\n",
      " |      A wrapper function for ensuring a container gets everything set appropriately\n",
      " |  \n",
      " |  build(*args, **kwargs)\n",
      " |      build(container, manager, parent=None, source=None, builder=None, spec_ext=None, export=False)\n",
      " |      \n",
      " |      Convert an AbstractContainer to a Builder representation.\n",
      " |      \n",
      " |              References are not added but are queued to be added in the BuildManager.\n",
      " |      \n",
      " |      Args:\n",
      " |          container (:py:class:`~hdmf.container.AbstractContainer`): the container to convert to a Builder\n",
      " |          manager (:py:class:`~hdmf.build.manager.BuildManager`): the BuildManager to use for managing this build\n",
      " |          parent (:py:class:`~hdmf.build.builders.GroupBuilder`): the parent of the resulting Builder\n",
      " |          source (:py:class:`~str`): the source of container being built i.e. file path\n",
      " |          builder (:py:class:`~hdmf.build.builders.BaseBuilder`): the Builder to build on\n",
      " |          spec_ext (:py:class:`~hdmf.spec.spec.BaseStorageSpec`): a spec extension\n",
      " |          export (:py:class:`~bool`): whether this build is for exporting\n",
      " |      \n",
      " |      Returns:\n",
      " |          Builder: the Builder representing the given AbstractContainer\n",
      " |  \n",
      " |  construct(*args, **kwargs)\n",
      " |      construct(builder, manager, parent=None)\n",
      " |      \n",
      " |      Construct an AbstractContainer from the given Builder\n",
      " |      \n",
      " |      Args:\n",
      " |          builder (:py:class:`~hdmf.build.builders.DatasetBuilder` or :py:class:`~hdmf.build.builders.GroupBuilder`): the builder to construct the AbstractContainer from\n",
      " |          manager (:py:class:`~hdmf.build.manager.BuildManager`): the BuildManager for this build\n",
      " |          parent (:py:class:`~hdmf.build.manager.Proxy` or :py:class:`~hdmf.container.AbstractContainer`): the parent AbstractContainer/Proxy for the AbstractContainer being built\n",
      " |  \n",
      " |  get_attr_spec(*args, **kwargs)\n",
      " |      get_attr_spec(attr_name)\n",
      " |      \n",
      " |      Return the Spec for a given attribute\n",
      " |      \n",
      " |      Args:\n",
      " |          attr_name (:py:class:`~str`): the name of the attribute\n",
      " |  \n",
      " |  get_attr_value(*args, **kwargs)\n",
      " |      get_attr_value(spec, container, manager)\n",
      " |      \n",
      " |      Get the value of the attribute corresponding to this spec from the given container\n",
      " |      \n",
      " |      Args:\n",
      " |          spec (:py:class:`~hdmf.spec.spec.Spec`): the spec to get the attribute value for\n",
      " |          container (:py:class:`~hdmf.container.AbstractContainer`): the container to get the attribute value from\n",
      " |          manager (:py:class:`~hdmf.build.manager.BuildManager`): the BuildManager used for managing this build\n",
      " |  \n",
      " |  get_attribute(*args, **kwargs)\n",
      " |      get_attribute(spec)\n",
      " |      \n",
      " |      Get the object attribute name for the given Spec\n",
      " |      \n",
      " |      Args:\n",
      " |          spec (:py:class:`~hdmf.spec.spec.Spec`): the spec to get the attribute for\n",
      " |      \n",
      " |      Returns:\n",
      " |          str: the attribute name\n",
      " |  \n",
      " |  get_builder_name(*args, **kwargs)\n",
      " |      get_builder_name(container)\n",
      " |      \n",
      " |      Get the name of a Builder that represents a AbstractContainer\n",
      " |      \n",
      " |      Args:\n",
      " |          container (:py:class:`~hdmf.container.AbstractContainer`): the AbstractContainer to get the Builder name for\n",
      " |  \n",
      " |  get_carg_spec(*args, **kwargs)\n",
      " |      get_carg_spec(carg_name)\n",
      " |      \n",
      " |      Return the Spec for a given constructor argument\n",
      " |      \n",
      " |      Args:\n",
      " |          carg_name (:py:class:`~str`): the name of the constructor argument\n",
      " |  \n",
      " |  get_const_arg(*args, **kwargs)\n",
      " |      get_const_arg(spec)\n",
      " |      \n",
      " |      Get the constructor argument for the given Spec\n",
      " |      \n",
      " |      Args:\n",
      " |          spec (:py:class:`~hdmf.spec.spec.Spec`): the spec to get the constructor argument for\n",
      " |      \n",
      " |      Returns:\n",
      " |          str: the name of the constructor argument\n",
      " |  \n",
      " |  get_container_name(self, *args)\n",
      " |  \n",
      " |  map_attr(*args, **kwargs)\n",
      " |      map_attr(attr_name, spec)\n",
      " |      \n",
      " |      Map an attribute to spec. Use this to override default behavior\n",
      " |      \n",
      " |      Args:\n",
      " |          attr_name (:py:class:`~str`): the name of the object to map\n",
      " |          spec (:py:class:`~hdmf.spec.spec.Spec`): the spec to map the attribute to\n",
      " |  \n",
      " |  map_const_arg(*args, **kwargs)\n",
      " |      map_const_arg(const_arg, spec)\n",
      " |      \n",
      " |      Map an attribute to spec. Use this to override default behavior\n",
      " |      \n",
      " |      Args:\n",
      " |          const_arg (:py:class:`~str`): the name of the constructor argument to map\n",
      " |          spec (:py:class:`~hdmf.spec.spec.Spec`): the spec to map the attribute to\n",
      " |  \n",
      " |  map_spec(*args, **kwargs)\n",
      " |      map_spec(attr_carg, spec)\n",
      " |      \n",
      " |      Map the given specification to the construct argument and object attribute\n",
      " |      \n",
      " |      Args:\n",
      " |          attr_carg (:py:class:`~str`): the constructor argument/object attribute to map this spec to\n",
      " |          spec (:py:class:`~hdmf.spec.spec.Spec`): the spec to map the attribute to\n",
      " |  \n",
      " |  unmap(*args, **kwargs)\n",
      " |      unmap(spec)\n",
      " |      \n",
      " |      Removing any mapping for a specification. Use this to override default mapping\n",
      " |      \n",
      " |      Args:\n",
      " |          spec (:py:class:`~hdmf.spec.spec.Spec`): the spec to map the attribute to\n",
      " |  \n",
      " |  ----------------------------------------------------------------------\n",
      " |  Class methods inherited from hdmf.build.objectmapper.ObjectMapper:\n",
      " |  \n",
      " |  convert_dt_name(*args, **kwargs) from hdmf.utils.ExtenderMeta\n",
      " |      convert_dt_name(spec)\n",
      " |      \n",
      " |      Construct the attribute name corresponding to a specification\n",
      " |      \n",
      " |      Args:\n",
      " |          spec (:py:class:`~hdmf.spec.spec.Spec`): the specification to get the name for\n",
      " |  \n",
      " |  convert_dtype(spec, value, spec_dtype=None) from hdmf.utils.ExtenderMeta\n",
      " |      Convert values to the specified dtype. For example, if a literal int\n",
      " |      is passed in to a field that is specified as a unsigned integer, this function\n",
      " |      will convert the Python int to a numpy unsigned int.\n",
      " |      \n",
      " |      :param spec: The DatasetSpec or AttributeSpec to which this value is being applied\n",
      " |      :param value: The value being converted to the spec dtype\n",
      " |      :param spec_dtype: Optional override of the dtype in spec.dtype. Used to specify the parent dtype when the given\n",
      " |                         extended spec lacks a dtype.\n",
      " |      \n",
      " |      :return: The function returns a tuple consisting of 1) the value, and 2) the data type.\n",
      " |               The value is returned as the function may convert the input value to comply\n",
      " |               with the dtype specified in the schema.\n",
      " |  \n",
      " |  get_attr_names(*args, **kwargs) from hdmf.utils.ExtenderMeta\n",
      " |      get_attr_names(spec)\n",
      " |      \n",
      " |      Get the attribute names for each subspecification in a Spec\n",
      " |      \n",
      " |      Args:\n",
      " |          spec (:py:class:`~hdmf.spec.spec.Spec`): the specification to get the object attribute names for\n",
      " |  \n",
      " |  no_convert(obj_type) from hdmf.utils.ExtenderMeta\n",
      " |      Specify an object type that ObjectMappers should not convert.\n",
      " |  \n",
      " |  ----------------------------------------------------------------------\n",
      " |  Static methods inherited from hdmf.build.objectmapper.ObjectMapper:\n",
      " |  \n",
      " |  constructor_arg(*args, **kwargs)\n",
      " |      constructor_arg(name)\n",
      " |      \n",
      " |      Decorator to override the default mapping scheme for a given constructor argument.\n",
      " |      \n",
      " |              Decorate ObjectMapper methods with this function when extending ObjectMapper to override the default\n",
      " |              scheme for mapping between AbstractContainer and Builder objects. The decorated method should accept as its\n",
      " |              first argument the Builder object that is being mapped. The method should return the value to be passed\n",
      " |              to the target AbstractContainer class constructor argument given by *name*.\n",
      " |      \n",
      " |      Args:\n",
      " |          name (:py:class:`~str`): the name of the constructor argument\n",
      " |  \n",
      " |  object_attr(*args, **kwargs)\n",
      " |      object_attr(name)\n",
      " |      \n",
      " |      Decorator to override the default mapping scheme for a given object attribute.\n",
      " |      \n",
      " |              Decorate ObjectMapper methods with this function when extending ObjectMapper to override the default\n",
      " |              scheme for mapping between AbstractContainer and Builder objects. The decorated method should accept as its\n",
      " |              first argument the AbstractContainer object that is being mapped. The method should return the child Builder\n",
      " |              object (or scalar if the object attribute corresponds to an AttributeSpec) that represents the\n",
      " |              attribute given by *name*.\n",
      " |      \n",
      " |      Args:\n",
      " |          name (:py:class:`~str`): the name of the constructor argument\n",
      " |  \n",
      " |  ----------------------------------------------------------------------\n",
      " |  Readonly properties inherited from hdmf.build.objectmapper.ObjectMapper:\n",
      " |  \n",
      " |  spec\n",
      " |      the Spec used in this ObjectMapper\n",
      " |  \n",
      " |  ----------------------------------------------------------------------\n",
      " |  Data descriptors inherited from hdmf.build.objectmapper.ObjectMapper:\n",
      " |  \n",
      " |  __dict__\n",
      " |      dictionary for instance variables (if defined)\n",
      " |  \n",
      " |  __weakref__\n",
      " |      list of weak references to the object (if defined)\n",
      "\n"
     ]
    }
   ],
   "source": [
    "help(PhotostimulationDeviceMap)"
   ],
   "metadata": {
    "collapsed": false,
    "pycharm": {
     "name": "#%%\n"
    }
   }
  },
  {
   "cell_type": "code",
   "execution_count": null,
   "outputs": [],
   "source": [],
   "metadata": {
    "collapsed": false,
    "pycharm": {
     "name": "#%%\n"
    }
   }
  }
 ],
 "metadata": {
  "kernelspec": {
   "display_name": "Python 3",
   "language": "python",
   "name": "python3"
  },
  "language_info": {
   "codemirror_mode": {
    "name": "ipython",
    "version": 2
   },
   "file_extension": ".py",
   "mimetype": "text/x-python",
   "name": "python",
   "nbconvert_exporter": "python",
   "pygments_lexer": "ipython2",
   "version": "2.7.6"
  }
 },
 "nbformat": 4,
 "nbformat_minor": 0
}