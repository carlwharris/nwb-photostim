{
 "cells": [
  {
   "cell_type": "markdown",
   "source": [],
   "metadata": {
    "collapsed": false
   }
  },
  {
   "cell_type": "code",
   "execution_count": 1,
   "metadata": {
    "collapsed": true
   },
   "outputs": [],
   "source": [
    "%load_ext autoreload\n",
    "%autoreload 2"
   ]
  },
  {
   "cell_type": "code",
   "execution_count": 2,
   "outputs": [],
   "source": [
    "import file_classes\n",
    "from file_classes import SpatialLightModulator, PhotostimulationDevice, ImagingPlane, HolographicPattern, PhotostimulationSeries"
   ],
   "metadata": {
    "collapsed": false,
    "pycharm": {
     "name": "#%%\n"
    }
   }
  },
  {
   "cell_type": "code",
   "execution_count": 3,
   "outputs": [],
   "source": [
    "from datetime import datetime\n",
    "from dateutil.tz import tzlocal\n",
    "\n",
    "from pynwb import NWBFile\n",
    "\n",
    "nwbfile = NWBFile('my first synthetic recording', 'EXAMPLE_ID', datetime.now(tzlocal()))"
   ],
   "metadata": {
    "collapsed": false,
    "pycharm": {
     "name": "#%%\n"
    }
   }
  },
  {
   "cell_type": "code",
   "execution_count": 4,
   "outputs": [
    {
     "data": {
      "text/plain": "device file_classes.PhotostimulationDevice at 0x140678037141296\nFields:\n  description: photostim_device\n  type: LED\n  wavelength: 320.0"
     },
     "execution_count": 4,
     "metadata": {},
     "output_type": "execute_result"
    }
   ],
   "source": [
    "slm = SpatialLightModulator(name=\"slm\", dimensions = [1, 2, 3])\n",
    "\n",
    "dev = PhotostimulationDevice(name=\"device\", description=\"photostim_device\", type='LED', wavelength=320.)\n",
    "nwbfile.add_device(dev)"
   ],
   "metadata": {
    "collapsed": false,
    "pycharm": {
     "name": "#%%\n"
    }
   }
  },
  {
   "cell_type": "code",
   "execution_count": 5,
   "outputs": [
    {
     "name": "stdout",
     "output_type": "stream",
     "text": [
      "imaging_plane file_classes.ImagingPlane at 0x140678037142400\n",
      "Fields:\n",
      "  device: device file_classes.PhotostimulationDevice at 0x140678037141296\n",
      "Fields:\n",
      "  description: photostim_device\n",
      "  type: LED\n",
      "  wavelength: 320.0\n",
      "\n",
      "\n"
     ]
    }
   ],
   "source": [
    "imaging_plane = ImagingPlane(name=\"imaging_plane\",  device=dev)\n",
    "print(imaging_plane)"
   ],
   "metadata": {
    "collapsed": false,
    "pycharm": {
     "name": "#%%\n"
    }
   }
  },
  {
   "cell_type": "code",
   "execution_count": 6,
   "outputs": [],
   "source": [
    "import numpy as np\n",
    "image_mask = np.zeros((100, 100))\n",
    "x = np.random.randint(0, 95)\n",
    "y = np.random.randint(0, 95)\n",
    "image_mask[x:x + 5, y:y + 5] = 1\n",
    "hp = HolographicPattern(name='HolographicPattern',  mask_roi= image_mask)"
   ],
   "metadata": {
    "collapsed": false,
    "pycharm": {
     "name": "#%%\n"
    }
   }
  },
  {
   "cell_type": "code",
   "execution_count": 7,
   "outputs": [],
   "source": [
    "x = np.random.randint(0, 95)\n",
    "y = np.random.randint(0, 95)\n",
    "\n",
    "pixel_roi = []\n",
    "for ix in range(x, x + 5):\n",
    "    for iy in range(y, y + 5):\n",
    "        pixel_roi.append((ix, iy, 1))\n",
    "\n",
    "hp2 = HolographicPattern(name='HolographicPattern', pixel_roi=pixel_roi, stimulation_diameter=5, dimension=[100, 100])"
   ],
   "metadata": {
    "collapsed": false,
    "pycharm": {
     "name": "#%%\n"
    }
   }
  },
  {
   "cell_type": "code",
   "execution_count": 10,
   "outputs": [],
   "source": [
    "from file_classes import PhotostimulationSeries\n",
    "ser = PhotostimulationSeries(name=\"photosim series\", pattern=hp, unit='SIunit',  field_of_view=1)\n",
    "ser.add_interval(10, 20)\n",
    "ser.add_interval(25, 60)"
   ],
   "metadata": {
    "collapsed": false,
    "pycharm": {
     "name": "#%%\n"
    }
   }
  },
  {
   "cell_type": "code",
   "execution_count": 14,
   "outputs": [
    {
     "name": "stderr",
     "output_type": "stream",
     "text": [
      "/Users/harriscaw/PycharmProjects/nwb-photostim/file_classes.py:222: UserWarning: if 'format' is 'series', 'stimulus_duration' should be specified\n",
      "  warnings.warn(\"if 'format' is 'series', 'stimulus_duration' should be specified\")\n"
     ]
    }
   ],
   "source": [
    "from file_classes import PhotostimulationSeries\n",
    "\n",
    "ser = PhotostimulationSeries(name=\"photosim series\", pattern=hp, unit='SIunit',  format='series', data=[1, 1, 1, 0, 0, 1], timestamps=[0.5, 1, 2, 3, 4, 5])\n",
    "# ser.add_interval(10, 20)\n",
    "# nwbfile.add_stimulus(ser)"
   ],
   "metadata": {
    "collapsed": false,
    "pycharm": {
     "name": "#%%\n"
    }
   }
  },
  {
   "cell_type": "code",
   "execution_count": null,
   "outputs": [],
   "source": [],
   "metadata": {
    "collapsed": false,
    "pycharm": {
     "name": "#%%\n"
    }
   }
  }
 ],
 "metadata": {
  "kernelspec": {
   "display_name": "Python 3",
   "language": "python",
   "name": "python3"
  },
  "language_info": {
   "codemirror_mode": {
    "name": "ipython",
    "version": 2
   },
   "file_extension": ".py",
   "mimetype": "text/x-python",
   "name": "python",
   "nbconvert_exporter": "python",
   "pygments_lexer": "ipython2",
   "version": "2.7.6"
  }
 },
 "nbformat": 4,
 "nbformat_minor": 0
}