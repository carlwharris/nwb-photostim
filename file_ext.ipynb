{
 "cells": [
  {
   "cell_type": "code",
   "execution_count": 3,
   "metadata": {
    "collapsed": true
   },
   "outputs": [],
   "source": [
    "from pynwb.spec import NWBDatasetSpec, NWBNamespaceBuilder, NWBGroupSpec\n",
    "from pynwb.spec import NWBNamespaceBuilder, export_spec, NWBGroupSpec, NWBAttributeSpec\n",
    "from pynwb.spec import NWBDatasetSpec\n",
    "\n",
    "\n",
    "ns_path = \"mylab.namespace.yaml\"\n",
    "ext_source = \"mylab.extensions.yaml\"\n",
    "\n",
    "ns_builder = NWBNamespaceBuilder('Extension for use in my Lab', \"mylab\", version='0.1.0')\n",
    "# Now we define the data structures. We use `NWBDataInterface` as the base type,\n",
    "# which is the most primitive type you are likely to use as a base. The name of the\n",
    "# class is `CorticalSurface`, and it requires two matrices, `vertices` and\n",
    "# `faces`.\n",
    "ns_builder.include_type('NWBDataInterface', namespace='core')\n",
    "ns_builder.include_type('DynamicTable', namespace='core')\n",
    "ns_builder.include_type('VectorData', namespace='core')\n",
    "ns_builder.include_type('VectorIndex', namespace='core')\n",
    "\n",
    "timestamps = NWBDatasetSpec(\n",
    "        name='timestamps',\n",
    "        dtype='float32',\n",
    "        dims=['num_events'],\n",
    "        shape=[None],\n",
    "        doc=('Event timestamps, in seconds, relative to the common experiment master-clock stored in '\n",
    "             'NWBFile.timestamps_reference_time.'),\n",
    "        attributes=[\n",
    "            NWBAttributeSpec(\n",
    "                name='unit',\n",
    "                dtype='text',\n",
    "                value='seconds',\n",
    "                doc=\"Unit of measurement for timestamps, which is fixed to 'seconds'.\",\n",
    "            ),\n",
    "            NWBAttributeSpec(\n",
    "                name='resolution',\n",
    "                dtype='float32',\n",
    "                doc=('The smallest possible difference between two event times. Usually 1 divided by the event time '\n",
    "                     'sampling rate on the data acquisition system.'),\n",
    "                required=False,\n",
    "            )\n",
    "        ]\n",
    "    )\n",
    "\n",
    "events = NWBGroupSpec(\n",
    "    neurodata_type_def='Events',\n",
    "    neurodata_type_inc='NWBDataInterface',\n",
    "    doc='A list of timestamps, stored in seconds, of an event.',\n",
    "    attributes=[\n",
    "        NWBAttributeSpec(\n",
    "            name='description',\n",
    "            dtype='text',\n",
    "            doc='Description of the event.',\n",
    "        ),\n",
    "    ],\n",
    "    datasets=[timestamps]\n",
    ")\n",
    "\n",
    "ns_builder.add_spec(ext_source, events)\n",
    "ns_builder.export(ns_path)"
   ]
  },
  {
   "cell_type": "code",
   "execution_count": 6,
   "outputs": [],
   "source": [
    "from pynwb import get_class, load_namespaces\n",
    "from pynwb import register_class, load_namespaces\n",
    "from pynwb.core import NWBContainer, NWBDataInterface\n",
    "from pynwb.base import TimeSeries\n",
    "from collections.abc import Iterable\n",
    "from pynwb.device import  Device\n",
    "from hdmf.utils import docval, popargs, get_docval, popargs_to_dict\n",
    "from pynwb.core import DynamicTable, VectorData\n",
    "import numpy as np\n",
    "from hdmf.utils import docval, getargs, popargs, popargs_to_dict, get_docval, call_docval_func\n",
    "import warnings\n",
    "\n",
    "from pynwb.io.core import NWBContainerMapper\n",
    "from pynwb import register_map\n",
    "\n",
    "from hdmf.build import LinkBuilder\n",
    "\n",
    "\n",
    "ns_path = \"mylab.namespace.yaml\"\n",
    "load_namespaces(ns_path)\n",
    "\n",
    "@register_class('Events', 'mylab')\n",
    "class Events(NWBDataInterface):\n",
    "    \"\"\"\n",
    "    A list of timestamps, stored in seconds, of an event.\n",
    "    \"\"\"\n",
    "\n",
    "    __nwbfields__ = ('description',\n",
    "                     'timestamps',\n",
    "                     'timestampsResolution',\n",
    "                     {'name': 'unit', 'settable': False})\n",
    "\n",
    "    @docval({'name': 'name', 'type': str, 'doc': 'The name of this Events object'},  # required\n",
    "            {'name': 'description', 'type': str, 'doc': 'The name of this Events object'},  # required\n",
    "            {'name': 'timestamps', 'type': ('array_data', 'data'),  # required\n",
    "             'doc': ('Event timestamps, in seconds, relative to the common experiment master-clock '\n",
    "                     'stored in NWBFile.timestamps_reference_time.'),\n",
    "             'shape': (None,)},\n",
    "            {'name': 'resolution', 'type': float,\n",
    "             'doc': ('The smallest possible difference between two event times. Usually 1 divided '\n",
    "                     'by the event time sampling rate on the data acquisition system.'),\n",
    "             'default': None})\n",
    "    def __init__(self, **kwargs):\n",
    "        description, timestamps, resolution = popargs('description', 'timestamps', 'resolution', kwargs)\n",
    "        # call_docval_func(super().__init__, kwargs)\n",
    "\n",
    "        super(Events, self).__init__(name=kwargs['name'])\n",
    "        self.description = description\n",
    "        self.timestamps = timestamps\n",
    "        self.resolution = resolution\n",
    "        self.fields['unit'] = 'seconds'\n",
    "\n",
    "@register_map(Events)\n",
    "class EventsMap(NWBContainerMapper):\n",
    "\n",
    "    def __init__(self, spec):\n",
    "        super(EventsMap, self).__init__(spec)\n",
    "        data_spec = self.spec.get_dataset('timestamps')\n",
    "        self.map_spec('unit', data_spec.get_attribute('unit'))\n",
    "        self.map_spec('timestampsResolution', data_spec.get_attribute('resolution'))\n",
    "\n",
    "        # TODO map the sync group to something\n",
    "        # sync_spec = self.spec.get_group('sync')\n",
    "        # self.unmap(sync_spec)"
   ],
   "metadata": {
    "collapsed": false,
    "pycharm": {
     "name": "#%%\n"
    }
   }
  },
  {
   "cell_type": "code",
   "execution_count": 7,
   "outputs": [
    {
     "name": "stdout",
     "output_type": "stream",
     "text": [
      "\n"
     ]
    }
   ],
   "source": [
    "\n",
    "from datetime import datetime\n",
    "from dateutil.tz import tzlocal\n",
    "from pynwb import load_namespaces\n",
    "\n",
    "from pynwb import NWBFile\n",
    "\n",
    "nwbfile = NWBFile(\n",
    "    'my first synthetic recording',\n",
    "    'EXAMPLE_ID',\n",
    "    datetime.now(tzlocal()),\n",
    ")\n",
    "\n",
    "events = Events(\n",
    "            name='Events',\n",
    "            description='events from my experiment',\n",
    "            timestamps=[0., 1., 2.],\n",
    "            resolution=1e-5\n",
    "        )\n",
    "\n",
    "from pynwb import NWBHDF5IO\n",
    "\n",
    "\n",
    "nwbfile.add_acquisition(events)\n",
    "\n",
    "with NWBHDF5IO(\"basics_tutorial.nwb\", \"w\") as io:\n",
    "    io.write(nwbfile)\n",
    "\n",
    "with NWBHDF5IO(\"basics_tutorial.nwb\", \"r\", load_namespaces=True) as io:\n",
    "    read_nwbfile = io.read()\n",
    "\n",
    "\n",
    "print('')"
   ],
   "metadata": {
    "collapsed": false,
    "pycharm": {
     "name": "#%%\n"
    }
   }
  },
  {
   "cell_type": "code",
   "execution_count": 20,
   "outputs": [],
   "source": [
    "io.close()"
   ],
   "metadata": {
    "collapsed": false,
    "pycharm": {
     "name": "#%%\n"
    }
   }
  },
  {
   "cell_type": "code",
   "execution_count": null,
   "outputs": [],
   "source": [
    "with NWBHDF5IO(\"basics_tutorial.nwb\", \"r\", load_namespaces=True) as io:\n",
    "    read_nwbfile = io.read()\n"
   ],
   "metadata": {
    "collapsed": false,
    "pycharm": {
     "name": "#%%\n"
    }
   }
  }
 ],
 "metadata": {
  "kernelspec": {
   "display_name": "Python 3",
   "language": "python",
   "name": "python3"
  },
  "language_info": {
   "codemirror_mode": {
    "name": "ipython",
    "version": 2
   },
   "file_extension": ".py",
   "mimetype": "text/x-python",
   "name": "python",
   "nbconvert_exporter": "python",
   "pygments_lexer": "ipython2",
   "version": "2.7.6"
  }
 },
 "nbformat": 4,
 "nbformat_minor": 0
}