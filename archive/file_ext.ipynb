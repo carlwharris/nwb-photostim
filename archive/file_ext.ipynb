{
 "cells": [
  {
   "cell_type": "code",
   "execution_count": 2,
   "outputs": [],
   "source": [
    "from nwbinspector import inspect_nwb\n",
    "\n",
    "results = list(inspect_nwb(nwbfile_path=\"basics_tutorial.nwb\"))"
   ],
   "metadata": {
    "collapsed": false,
    "pycharm": {
     "name": "#%%\n"
    }
   }
  },
  {
   "cell_type": "code",
   "execution_count": 5,
   "outputs": [],
   "source": [
    "from pynwb import NWBFile\n",
    "import pandas as pd\n",
    "from pynwb import register_class, load_namespaces\n",
    "from pynwb.core import NWBContainer, NWBDataInterface\n",
    "from pynwb.base import TimeSeries\n",
    "from collections.abc import Iterable\n",
    "from pynwb.device import  Device\n",
    "from hdmf.utils import docval, popargs, get_docval, popargs_to_dict\n",
    "from pynwb.core import DynamicTable, VectorData\n",
    "import numpy as np\n",
    "from hdmf.utils import docval, getargs, popargs, popargs_to_dict, get_docval, call_docval_func\n",
    "import warnings\n",
    "from pynwb.io.core import NWBContainerMapper\n",
    "from pynwb import register_map\n",
    "from pynwb.base import TimeSeries, TimeSeriesReferenceVectorData, TimeSeriesReference\n",
    "from pynwb.file import MultiContainerInterface, NWBContainer\n",
    "from hdmf.build import ObjectMapper\n",
    "from hdmf.common.io.table import DynamicTableMap\n",
    "import matplotlib.pyplot as plt\n",
    "from pynwb import NWBFile\n",
    "\n",
    "# @docval(get_docval(NWBFile.__init__))\n",
    "def new_init(self, **kwargs):\n",
    "    NWBFile.__init__(self, **kwargs)\n",
    "\n",
    "NWBFile.__init__ = new_init\n",
    "#"
   ],
   "metadata": {
    "collapsed": false,
    "pycharm": {
     "name": "#%%\n"
    }
   }
  },
  {
   "cell_type": "code",
   "execution_count": 5,
   "metadata": {
    "collapsed": true
   },
   "outputs": [],
   "source": [
    "from pynwb.spec import NWBDatasetSpec, NWBNamespaceBuilder, NWBGroupSpec\n",
    "from pynwb.spec import NWBNamespaceBuilder, export_spec, NWBGroupSpec, NWBAttributeSpec\n",
    "from pynwb.spec import NWBDatasetSpec\n",
    "from pynwb.spec import NWBNamespaceBuilder, NWBGroupSpec, NWBAttributeSpec, NWBLinkSpec, NWBDtypeSpec, NWBDatasetSpec, NWBRefSpec\n",
    "from datetime import datetime\n",
    "from dateutil.tz import tzlocal\n",
    "\n",
    "from pynwb import NWBFile\n",
    "\n",
    "ns_path = \"mylab.namespace.yaml\"\n",
    "ext_source = \"mylab.extensions.yaml\"\n",
    "\n",
    "ns_builder = NWBNamespaceBuilder('Extension for use in my Lab', \"mylab\", version='0.1.0')\n",
    "# Now we define the data structures. We use `NWBDataInterface` as the base type,\n",
    "# which is the most primitive type you are likely to use as a base. The name of the\n",
    "# class is `CorticalSurface`, and it requires two matrices, `vertices` and\n",
    "# `faces`.\n",
    "ns_builder.include_type('NWBContainer', namespace='core')\n",
    "ns_builder.include_type('Device', namespace='core')\n",
    "ns_builder.include_type('NWBDataInterface', namespace='core')\n",
    "ns_builder.include_type('TimeSeries', namespace='core')\n",
    "ns_builder.include_type('DynamicTable', namespace='core')\n",
    "ns_builder.include_type('VectorData', namespace='core')\n",
    "ns_builder.include_type('VectorIndex', namespace='core')\n",
    "ns_builder.include_type(\"DynamicTableRegion\", namespace=\"core\")\n",
    "ns_builder.include_type(\"TimeSeriesReferenceVectorData\", namespace=\"core\")\n",
    "#\n",
    "series = NWBGroupSpec(\n",
    "    name='series',\n",
    "    neurodata_type_def='Series',\n",
    "    neurodata_type_inc='TimeSeries',\n",
    "    doc=('PhotostimulationSeries container'),\n",
    ")\n",
    "ns_builder.add_spec(ext_source, series)\n",
    "\n",
    "# series_ref=NWBDatasetSpec(name='series',\n",
    "#                          quantity='?',\n",
    "#                            doc='...',\n",
    "#                          neurodata_type_inc='VectorData',\n",
    "#                          dtype=[\n",
    "#                              NWBDtypeSpec('series', 'column for foo', dtype=NWBRefSpec(target_type='Series', reftype='object'))\n",
    "#                          ])\n",
    "\n",
    "# series_ref = NWBDatasetSpec(name='time_series', doc='...', neurodata_type_inc='TimeSeries')#, neurodata_type_inc='TimeSeriesReferenceVectorData', dtype=NWBRefSpec(target_type='TimeSeries', reftype='object'), doc=('...'), quantity='?')\n",
    "\n",
    "#, neurodata_type_inc='TimeSeriesReferenceVectorData',\n",
    "\n",
    "events = NWBGroupSpec(\n",
    "    neurodata_type_def='Events',\n",
    "    neurodata_type_inc='DynamicTable',\n",
    "    doc='A list of timestamps, stored in seconds, of an event.',\n",
    "    # datasets=[NWBDatasetSpec(name='series', doc='pres', quantity='?', neurodata_type_inc='TimeSeriesReferenceVectorData')]\n",
    "    # datasets=[NWBDatasetSpec(name='series', doc='pres', quantity='?',  neurodata_type_inc='VectorData', dtype=NWBRefSpec(target_type='Series', reftype='object'))]\n",
    "# datasets=[NWBDatasetSpec(name='time_series', doc='...', neurodata_type_inc='TimeSeriesReferenceVectorData')]\n",
    "    # groups=[NWBGroupSpec(name='time_series', doc='...', datasets=[series_ref])]\n",
    "\n",
    "    groups=[series]\n",
    ")\n",
    "\n",
    "ns_builder.add_spec(ext_source, events)\n",
    "ns_builder.export(ns_path)"
   ]
  },
  {
   "cell_type": "code",
   "execution_count": 6,
   "outputs": [],
   "source": [
    "from pynwb import get_class, load_namespaces\n",
    "from pynwb import register_class, load_namespaces\n",
    "from pynwb.core import NWBContainer, NWBDataInterface\n",
    "from pynwb.base import TimeSeries\n",
    "from collections.abc import Iterable\n",
    "from pynwb.device import  Device\n",
    "from hdmf.utils import docval, popargs, get_docval, popargs_to_dict\n",
    "from pynwb.core import DynamicTable, VectorData\n",
    "import numpy as np\n",
    "from hdmf.utils import docval, getargs, popargs, popargs_to_dict, get_docval, call_docval_func\n",
    "import warnings\n",
    "from pynwb.base import TimeSeriesReferenceVectorData\n",
    "\n",
    "from pynwb.io.core import NWBContainerMapper\n",
    "from pynwb import register_map\n",
    "\n",
    "from hdmf.build import LinkBuilder\n",
    "\n",
    "\n",
    "ns_path = \"mylab.namespace.yaml\"\n",
    "load_namespaces(ns_path)\n",
    "\n",
    "\n",
    "@register_class('Series', 'mylab')\n",
    "class Series(TimeSeries):\n",
    "\n",
    "    @docval(*get_docval(TimeSeries.__init__)\n",
    "    )\n",
    "    def __init__(self, **kwargs):\n",
    "       super().__init__(**kwargs)\n",
    "\n",
    "@register_class('Events', 'mylab')\n",
    "class Events(DynamicTable):\n",
    "    \"\"\"\n",
    "    A list of timestamps, stored in seconds, of an event.\n",
    "    \"\"\"\n",
    "\n",
    "    __columns__ = (\n",
    "            {'name': 'time_series', 'description': 'PatchClampSeries with the same sweep number' },\n",
    "    )\n",
    "\n",
    "    @docval({'name': 'name', 'type': str, 'doc': 'name of this SweepTable', 'default': 'sweep_table'},\n",
    "            {'name': 'description', 'type': str, 'doc': 'Description of this SweepTable',\n",
    "             'default': \"A sweep table groups different PatchClampSeries together.\"},\n",
    "            *get_docval(DynamicTable.__init__, 'id', 'columns', 'colnames'))\n",
    "    def __init__(self, **kwargs):\n",
    "        super().__init__(**kwargs)\n",
    "\n",
    "    @docval({'name': 'time_series', 'type': Series, 'doc': 'name of this TimeIntervals', 'default': None},\n",
    "    allow_extra=True)\n",
    "    def add_event_type(self, **kwargs):\n",
    "        \"\"\"Add an event type as a row to this table.\"\"\"\n",
    "        # data = {'time_series': kwargs['time_series']}\n",
    "        super().add_row(**kwargs)\n"
   ],
   "metadata": {
    "collapsed": false,
    "pycharm": {
     "name": "#%%\n"
    }
   }
  },
  {
   "cell_type": "code",
   "execution_count": 7,
   "outputs": [
    {
     "ename": "ContainerConfigurationError",
     "evalue": "Events 'sweep_table' does not have attribute 'series' for mapping to spec: {'dtype': {'target_type': 'Series', 'reftype': 'object'}, 'doc': 'pres', 'name': 'series', 'quantity': '?', 'neurodata_type_inc': 'VectorData'}",
     "output_type": "error",
     "traceback": [
      "\u001B[0;31m---------------------------------------------------------------------------\u001B[0m",
      "\u001B[0;31mAttributeError\u001B[0m                            Traceback (most recent call last)",
      "File \u001B[0;32m~/opt/anaconda3/envs/nwb-photostim/lib/python3.10/site-packages/hdmf/build/objectmapper.py:555\u001B[0m, in \u001B[0;36mObjectMapper.get_attr_value\u001B[0;34m(self, **kwargs)\u001B[0m\n\u001B[1;32m    554\u001B[0m \u001B[38;5;28;01mtry\u001B[39;00m:\n\u001B[0;32m--> 555\u001B[0m     attr_val \u001B[38;5;241m=\u001B[39m \u001B[38;5;28;43mgetattr\u001B[39;49m\u001B[43m(\u001B[49m\u001B[43mcontainer\u001B[49m\u001B[43m,\u001B[49m\u001B[43m \u001B[49m\u001B[43mattr_name\u001B[49m\u001B[43m)\u001B[49m\n\u001B[1;32m    556\u001B[0m \u001B[38;5;28;01mexcept\u001B[39;00m \u001B[38;5;167;01mAttributeError\u001B[39;00m:\n",
      "\u001B[0;31mAttributeError\u001B[0m: 'Events' object has no attribute 'series'",
      "\nDuring handling of the above exception, another exception occurred:\n",
      "\u001B[0;31mContainerConfigurationError\u001B[0m               Traceback (most recent call last)",
      "Input \u001B[0;32mIn [7]\u001B[0m, in \u001B[0;36m<cell line: 17>\u001B[0;34m()\u001B[0m\n\u001B[1;32m     16\u001B[0m nwbfile\u001B[38;5;241m.\u001B[39madd_acquisition(sp)\n\u001B[1;32m     17\u001B[0m \u001B[38;5;28;01mwith\u001B[39;00m NWBHDF5IO(\u001B[38;5;124m\"\u001B[39m\u001B[38;5;124mbasics_tutorial.nwb\u001B[39m\u001B[38;5;124m\"\u001B[39m, \u001B[38;5;124m\"\u001B[39m\u001B[38;5;124mw\u001B[39m\u001B[38;5;124m\"\u001B[39m) \u001B[38;5;28;01mas\u001B[39;00m io:\n\u001B[1;32m     18\u001B[0m     \u001B[38;5;66;03m# io.write(series)\u001B[39;00m\n\u001B[0;32m---> 19\u001B[0m     \u001B[43mio\u001B[49m\u001B[38;5;241;43m.\u001B[39;49m\u001B[43mwrite\u001B[49m\u001B[43m(\u001B[49m\u001B[43mnwbfile\u001B[49m\u001B[43m)\u001B[49m\n\u001B[1;32m     21\u001B[0m \u001B[38;5;28;01mwith\u001B[39;00m NWBHDF5IO(\u001B[38;5;124m\"\u001B[39m\u001B[38;5;124mbasics_tutorial.nwb\u001B[39m\u001B[38;5;124m\"\u001B[39m, \u001B[38;5;124m\"\u001B[39m\u001B[38;5;124mr\u001B[39m\u001B[38;5;124m\"\u001B[39m, load_namespaces\u001B[38;5;241m=\u001B[39m\u001B[38;5;28;01mTrue\u001B[39;00m) \u001B[38;5;28;01mas\u001B[39;00m io:\n\u001B[1;32m     22\u001B[0m     read_nwbfile \u001B[38;5;241m=\u001B[39m io\u001B[38;5;241m.\u001B[39mread()\n",
      "File \u001B[0;32m~/opt/anaconda3/envs/nwb-photostim/lib/python3.10/site-packages/hdmf/utils.py:645\u001B[0m, in \u001B[0;36mdocval.<locals>.dec.<locals>.func_call\u001B[0;34m(*args, **kwargs)\u001B[0m\n\u001B[1;32m    643\u001B[0m \u001B[38;5;28;01mdef\u001B[39;00m \u001B[38;5;21mfunc_call\u001B[39m(\u001B[38;5;241m*\u001B[39margs, \u001B[38;5;241m*\u001B[39m\u001B[38;5;241m*\u001B[39mkwargs):\n\u001B[1;32m    644\u001B[0m     pargs \u001B[38;5;241m=\u001B[39m _check_args(args, kwargs)\n\u001B[0;32m--> 645\u001B[0m     \u001B[38;5;28;01mreturn\u001B[39;00m \u001B[43mfunc\u001B[49m\u001B[43m(\u001B[49m\u001B[43margs\u001B[49m\u001B[43m[\u001B[49m\u001B[38;5;241;43m0\u001B[39;49m\u001B[43m]\u001B[49m\u001B[43m,\u001B[49m\u001B[43m \u001B[49m\u001B[38;5;241;43m*\u001B[39;49m\u001B[38;5;241;43m*\u001B[39;49m\u001B[43mpargs\u001B[49m\u001B[43m)\u001B[49m\n",
      "File \u001B[0;32m~/opt/anaconda3/envs/nwb-photostim/lib/python3.10/site-packages/hdmf/backends/hdf5/h5tools.py:358\u001B[0m, in \u001B[0;36mHDF5IO.write\u001B[0;34m(self, **kwargs)\u001B[0m\n\u001B[1;32m    353\u001B[0m     \u001B[38;5;28;01mraise\u001B[39;00m UnsupportedOperation((\u001B[38;5;124m\"\u001B[39m\u001B[38;5;124mCannot write to file \u001B[39m\u001B[38;5;132;01m%s\u001B[39;00m\u001B[38;5;124m in mode \u001B[39m\u001B[38;5;124m'\u001B[39m\u001B[38;5;132;01m%s\u001B[39;00m\u001B[38;5;124m'\u001B[39m\u001B[38;5;124m. \u001B[39m\u001B[38;5;124m\"\u001B[39m\n\u001B[1;32m    354\u001B[0m                                 \u001B[38;5;124m\"\u001B[39m\u001B[38;5;124mPlease use mode \u001B[39m\u001B[38;5;124m'\u001B[39m\u001B[38;5;124mr+\u001B[39m\u001B[38;5;124m'\u001B[39m\u001B[38;5;124m, \u001B[39m\u001B[38;5;124m'\u001B[39m\u001B[38;5;124mw\u001B[39m\u001B[38;5;124m'\u001B[39m\u001B[38;5;124m, \u001B[39m\u001B[38;5;124m'\u001B[39m\u001B[38;5;124mw-\u001B[39m\u001B[38;5;124m'\u001B[39m\u001B[38;5;124m, \u001B[39m\u001B[38;5;124m'\u001B[39m\u001B[38;5;124mx\u001B[39m\u001B[38;5;124m'\u001B[39m\u001B[38;5;124m, or \u001B[39m\u001B[38;5;124m'\u001B[39m\u001B[38;5;124ma\u001B[39m\u001B[38;5;124m'\u001B[39m\u001B[38;5;124m\"\u001B[39m)\n\u001B[1;32m    355\u001B[0m                                \u001B[38;5;241m%\u001B[39m (\u001B[38;5;28mself\u001B[39m\u001B[38;5;241m.\u001B[39msource, \u001B[38;5;28mself\u001B[39m\u001B[38;5;241m.\u001B[39m__mode))\n\u001B[1;32m    357\u001B[0m cache_spec \u001B[38;5;241m=\u001B[39m popargs(\u001B[38;5;124m'\u001B[39m\u001B[38;5;124mcache_spec\u001B[39m\u001B[38;5;124m'\u001B[39m, kwargs)\n\u001B[0;32m--> 358\u001B[0m \u001B[38;5;28;43msuper\u001B[39;49m\u001B[43m(\u001B[49m\u001B[43m)\u001B[49m\u001B[38;5;241;43m.\u001B[39;49m\u001B[43mwrite\u001B[49m\u001B[43m(\u001B[49m\u001B[38;5;241;43m*\u001B[39;49m\u001B[38;5;241;43m*\u001B[39;49m\u001B[43mkwargs\u001B[49m\u001B[43m)\u001B[49m\n\u001B[1;32m    359\u001B[0m \u001B[38;5;28;01mif\u001B[39;00m cache_spec:\n\u001B[1;32m    360\u001B[0m     \u001B[38;5;28mself\u001B[39m\u001B[38;5;241m.\u001B[39m__cache_spec()\n",
      "File \u001B[0;32m~/opt/anaconda3/envs/nwb-photostim/lib/python3.10/site-packages/hdmf/utils.py:645\u001B[0m, in \u001B[0;36mdocval.<locals>.dec.<locals>.func_call\u001B[0;34m(*args, **kwargs)\u001B[0m\n\u001B[1;32m    643\u001B[0m \u001B[38;5;28;01mdef\u001B[39;00m \u001B[38;5;21mfunc_call\u001B[39m(\u001B[38;5;241m*\u001B[39margs, \u001B[38;5;241m*\u001B[39m\u001B[38;5;241m*\u001B[39mkwargs):\n\u001B[1;32m    644\u001B[0m     pargs \u001B[38;5;241m=\u001B[39m _check_args(args, kwargs)\n\u001B[0;32m--> 645\u001B[0m     \u001B[38;5;28;01mreturn\u001B[39;00m \u001B[43mfunc\u001B[49m\u001B[43m(\u001B[49m\u001B[43margs\u001B[49m\u001B[43m[\u001B[49m\u001B[38;5;241;43m0\u001B[39;49m\u001B[43m]\u001B[49m\u001B[43m,\u001B[49m\u001B[43m \u001B[49m\u001B[38;5;241;43m*\u001B[39;49m\u001B[38;5;241;43m*\u001B[39;49m\u001B[43mpargs\u001B[49m\u001B[43m)\u001B[49m\n",
      "File \u001B[0;32m~/opt/anaconda3/envs/nwb-photostim/lib/python3.10/site-packages/hdmf/backends/io.py:50\u001B[0m, in \u001B[0;36mHDMFIO.write\u001B[0;34m(self, **kwargs)\u001B[0m\n\u001B[1;32m     48\u001B[0m \u001B[38;5;124;03m\"\"\"Write a container to the IO source.\"\"\"\u001B[39;00m\n\u001B[1;32m     49\u001B[0m container \u001B[38;5;241m=\u001B[39m popargs(\u001B[38;5;124m'\u001B[39m\u001B[38;5;124mcontainer\u001B[39m\u001B[38;5;124m'\u001B[39m, kwargs)\n\u001B[0;32m---> 50\u001B[0m f_builder \u001B[38;5;241m=\u001B[39m \u001B[38;5;28;43mself\u001B[39;49m\u001B[38;5;241;43m.\u001B[39;49m\u001B[43m__manager\u001B[49m\u001B[38;5;241;43m.\u001B[39;49m\u001B[43mbuild\u001B[49m\u001B[43m(\u001B[49m\u001B[43mcontainer\u001B[49m\u001B[43m,\u001B[49m\u001B[43m \u001B[49m\u001B[43msource\u001B[49m\u001B[38;5;241;43m=\u001B[39;49m\u001B[38;5;28;43mself\u001B[39;49m\u001B[38;5;241;43m.\u001B[39;49m\u001B[43m__source\u001B[49m\u001B[43m,\u001B[49m\u001B[43m \u001B[49m\u001B[43mroot\u001B[49m\u001B[38;5;241;43m=\u001B[39;49m\u001B[38;5;28;43;01mTrue\u001B[39;49;00m\u001B[43m)\u001B[49m\n\u001B[1;32m     51\u001B[0m \u001B[38;5;28mself\u001B[39m\u001B[38;5;241m.\u001B[39mwrite_builder(f_builder, \u001B[38;5;241m*\u001B[39m\u001B[38;5;241m*\u001B[39mkwargs)\n",
      "File \u001B[0;32m~/opt/anaconda3/envs/nwb-photostim/lib/python3.10/site-packages/hdmf/utils.py:645\u001B[0m, in \u001B[0;36mdocval.<locals>.dec.<locals>.func_call\u001B[0;34m(*args, **kwargs)\u001B[0m\n\u001B[1;32m    643\u001B[0m \u001B[38;5;28;01mdef\u001B[39;00m \u001B[38;5;21mfunc_call\u001B[39m(\u001B[38;5;241m*\u001B[39margs, \u001B[38;5;241m*\u001B[39m\u001B[38;5;241m*\u001B[39mkwargs):\n\u001B[1;32m    644\u001B[0m     pargs \u001B[38;5;241m=\u001B[39m _check_args(args, kwargs)\n\u001B[0;32m--> 645\u001B[0m     \u001B[38;5;28;01mreturn\u001B[39;00m \u001B[43mfunc\u001B[49m\u001B[43m(\u001B[49m\u001B[43margs\u001B[49m\u001B[43m[\u001B[49m\u001B[38;5;241;43m0\u001B[39;49m\u001B[43m]\u001B[49m\u001B[43m,\u001B[49m\u001B[43m \u001B[49m\u001B[38;5;241;43m*\u001B[39;49m\u001B[38;5;241;43m*\u001B[39;49m\u001B[43mpargs\u001B[49m\u001B[43m)\u001B[49m\n",
      "File \u001B[0;32m~/opt/anaconda3/envs/nwb-photostim/lib/python3.10/site-packages/hdmf/build/manager.py:171\u001B[0m, in \u001B[0;36mBuildManager.build\u001B[0;34m(self, **kwargs)\u001B[0m\n\u001B[1;32m    167\u001B[0m             \u001B[38;5;28;01mraise\u001B[39;00m \u001B[38;5;167;01mValueError\u001B[39;00m(\u001B[38;5;124m\"\u001B[39m\u001B[38;5;124mCannot change container_source once set: \u001B[39m\u001B[38;5;124m'\u001B[39m\u001B[38;5;132;01m%s\u001B[39;00m\u001B[38;5;124m'\u001B[39m\u001B[38;5;124m \u001B[39m\u001B[38;5;132;01m%s\u001B[39;00m\u001B[38;5;124m.\u001B[39m\u001B[38;5;132;01m%s\u001B[39;00m\u001B[38;5;124m\"\u001B[39m\n\u001B[1;32m    168\u001B[0m                              \u001B[38;5;241m%\u001B[39m (container\u001B[38;5;241m.\u001B[39mname, container\u001B[38;5;241m.\u001B[39m\u001B[38;5;18m__class__\u001B[39m\u001B[38;5;241m.\u001B[39m\u001B[38;5;18m__module__\u001B[39m,\n\u001B[1;32m    169\u001B[0m                                 container\u001B[38;5;241m.\u001B[39m\u001B[38;5;18m__class__\u001B[39m\u001B[38;5;241m.\u001B[39m\u001B[38;5;18m__name__\u001B[39m))\n\u001B[1;32m    170\u001B[0m \u001B[38;5;66;03m# NOTE: if exporting, then existing cached builder will be ignored and overridden with new build result\u001B[39;00m\n\u001B[0;32m--> 171\u001B[0m result \u001B[38;5;241m=\u001B[39m \u001B[38;5;28;43mself\u001B[39;49m\u001B[38;5;241;43m.\u001B[39;49m\u001B[43m__type_map\u001B[49m\u001B[38;5;241;43m.\u001B[39;49m\u001B[43mbuild\u001B[49m\u001B[43m(\u001B[49m\u001B[43mcontainer\u001B[49m\u001B[43m,\u001B[49m\u001B[43m \u001B[49m\u001B[38;5;28;43mself\u001B[39;49m\u001B[43m,\u001B[49m\u001B[43m \u001B[49m\u001B[43msource\u001B[49m\u001B[38;5;241;43m=\u001B[39;49m\u001B[43msource\u001B[49m\u001B[43m,\u001B[49m\u001B[43m \u001B[49m\u001B[43mspec_ext\u001B[49m\u001B[38;5;241;43m=\u001B[39;49m\u001B[43mspec_ext\u001B[49m\u001B[43m,\u001B[49m\u001B[43m \u001B[49m\u001B[43mexport\u001B[49m\u001B[38;5;241;43m=\u001B[39;49m\u001B[43mexport\u001B[49m\u001B[43m)\u001B[49m\n\u001B[1;32m    172\u001B[0m \u001B[38;5;28mself\u001B[39m\u001B[38;5;241m.\u001B[39mprebuilt(container, result)\n\u001B[1;32m    173\u001B[0m \u001B[38;5;28mself\u001B[39m\u001B[38;5;241m.\u001B[39m__active_prebuilt(result)\n",
      "File \u001B[0;32m~/opt/anaconda3/envs/nwb-photostim/lib/python3.10/site-packages/hdmf/utils.py:645\u001B[0m, in \u001B[0;36mdocval.<locals>.dec.<locals>.func_call\u001B[0;34m(*args, **kwargs)\u001B[0m\n\u001B[1;32m    643\u001B[0m \u001B[38;5;28;01mdef\u001B[39;00m \u001B[38;5;21mfunc_call\u001B[39m(\u001B[38;5;241m*\u001B[39margs, \u001B[38;5;241m*\u001B[39m\u001B[38;5;241m*\u001B[39mkwargs):\n\u001B[1;32m    644\u001B[0m     pargs \u001B[38;5;241m=\u001B[39m _check_args(args, kwargs)\n\u001B[0;32m--> 645\u001B[0m     \u001B[38;5;28;01mreturn\u001B[39;00m \u001B[43mfunc\u001B[49m\u001B[43m(\u001B[49m\u001B[43margs\u001B[49m\u001B[43m[\u001B[49m\u001B[38;5;241;43m0\u001B[39;49m\u001B[43m]\u001B[49m\u001B[43m,\u001B[49m\u001B[43m \u001B[49m\u001B[38;5;241;43m*\u001B[39;49m\u001B[38;5;241;43m*\u001B[39;49m\u001B[43mpargs\u001B[49m\u001B[43m)\u001B[49m\n",
      "File \u001B[0;32m~/opt/anaconda3/envs/nwb-photostim/lib/python3.10/site-packages/hdmf/build/manager.py:764\u001B[0m, in \u001B[0;36mTypeMap.build\u001B[0;34m(self, **kwargs)\u001B[0m\n\u001B[1;32m    762\u001B[0m \u001B[38;5;28;01mif\u001B[39;00m manager \u001B[38;5;129;01mis\u001B[39;00m \u001B[38;5;28;01mNone\u001B[39;00m:\n\u001B[1;32m    763\u001B[0m     manager \u001B[38;5;241m=\u001B[39m BuildManager(\u001B[38;5;28mself\u001B[39m)\n\u001B[0;32m--> 764\u001B[0m builder \u001B[38;5;241m=\u001B[39m \u001B[43mobj_mapper\u001B[49m\u001B[38;5;241;43m.\u001B[39;49m\u001B[43mbuild\u001B[49m\u001B[43m(\u001B[49m\u001B[43mcontainer\u001B[49m\u001B[43m,\u001B[49m\u001B[43m \u001B[49m\u001B[43mmanager\u001B[49m\u001B[43m,\u001B[49m\u001B[43m \u001B[49m\u001B[43mbuilder\u001B[49m\u001B[38;5;241;43m=\u001B[39;49m\u001B[43mbuilder\u001B[49m\u001B[43m,\u001B[49m\u001B[43m \u001B[49m\u001B[43msource\u001B[49m\u001B[38;5;241;43m=\u001B[39;49m\u001B[43msource\u001B[49m\u001B[43m,\u001B[49m\u001B[43m \u001B[49m\u001B[43mspec_ext\u001B[49m\u001B[38;5;241;43m=\u001B[39;49m\u001B[43mspec_ext\u001B[49m\u001B[43m,\u001B[49m\u001B[43m \u001B[49m\u001B[43mexport\u001B[49m\u001B[38;5;241;43m=\u001B[39;49m\u001B[43mexport\u001B[49m\u001B[43m)\u001B[49m\n\u001B[1;32m    766\u001B[0m \u001B[38;5;66;03m# add additional attributes (namespace, data_type, object_id) to builder\u001B[39;00m\n\u001B[1;32m    767\u001B[0m namespace, data_type \u001B[38;5;241m=\u001B[39m \u001B[38;5;28mself\u001B[39m\u001B[38;5;241m.\u001B[39mget_container_ns_dt(container)\n",
      "File \u001B[0;32m~/opt/anaconda3/envs/nwb-photostim/lib/python3.10/site-packages/hdmf/utils.py:645\u001B[0m, in \u001B[0;36mdocval.<locals>.dec.<locals>.func_call\u001B[0;34m(*args, **kwargs)\u001B[0m\n\u001B[1;32m    643\u001B[0m \u001B[38;5;28;01mdef\u001B[39;00m \u001B[38;5;21mfunc_call\u001B[39m(\u001B[38;5;241m*\u001B[39margs, \u001B[38;5;241m*\u001B[39m\u001B[38;5;241m*\u001B[39mkwargs):\n\u001B[1;32m    644\u001B[0m     pargs \u001B[38;5;241m=\u001B[39m _check_args(args, kwargs)\n\u001B[0;32m--> 645\u001B[0m     \u001B[38;5;28;01mreturn\u001B[39;00m \u001B[43mfunc\u001B[49m\u001B[43m(\u001B[49m\u001B[43margs\u001B[49m\u001B[43m[\u001B[49m\u001B[38;5;241;43m0\u001B[39;49m\u001B[43m]\u001B[49m\u001B[43m,\u001B[49m\u001B[43m \u001B[49m\u001B[38;5;241;43m*\u001B[39;49m\u001B[38;5;241;43m*\u001B[39;49m\u001B[43mpargs\u001B[49m\u001B[43m)\u001B[49m\n",
      "File \u001B[0;32m~/opt/anaconda3/envs/nwb-photostim/lib/python3.10/site-packages/hdmf/build/objectmapper.py:706\u001B[0m, in \u001B[0;36mObjectMapper.build\u001B[0;34m(self, **kwargs)\u001B[0m\n\u001B[1;32m    704\u001B[0m         builder \u001B[38;5;241m=\u001B[39m GroupBuilder(name, parent\u001B[38;5;241m=\u001B[39mparent, source\u001B[38;5;241m=\u001B[39msource)\n\u001B[1;32m    705\u001B[0m     \u001B[38;5;28mself\u001B[39m\u001B[38;5;241m.\u001B[39m__add_datasets(builder, \u001B[38;5;28mself\u001B[39m\u001B[38;5;241m.\u001B[39m__spec\u001B[38;5;241m.\u001B[39mdatasets, container, manager, source, export)\n\u001B[0;32m--> 706\u001B[0m     \u001B[38;5;28;43mself\u001B[39;49m\u001B[38;5;241;43m.\u001B[39;49m\u001B[43m__add_groups\u001B[49m\u001B[43m(\u001B[49m\u001B[43mbuilder\u001B[49m\u001B[43m,\u001B[49m\u001B[43m \u001B[49m\u001B[38;5;28;43mself\u001B[39;49m\u001B[38;5;241;43m.\u001B[39;49m\u001B[43m__spec\u001B[49m\u001B[38;5;241;43m.\u001B[39;49m\u001B[43mgroups\u001B[49m\u001B[43m,\u001B[49m\u001B[43m \u001B[49m\u001B[43mcontainer\u001B[49m\u001B[43m,\u001B[49m\u001B[43m \u001B[49m\u001B[43mmanager\u001B[49m\u001B[43m,\u001B[49m\u001B[43m \u001B[49m\u001B[43msource\u001B[49m\u001B[43m,\u001B[49m\u001B[43m \u001B[49m\u001B[43mexport\u001B[49m\u001B[43m)\u001B[49m\n\u001B[1;32m    707\u001B[0m     \u001B[38;5;28mself\u001B[39m\u001B[38;5;241m.\u001B[39m__add_links(builder, \u001B[38;5;28mself\u001B[39m\u001B[38;5;241m.\u001B[39m__spec\u001B[38;5;241m.\u001B[39mlinks, container, manager, source, export)\n\u001B[1;32m    708\u001B[0m \u001B[38;5;28;01melse\u001B[39;00m:\n",
      "File \u001B[0;32m~/opt/anaconda3/envs/nwb-photostim/lib/python3.10/site-packages/hdmf/build/objectmapper.py:1027\u001B[0m, in \u001B[0;36mObjectMapper.__add_groups\u001B[0;34m(self, builder, groups, container, build_manager, source, export)\u001B[0m\n\u001B[1;32m   1025\u001B[0m \u001B[38;5;28mself\u001B[39m\u001B[38;5;241m.\u001B[39m__add_datasets(sub_builder, spec\u001B[38;5;241m.\u001B[39mdatasets, container, build_manager, source, export)\n\u001B[1;32m   1026\u001B[0m \u001B[38;5;28mself\u001B[39m\u001B[38;5;241m.\u001B[39m__add_links(sub_builder, spec\u001B[38;5;241m.\u001B[39mlinks, container, build_manager, source, export)\n\u001B[0;32m-> 1027\u001B[0m \u001B[38;5;28;43mself\u001B[39;49m\u001B[38;5;241;43m.\u001B[39;49m\u001B[43m__add_groups\u001B[49m\u001B[43m(\u001B[49m\u001B[43msub_builder\u001B[49m\u001B[43m,\u001B[49m\u001B[43m \u001B[49m\u001B[43mspec\u001B[49m\u001B[38;5;241;43m.\u001B[39;49m\u001B[43mgroups\u001B[49m\u001B[43m,\u001B[49m\u001B[43m \u001B[49m\u001B[43mcontainer\u001B[49m\u001B[43m,\u001B[49m\u001B[43m \u001B[49m\u001B[43mbuild_manager\u001B[49m\u001B[43m,\u001B[49m\u001B[43m \u001B[49m\u001B[43msource\u001B[49m\u001B[43m,\u001B[49m\u001B[43m \u001B[49m\u001B[43mexport\u001B[49m\u001B[43m)\u001B[49m\n\u001B[1;32m   1028\u001B[0m empty \u001B[38;5;241m=\u001B[39m sub_builder\u001B[38;5;241m.\u001B[39mis_empty()\n\u001B[1;32m   1029\u001B[0m \u001B[38;5;28;01mif\u001B[39;00m \u001B[38;5;129;01mnot\u001B[39;00m empty \u001B[38;5;129;01mor\u001B[39;00m (empty \u001B[38;5;129;01mand\u001B[39;00m spec\u001B[38;5;241m.\u001B[39mrequired):\n",
      "File \u001B[0;32m~/opt/anaconda3/envs/nwb-photostim/lib/python3.10/site-packages/hdmf/build/objectmapper.py:1040\u001B[0m, in \u001B[0;36mObjectMapper.__add_groups\u001B[0;34m(self, builder, groups, container, build_manager, source, export)\u001B[0m\n\u001B[1;32m   1038\u001B[0m \u001B[38;5;28mself\u001B[39m\u001B[38;5;241m.\u001B[39m__check_quantity(attr_value, spec, container)\n\u001B[1;32m   1039\u001B[0m \u001B[38;5;28;01mif\u001B[39;00m attr_value \u001B[38;5;129;01mis\u001B[39;00m \u001B[38;5;129;01mnot\u001B[39;00m \u001B[38;5;28;01mNone\u001B[39;00m:\n\u001B[0;32m-> 1040\u001B[0m     \u001B[38;5;28;43mself\u001B[39;49m\u001B[38;5;241;43m.\u001B[39;49m\u001B[43m__add_containers\u001B[49m\u001B[43m(\u001B[49m\u001B[43mbuilder\u001B[49m\u001B[43m,\u001B[49m\u001B[43m \u001B[49m\u001B[43mspec\u001B[49m\u001B[43m,\u001B[49m\u001B[43m \u001B[49m\u001B[43mattr_value\u001B[49m\u001B[43m,\u001B[49m\u001B[43m \u001B[49m\u001B[43mbuild_manager\u001B[49m\u001B[43m,\u001B[49m\u001B[43m \u001B[49m\u001B[43msource\u001B[49m\u001B[43m,\u001B[49m\u001B[43m \u001B[49m\u001B[43mcontainer\u001B[49m\u001B[43m,\u001B[49m\u001B[43m \u001B[49m\u001B[43mexport\u001B[49m\u001B[43m)\u001B[49m\n",
      "File \u001B[0;32m~/opt/anaconda3/envs/nwb-photostim/lib/python3.10/site-packages/hdmf/build/objectmapper.py:1098\u001B[0m, in \u001B[0;36mObjectMapper.__add_containers\u001B[0;34m(self, builder, spec, value, build_manager, source, parent_container, export)\u001B[0m\n\u001B[1;32m   1096\u001B[0m \u001B[38;5;28;01melif\u001B[39;00m \u001B[38;5;28misinstance\u001B[39m(value, \u001B[38;5;28mlist\u001B[39m):\n\u001B[1;32m   1097\u001B[0m     \u001B[38;5;28;01mfor\u001B[39;00m container \u001B[38;5;129;01min\u001B[39;00m value:\n\u001B[0;32m-> 1098\u001B[0m         \u001B[38;5;28;43mself\u001B[39;49m\u001B[38;5;241;43m.\u001B[39;49m\u001B[43m__add_containers\u001B[49m\u001B[43m(\u001B[49m\u001B[43mbuilder\u001B[49m\u001B[43m,\u001B[49m\u001B[43m \u001B[49m\u001B[43mspec\u001B[49m\u001B[43m,\u001B[49m\u001B[43m \u001B[49m\u001B[43mcontainer\u001B[49m\u001B[43m,\u001B[49m\u001B[43m \u001B[49m\u001B[43mbuild_manager\u001B[49m\u001B[43m,\u001B[49m\u001B[43m \u001B[49m\u001B[43msource\u001B[49m\u001B[43m,\u001B[49m\u001B[43m \u001B[49m\u001B[43mparent_container\u001B[49m\u001B[43m,\u001B[49m\u001B[43m \u001B[49m\u001B[43mexport\u001B[49m\u001B[43m)\u001B[49m\n\u001B[1;32m   1099\u001B[0m \u001B[38;5;28;01melse\u001B[39;00m:  \u001B[38;5;66;03m# pragma: no cover\u001B[39;00m\n\u001B[1;32m   1100\u001B[0m     msg \u001B[38;5;241m=\u001B[39m (\u001B[38;5;124m\"\u001B[39m\u001B[38;5;124mReceived \u001B[39m\u001B[38;5;132;01m%s\u001B[39;00m\u001B[38;5;124m, expected AbstractContainer or a list of AbstractContainers.\u001B[39m\u001B[38;5;124m\"\u001B[39m\n\u001B[1;32m   1101\u001B[0m            \u001B[38;5;241m%\u001B[39m value\u001B[38;5;241m.\u001B[39m\u001B[38;5;18m__class__\u001B[39m\u001B[38;5;241m.\u001B[39m\u001B[38;5;18m__name__\u001B[39m)\n",
      "File \u001B[0;32m~/opt/anaconda3/envs/nwb-photostim/lib/python3.10/site-packages/hdmf/build/objectmapper.py:1060\u001B[0m, in \u001B[0;36mObjectMapper.__add_containers\u001B[0;34m(self, builder, spec, value, build_manager, source, parent_container, export)\u001B[0m\n\u001B[1;32m   1058\u001B[0m \u001B[38;5;28mself\u001B[39m\u001B[38;5;241m.\u001B[39mlogger\u001B[38;5;241m.\u001B[39mdebug(\u001B[38;5;124m\"\u001B[39m\u001B[38;5;124m    Building newly instantiated \u001B[39m\u001B[38;5;132;01m%s\u001B[39;00m\u001B[38;5;124m \u001B[39m\u001B[38;5;124m'\u001B[39m\u001B[38;5;132;01m%s\u001B[39;00m\u001B[38;5;124m'\u001B[39m\u001B[38;5;124m\"\u001B[39m \u001B[38;5;241m%\u001B[39m (value\u001B[38;5;241m.\u001B[39m\u001B[38;5;18m__class__\u001B[39m\u001B[38;5;241m.\u001B[39m\u001B[38;5;18m__name__\u001B[39m, value\u001B[38;5;241m.\u001B[39mname))\n\u001B[1;32m   1059\u001B[0m \u001B[38;5;28;01mif\u001B[39;00m \u001B[38;5;28misinstance\u001B[39m(spec, BaseStorageSpec):\n\u001B[0;32m-> 1060\u001B[0m     new_builder \u001B[38;5;241m=\u001B[39m \u001B[43mbuild_manager\u001B[49m\u001B[38;5;241;43m.\u001B[39;49m\u001B[43mbuild\u001B[49m\u001B[43m(\u001B[49m\u001B[43mvalue\u001B[49m\u001B[43m,\u001B[49m\u001B[43m \u001B[49m\u001B[43msource\u001B[49m\u001B[38;5;241;43m=\u001B[39;49m\u001B[43msource\u001B[49m\u001B[43m,\u001B[49m\u001B[43m \u001B[49m\u001B[43mspec_ext\u001B[49m\u001B[38;5;241;43m=\u001B[39;49m\u001B[43mspec\u001B[49m\u001B[43m,\u001B[49m\u001B[43m \u001B[49m\u001B[43mexport\u001B[49m\u001B[38;5;241;43m=\u001B[39;49m\u001B[43mexport\u001B[49m\u001B[43m)\u001B[49m\n\u001B[1;32m   1061\u001B[0m \u001B[38;5;28;01melse\u001B[39;00m:\n\u001B[1;32m   1062\u001B[0m     new_builder \u001B[38;5;241m=\u001B[39m build_manager\u001B[38;5;241m.\u001B[39mbuild(value, source\u001B[38;5;241m=\u001B[39msource, export\u001B[38;5;241m=\u001B[39mexport)\n",
      "File \u001B[0;32m~/opt/anaconda3/envs/nwb-photostim/lib/python3.10/site-packages/hdmf/utils.py:645\u001B[0m, in \u001B[0;36mdocval.<locals>.dec.<locals>.func_call\u001B[0;34m(*args, **kwargs)\u001B[0m\n\u001B[1;32m    643\u001B[0m \u001B[38;5;28;01mdef\u001B[39;00m \u001B[38;5;21mfunc_call\u001B[39m(\u001B[38;5;241m*\u001B[39margs, \u001B[38;5;241m*\u001B[39m\u001B[38;5;241m*\u001B[39mkwargs):\n\u001B[1;32m    644\u001B[0m     pargs \u001B[38;5;241m=\u001B[39m _check_args(args, kwargs)\n\u001B[0;32m--> 645\u001B[0m     \u001B[38;5;28;01mreturn\u001B[39;00m \u001B[43mfunc\u001B[49m\u001B[43m(\u001B[49m\u001B[43margs\u001B[49m\u001B[43m[\u001B[49m\u001B[38;5;241;43m0\u001B[39;49m\u001B[43m]\u001B[49m\u001B[43m,\u001B[49m\u001B[43m \u001B[49m\u001B[38;5;241;43m*\u001B[39;49m\u001B[38;5;241;43m*\u001B[39;49m\u001B[43mpargs\u001B[49m\u001B[43m)\u001B[49m\n",
      "File \u001B[0;32m~/opt/anaconda3/envs/nwb-photostim/lib/python3.10/site-packages/hdmf/build/manager.py:171\u001B[0m, in \u001B[0;36mBuildManager.build\u001B[0;34m(self, **kwargs)\u001B[0m\n\u001B[1;32m    167\u001B[0m             \u001B[38;5;28;01mraise\u001B[39;00m \u001B[38;5;167;01mValueError\u001B[39;00m(\u001B[38;5;124m\"\u001B[39m\u001B[38;5;124mCannot change container_source once set: \u001B[39m\u001B[38;5;124m'\u001B[39m\u001B[38;5;132;01m%s\u001B[39;00m\u001B[38;5;124m'\u001B[39m\u001B[38;5;124m \u001B[39m\u001B[38;5;132;01m%s\u001B[39;00m\u001B[38;5;124m.\u001B[39m\u001B[38;5;132;01m%s\u001B[39;00m\u001B[38;5;124m\"\u001B[39m\n\u001B[1;32m    168\u001B[0m                              \u001B[38;5;241m%\u001B[39m (container\u001B[38;5;241m.\u001B[39mname, container\u001B[38;5;241m.\u001B[39m\u001B[38;5;18m__class__\u001B[39m\u001B[38;5;241m.\u001B[39m\u001B[38;5;18m__module__\u001B[39m,\n\u001B[1;32m    169\u001B[0m                                 container\u001B[38;5;241m.\u001B[39m\u001B[38;5;18m__class__\u001B[39m\u001B[38;5;241m.\u001B[39m\u001B[38;5;18m__name__\u001B[39m))\n\u001B[1;32m    170\u001B[0m \u001B[38;5;66;03m# NOTE: if exporting, then existing cached builder will be ignored and overridden with new build result\u001B[39;00m\n\u001B[0;32m--> 171\u001B[0m result \u001B[38;5;241m=\u001B[39m \u001B[38;5;28;43mself\u001B[39;49m\u001B[38;5;241;43m.\u001B[39;49m\u001B[43m__type_map\u001B[49m\u001B[38;5;241;43m.\u001B[39;49m\u001B[43mbuild\u001B[49m\u001B[43m(\u001B[49m\u001B[43mcontainer\u001B[49m\u001B[43m,\u001B[49m\u001B[43m \u001B[49m\u001B[38;5;28;43mself\u001B[39;49m\u001B[43m,\u001B[49m\u001B[43m \u001B[49m\u001B[43msource\u001B[49m\u001B[38;5;241;43m=\u001B[39;49m\u001B[43msource\u001B[49m\u001B[43m,\u001B[49m\u001B[43m \u001B[49m\u001B[43mspec_ext\u001B[49m\u001B[38;5;241;43m=\u001B[39;49m\u001B[43mspec_ext\u001B[49m\u001B[43m,\u001B[49m\u001B[43m \u001B[49m\u001B[43mexport\u001B[49m\u001B[38;5;241;43m=\u001B[39;49m\u001B[43mexport\u001B[49m\u001B[43m)\u001B[49m\n\u001B[1;32m    172\u001B[0m \u001B[38;5;28mself\u001B[39m\u001B[38;5;241m.\u001B[39mprebuilt(container, result)\n\u001B[1;32m    173\u001B[0m \u001B[38;5;28mself\u001B[39m\u001B[38;5;241m.\u001B[39m__active_prebuilt(result)\n",
      "File \u001B[0;32m~/opt/anaconda3/envs/nwb-photostim/lib/python3.10/site-packages/hdmf/utils.py:645\u001B[0m, in \u001B[0;36mdocval.<locals>.dec.<locals>.func_call\u001B[0;34m(*args, **kwargs)\u001B[0m\n\u001B[1;32m    643\u001B[0m \u001B[38;5;28;01mdef\u001B[39;00m \u001B[38;5;21mfunc_call\u001B[39m(\u001B[38;5;241m*\u001B[39margs, \u001B[38;5;241m*\u001B[39m\u001B[38;5;241m*\u001B[39mkwargs):\n\u001B[1;32m    644\u001B[0m     pargs \u001B[38;5;241m=\u001B[39m _check_args(args, kwargs)\n\u001B[0;32m--> 645\u001B[0m     \u001B[38;5;28;01mreturn\u001B[39;00m \u001B[43mfunc\u001B[49m\u001B[43m(\u001B[49m\u001B[43margs\u001B[49m\u001B[43m[\u001B[49m\u001B[38;5;241;43m0\u001B[39;49m\u001B[43m]\u001B[49m\u001B[43m,\u001B[49m\u001B[43m \u001B[49m\u001B[38;5;241;43m*\u001B[39;49m\u001B[38;5;241;43m*\u001B[39;49m\u001B[43mpargs\u001B[49m\u001B[43m)\u001B[49m\n",
      "File \u001B[0;32m~/opt/anaconda3/envs/nwb-photostim/lib/python3.10/site-packages/hdmf/build/manager.py:764\u001B[0m, in \u001B[0;36mTypeMap.build\u001B[0;34m(self, **kwargs)\u001B[0m\n\u001B[1;32m    762\u001B[0m \u001B[38;5;28;01mif\u001B[39;00m manager \u001B[38;5;129;01mis\u001B[39;00m \u001B[38;5;28;01mNone\u001B[39;00m:\n\u001B[1;32m    763\u001B[0m     manager \u001B[38;5;241m=\u001B[39m BuildManager(\u001B[38;5;28mself\u001B[39m)\n\u001B[0;32m--> 764\u001B[0m builder \u001B[38;5;241m=\u001B[39m \u001B[43mobj_mapper\u001B[49m\u001B[38;5;241;43m.\u001B[39;49m\u001B[43mbuild\u001B[49m\u001B[43m(\u001B[49m\u001B[43mcontainer\u001B[49m\u001B[43m,\u001B[49m\u001B[43m \u001B[49m\u001B[43mmanager\u001B[49m\u001B[43m,\u001B[49m\u001B[43m \u001B[49m\u001B[43mbuilder\u001B[49m\u001B[38;5;241;43m=\u001B[39;49m\u001B[43mbuilder\u001B[49m\u001B[43m,\u001B[49m\u001B[43m \u001B[49m\u001B[43msource\u001B[49m\u001B[38;5;241;43m=\u001B[39;49m\u001B[43msource\u001B[49m\u001B[43m,\u001B[49m\u001B[43m \u001B[49m\u001B[43mspec_ext\u001B[49m\u001B[38;5;241;43m=\u001B[39;49m\u001B[43mspec_ext\u001B[49m\u001B[43m,\u001B[49m\u001B[43m \u001B[49m\u001B[43mexport\u001B[49m\u001B[38;5;241;43m=\u001B[39;49m\u001B[43mexport\u001B[49m\u001B[43m)\u001B[49m\n\u001B[1;32m    766\u001B[0m \u001B[38;5;66;03m# add additional attributes (namespace, data_type, object_id) to builder\u001B[39;00m\n\u001B[1;32m    767\u001B[0m namespace, data_type \u001B[38;5;241m=\u001B[39m \u001B[38;5;28mself\u001B[39m\u001B[38;5;241m.\u001B[39mget_container_ns_dt(container)\n",
      "File \u001B[0;32m~/opt/anaconda3/envs/nwb-photostim/lib/python3.10/site-packages/hdmf/utils.py:645\u001B[0m, in \u001B[0;36mdocval.<locals>.dec.<locals>.func_call\u001B[0;34m(*args, **kwargs)\u001B[0m\n\u001B[1;32m    643\u001B[0m \u001B[38;5;28;01mdef\u001B[39;00m \u001B[38;5;21mfunc_call\u001B[39m(\u001B[38;5;241m*\u001B[39margs, \u001B[38;5;241m*\u001B[39m\u001B[38;5;241m*\u001B[39mkwargs):\n\u001B[1;32m    644\u001B[0m     pargs \u001B[38;5;241m=\u001B[39m _check_args(args, kwargs)\n\u001B[0;32m--> 645\u001B[0m     \u001B[38;5;28;01mreturn\u001B[39;00m \u001B[43mfunc\u001B[49m\u001B[43m(\u001B[49m\u001B[43margs\u001B[49m\u001B[43m[\u001B[49m\u001B[38;5;241;43m0\u001B[39;49m\u001B[43m]\u001B[49m\u001B[43m,\u001B[49m\u001B[43m \u001B[49m\u001B[38;5;241;43m*\u001B[39;49m\u001B[38;5;241;43m*\u001B[39;49m\u001B[43mpargs\u001B[49m\u001B[43m)\u001B[49m\n",
      "File \u001B[0;32m~/opt/anaconda3/envs/nwb-photostim/lib/python3.10/site-packages/hdmf/build/objectmapper.py:705\u001B[0m, in \u001B[0;36mObjectMapper.build\u001B[0;34m(self, **kwargs)\u001B[0m\n\u001B[1;32m    703\u001B[0m \u001B[38;5;28;01mif\u001B[39;00m builder \u001B[38;5;129;01mis\u001B[39;00m \u001B[38;5;28;01mNone\u001B[39;00m:\n\u001B[1;32m    704\u001B[0m     builder \u001B[38;5;241m=\u001B[39m GroupBuilder(name, parent\u001B[38;5;241m=\u001B[39mparent, source\u001B[38;5;241m=\u001B[39msource)\n\u001B[0;32m--> 705\u001B[0m \u001B[38;5;28;43mself\u001B[39;49m\u001B[38;5;241;43m.\u001B[39;49m\u001B[43m__add_datasets\u001B[49m\u001B[43m(\u001B[49m\u001B[43mbuilder\u001B[49m\u001B[43m,\u001B[49m\u001B[43m \u001B[49m\u001B[38;5;28;43mself\u001B[39;49m\u001B[38;5;241;43m.\u001B[39;49m\u001B[43m__spec\u001B[49m\u001B[38;5;241;43m.\u001B[39;49m\u001B[43mdatasets\u001B[49m\u001B[43m,\u001B[49m\u001B[43m \u001B[49m\u001B[43mcontainer\u001B[49m\u001B[43m,\u001B[49m\u001B[43m \u001B[49m\u001B[43mmanager\u001B[49m\u001B[43m,\u001B[49m\u001B[43m \u001B[49m\u001B[43msource\u001B[49m\u001B[43m,\u001B[49m\u001B[43m \u001B[49m\u001B[43mexport\u001B[49m\u001B[43m)\u001B[49m\n\u001B[1;32m    706\u001B[0m \u001B[38;5;28mself\u001B[39m\u001B[38;5;241m.\u001B[39m__add_groups(builder, \u001B[38;5;28mself\u001B[39m\u001B[38;5;241m.\u001B[39m__spec\u001B[38;5;241m.\u001B[39mgroups, container, manager, source, export)\n\u001B[1;32m    707\u001B[0m \u001B[38;5;28mself\u001B[39m\u001B[38;5;241m.\u001B[39m__add_links(builder, \u001B[38;5;28mself\u001B[39m\u001B[38;5;241m.\u001B[39m__spec\u001B[38;5;241m.\u001B[39mlinks, container, manager, source, export)\n",
      "File \u001B[0;32m~/opt/anaconda3/envs/nwb-photostim/lib/python3.10/site-packages/hdmf/build/objectmapper.py:973\u001B[0m, in \u001B[0;36mObjectMapper.__add_datasets\u001B[0;34m(self, builder, datasets, container, build_manager, source, export)\u001B[0m\n\u001B[1;32m    970\u001B[0m \u001B[38;5;28;01mfor\u001B[39;00m spec \u001B[38;5;129;01min\u001B[39;00m datasets:\n\u001B[1;32m    971\u001B[0m     \u001B[38;5;28mself\u001B[39m\u001B[38;5;241m.\u001B[39mlogger\u001B[38;5;241m.\u001B[39mdebug(\u001B[38;5;124m\"\u001B[39m\u001B[38;5;124m    Adding dataset for spec name: \u001B[39m\u001B[38;5;132;01m%s\u001B[39;00m\u001B[38;5;124m (dtype: \u001B[39m\u001B[38;5;132;01m%s\u001B[39;00m\u001B[38;5;124m)\u001B[39m\u001B[38;5;124m\"\u001B[39m\n\u001B[1;32m    972\u001B[0m                       \u001B[38;5;241m%\u001B[39m (\u001B[38;5;28mrepr\u001B[39m(spec\u001B[38;5;241m.\u001B[39mname), spec\u001B[38;5;241m.\u001B[39mdtype\u001B[38;5;241m.\u001B[39m\u001B[38;5;18m__class__\u001B[39m\u001B[38;5;241m.\u001B[39m\u001B[38;5;18m__name__\u001B[39m))\n\u001B[0;32m--> 973\u001B[0m     attr_value \u001B[38;5;241m=\u001B[39m \u001B[38;5;28;43mself\u001B[39;49m\u001B[38;5;241;43m.\u001B[39;49m\u001B[43mget_attr_value\u001B[49m\u001B[43m(\u001B[49m\u001B[43mspec\u001B[49m\u001B[43m,\u001B[49m\u001B[43m \u001B[49m\u001B[43mcontainer\u001B[49m\u001B[43m,\u001B[49m\u001B[43m \u001B[49m\u001B[43mbuild_manager\u001B[49m\u001B[43m)\u001B[49m\n\u001B[1;32m    974\u001B[0m     \u001B[38;5;28mself\u001B[39m\u001B[38;5;241m.\u001B[39m__check_quantity(attr_value, spec, container)\n\u001B[1;32m    975\u001B[0m     \u001B[38;5;28;01mif\u001B[39;00m attr_value \u001B[38;5;129;01mis\u001B[39;00m \u001B[38;5;28;01mNone\u001B[39;00m:\n",
      "File \u001B[0;32m~/opt/anaconda3/envs/nwb-photostim/lib/python3.10/site-packages/hdmf/utils.py:645\u001B[0m, in \u001B[0;36mdocval.<locals>.dec.<locals>.func_call\u001B[0;34m(*args, **kwargs)\u001B[0m\n\u001B[1;32m    643\u001B[0m \u001B[38;5;28;01mdef\u001B[39;00m \u001B[38;5;21mfunc_call\u001B[39m(\u001B[38;5;241m*\u001B[39margs, \u001B[38;5;241m*\u001B[39m\u001B[38;5;241m*\u001B[39mkwargs):\n\u001B[1;32m    644\u001B[0m     pargs \u001B[38;5;241m=\u001B[39m _check_args(args, kwargs)\n\u001B[0;32m--> 645\u001B[0m     \u001B[38;5;28;01mreturn\u001B[39;00m \u001B[43mfunc\u001B[49m\u001B[43m(\u001B[49m\u001B[43margs\u001B[49m\u001B[43m[\u001B[49m\u001B[38;5;241;43m0\u001B[39;49m\u001B[43m]\u001B[49m\u001B[43m,\u001B[49m\u001B[43m \u001B[49m\u001B[38;5;241;43m*\u001B[39;49m\u001B[38;5;241;43m*\u001B[39;49m\u001B[43mpargs\u001B[49m\u001B[43m)\u001B[49m\n",
      "File \u001B[0;32m~/opt/anaconda3/envs/nwb-photostim/lib/python3.10/site-packages/hdmf/common/io/table.py:29\u001B[0m, in \u001B[0;36mDynamicTableMap.get_attr_value\u001B[0;34m(self, **kwargs)\u001B[0m\n\u001B[1;32m     27\u001B[0m \u001B[38;5;124;03m''' Get the value of the attribute corresponding to this spec from the given container '''\u001B[39;00m\n\u001B[1;32m     28\u001B[0m spec, container, manager \u001B[38;5;241m=\u001B[39m getargs(\u001B[38;5;124m'\u001B[39m\u001B[38;5;124mspec\u001B[39m\u001B[38;5;124m'\u001B[39m, \u001B[38;5;124m'\u001B[39m\u001B[38;5;124mcontainer\u001B[39m\u001B[38;5;124m'\u001B[39m, \u001B[38;5;124m'\u001B[39m\u001B[38;5;124mmanager\u001B[39m\u001B[38;5;124m'\u001B[39m, kwargs)\n\u001B[0;32m---> 29\u001B[0m attr_value \u001B[38;5;241m=\u001B[39m \u001B[38;5;28;43msuper\u001B[39;49m\u001B[43m(\u001B[49m\u001B[43m)\u001B[49m\u001B[38;5;241;43m.\u001B[39;49m\u001B[43mget_attr_value\u001B[49m\u001B[43m(\u001B[49m\u001B[43mspec\u001B[49m\u001B[43m,\u001B[49m\u001B[43m \u001B[49m\u001B[43mcontainer\u001B[49m\u001B[43m,\u001B[49m\u001B[43m \u001B[49m\u001B[43mmanager\u001B[49m\u001B[43m)\u001B[49m\n\u001B[1;32m     30\u001B[0m \u001B[38;5;28;01mif\u001B[39;00m attr_value \u001B[38;5;129;01mis\u001B[39;00m \u001B[38;5;28;01mNone\u001B[39;00m \u001B[38;5;129;01mand\u001B[39;00m spec\u001B[38;5;241m.\u001B[39mname \u001B[38;5;129;01min\u001B[39;00m container:\n\u001B[1;32m     31\u001B[0m     \u001B[38;5;28;01mif\u001B[39;00m spec\u001B[38;5;241m.\u001B[39mdata_type_inc \u001B[38;5;241m==\u001B[39m \u001B[38;5;124m'\u001B[39m\u001B[38;5;124mVectorData\u001B[39m\u001B[38;5;124m'\u001B[39m:\n",
      "File \u001B[0;32m~/opt/anaconda3/envs/nwb-photostim/lib/python3.10/site-packages/hdmf/utils.py:645\u001B[0m, in \u001B[0;36mdocval.<locals>.dec.<locals>.func_call\u001B[0;34m(*args, **kwargs)\u001B[0m\n\u001B[1;32m    643\u001B[0m \u001B[38;5;28;01mdef\u001B[39;00m \u001B[38;5;21mfunc_call\u001B[39m(\u001B[38;5;241m*\u001B[39margs, \u001B[38;5;241m*\u001B[39m\u001B[38;5;241m*\u001B[39mkwargs):\n\u001B[1;32m    644\u001B[0m     pargs \u001B[38;5;241m=\u001B[39m _check_args(args, kwargs)\n\u001B[0;32m--> 645\u001B[0m     \u001B[38;5;28;01mreturn\u001B[39;00m \u001B[43mfunc\u001B[49m\u001B[43m(\u001B[49m\u001B[43margs\u001B[49m\u001B[43m[\u001B[49m\u001B[38;5;241;43m0\u001B[39;49m\u001B[43m]\u001B[49m\u001B[43m,\u001B[49m\u001B[43m \u001B[49m\u001B[38;5;241;43m*\u001B[39;49m\u001B[38;5;241;43m*\u001B[39;49m\u001B[43mpargs\u001B[49m\u001B[43m)\u001B[49m\n",
      "File \u001B[0;32m~/opt/anaconda3/envs/nwb-photostim/lib/python3.10/site-packages/hdmf/build/objectmapper.py:559\u001B[0m, in \u001B[0;36mObjectMapper.get_attr_value\u001B[0;34m(self, **kwargs)\u001B[0m\n\u001B[1;32m    556\u001B[0m \u001B[38;5;28;01mexcept\u001B[39;00m \u001B[38;5;167;01mAttributeError\u001B[39;00m:\n\u001B[1;32m    557\u001B[0m     msg \u001B[38;5;241m=\u001B[39m (\u001B[38;5;124m\"\u001B[39m\u001B[38;5;132;01m%s\u001B[39;00m\u001B[38;5;124m \u001B[39m\u001B[38;5;124m'\u001B[39m\u001B[38;5;132;01m%s\u001B[39;00m\u001B[38;5;124m'\u001B[39m\u001B[38;5;124m does not have attribute \u001B[39m\u001B[38;5;124m'\u001B[39m\u001B[38;5;132;01m%s\u001B[39;00m\u001B[38;5;124m'\u001B[39m\u001B[38;5;124m for mapping to spec: \u001B[39m\u001B[38;5;132;01m%s\u001B[39;00m\u001B[38;5;124m\"\u001B[39m\n\u001B[1;32m    558\u001B[0m            \u001B[38;5;241m%\u001B[39m (container\u001B[38;5;241m.\u001B[39m\u001B[38;5;18m__class__\u001B[39m\u001B[38;5;241m.\u001B[39m\u001B[38;5;18m__name__\u001B[39m, container\u001B[38;5;241m.\u001B[39mname, attr_name, spec))\n\u001B[0;32m--> 559\u001B[0m     \u001B[38;5;28;01mraise\u001B[39;00m ContainerConfigurationError(msg)\n\u001B[1;32m    560\u001B[0m \u001B[38;5;28;01mif\u001B[39;00m attr_val \u001B[38;5;129;01mis\u001B[39;00m \u001B[38;5;129;01mnot\u001B[39;00m \u001B[38;5;28;01mNone\u001B[39;00m:\n\u001B[1;32m    561\u001B[0m     attr_val \u001B[38;5;241m=\u001B[39m \u001B[38;5;28mself\u001B[39m\u001B[38;5;241m.\u001B[39m__convert_string(attr_val, spec)\n",
      "\u001B[0;31mContainerConfigurationError\u001B[0m: Events 'sweep_table' does not have attribute 'series' for mapping to spec: {'dtype': {'target_type': 'Series', 'reftype': 'object'}, 'doc': 'pres', 'name': 'series', 'quantity': '?', 'neurodata_type_inc': 'VectorData'}"
     ]
    }
   ],
   "source": [
    "series = Series(name='test', description='test d', data = [0, 1, 2, 3, 4, 5], unit='sec', rate=10.)\n",
    "\n",
    "sp = Events()#, stimulus_method='method', sweeping_method='sweeping')\n",
    "sp.add_event_type(time_series=Series(name='test', description='test d', data = [0, 1, 2, 3, 4, 5], unit='sec', rate=10.))\n",
    "sp.add_event_type(time_series=Series(name='test', description='test d', data = [0, 1, 2, 3, 4, 5], unit='sec', rate=10.))\n",
    "# df = sp.to_dataframe()\n",
    "# print(df)\n",
    "from pynwb import NWBHDF5IO\n",
    "\n",
    "nwbfile = NWBFile(\n",
    "    'my first synthetic recording',\n",
    "    'EXAMPLE_ID',\n",
    "    datetime.now(tzlocal()),\n",
    ")\n",
    "\n",
    "nwbfile.add_acquisition(sp)\n",
    "with NWBHDF5IO(\"basics_tutorial.nwb\", \"w\") as io:\n",
    "    # io.write(series)\n",
    "    io.write(nwbfile)\n",
    "\n",
    "with NWBHDF5IO(\"basics_tutorial.nwb\", \"r\", load_namespaces=True) as io:\n",
    "    read_nwbfile = io.read()\n",
    "    a = read_nwbfile.acquisition['test_presentation_table']\n",
    "    print(a.time_series)\n"
   ],
   "metadata": {
    "collapsed": false,
    "pycharm": {
     "name": "#%%\n"
    }
   }
  },
  {
   "cell_type": "code",
   "execution_count": 62,
   "outputs": [
    {
     "data": {
      "text/plain": "()"
     },
     "execution_count": 62,
     "metadata": {},
     "output_type": "execute_result"
    }
   ],
   "source": [
    "a.columns"
   ],
   "metadata": {
    "collapsed": false,
    "pycharm": {
     "name": "#%%\n"
    }
   }
  },
  {
   "cell_type": "code",
   "execution_count": 8,
   "outputs": [
    {
     "name": "stdout",
     "output_type": "stream",
     "text": [
      "    col1                                               col2\n",
      "id                                                         \n",
      "0      1  test __main__.Series at 0x140636842405520\\nFie...\n",
      "1      2  test __main__.Series at 0x140636842405520\\nFie...\n"
     ]
    },
    {
     "ename": "ReferenceTargetNotBuiltError",
     "evalue": "col2 (my table/col2): Could not find already-built Builder for Series 'test' in BuildManager",
     "output_type": "error",
     "traceback": [
      "\u001B[0;31m---------------------------------------------------------------------------\u001B[0m",
      "\u001B[0;31mReferenceTargetNotBuiltError\u001B[0m              Traceback (most recent call last)",
      "Input \u001B[0;32mIn [8]\u001B[0m, in \u001B[0;36m<cell line: 24>\u001B[0;34m()\u001B[0m\n\u001B[1;32m     21\u001B[0m \u001B[38;5;28mprint\u001B[39m(df)\n\u001B[1;32m     24\u001B[0m \u001B[38;5;28;01mwith\u001B[39;00m NWBHDF5IO(\u001B[38;5;124m\"\u001B[39m\u001B[38;5;124mbasics_tutorial.nwb\u001B[39m\u001B[38;5;124m\"\u001B[39m, \u001B[38;5;124m\"\u001B[39m\u001B[38;5;124mw\u001B[39m\u001B[38;5;124m\"\u001B[39m) \u001B[38;5;28;01mas\u001B[39;00m io:\n\u001B[1;32m     25\u001B[0m     \u001B[38;5;66;03m# io.write(series)\u001B[39;00m\n\u001B[0;32m---> 26\u001B[0m     \u001B[43mio\u001B[49m\u001B[38;5;241;43m.\u001B[39;49m\u001B[43mwrite\u001B[49m\u001B[43m(\u001B[49m\u001B[43mtable\u001B[49m\u001B[43m)\u001B[49m\n\u001B[1;32m     28\u001B[0m \u001B[38;5;28;01mwith\u001B[39;00m NWBHDF5IO(\u001B[38;5;124m\"\u001B[39m\u001B[38;5;124mbasics_tutorial.nwb\u001B[39m\u001B[38;5;124m\"\u001B[39m, \u001B[38;5;124m\"\u001B[39m\u001B[38;5;124mr\u001B[39m\u001B[38;5;124m\"\u001B[39m, load_namespaces\u001B[38;5;241m=\u001B[39m\u001B[38;5;28;01mTrue\u001B[39;00m) \u001B[38;5;28;01mas\u001B[39;00m io:\n\u001B[1;32m     29\u001B[0m     read_nwbfile \u001B[38;5;241m=\u001B[39m io\u001B[38;5;241m.\u001B[39mread()\n",
      "File \u001B[0;32m~/opt/anaconda3/envs/nwb-photostim/lib/python3.10/site-packages/hdmf/utils.py:645\u001B[0m, in \u001B[0;36mdocval.<locals>.dec.<locals>.func_call\u001B[0;34m(*args, **kwargs)\u001B[0m\n\u001B[1;32m    643\u001B[0m \u001B[38;5;28;01mdef\u001B[39;00m \u001B[38;5;21mfunc_call\u001B[39m(\u001B[38;5;241m*\u001B[39margs, \u001B[38;5;241m*\u001B[39m\u001B[38;5;241m*\u001B[39mkwargs):\n\u001B[1;32m    644\u001B[0m     pargs \u001B[38;5;241m=\u001B[39m _check_args(args, kwargs)\n\u001B[0;32m--> 645\u001B[0m     \u001B[38;5;28;01mreturn\u001B[39;00m \u001B[43mfunc\u001B[49m\u001B[43m(\u001B[49m\u001B[43margs\u001B[49m\u001B[43m[\u001B[49m\u001B[38;5;241;43m0\u001B[39;49m\u001B[43m]\u001B[49m\u001B[43m,\u001B[49m\u001B[43m \u001B[49m\u001B[38;5;241;43m*\u001B[39;49m\u001B[38;5;241;43m*\u001B[39;49m\u001B[43mpargs\u001B[49m\u001B[43m)\u001B[49m\n",
      "File \u001B[0;32m~/opt/anaconda3/envs/nwb-photostim/lib/python3.10/site-packages/hdmf/backends/hdf5/h5tools.py:358\u001B[0m, in \u001B[0;36mHDF5IO.write\u001B[0;34m(self, **kwargs)\u001B[0m\n\u001B[1;32m    353\u001B[0m     \u001B[38;5;28;01mraise\u001B[39;00m UnsupportedOperation((\u001B[38;5;124m\"\u001B[39m\u001B[38;5;124mCannot write to file \u001B[39m\u001B[38;5;132;01m%s\u001B[39;00m\u001B[38;5;124m in mode \u001B[39m\u001B[38;5;124m'\u001B[39m\u001B[38;5;132;01m%s\u001B[39;00m\u001B[38;5;124m'\u001B[39m\u001B[38;5;124m. \u001B[39m\u001B[38;5;124m\"\u001B[39m\n\u001B[1;32m    354\u001B[0m                                 \u001B[38;5;124m\"\u001B[39m\u001B[38;5;124mPlease use mode \u001B[39m\u001B[38;5;124m'\u001B[39m\u001B[38;5;124mr+\u001B[39m\u001B[38;5;124m'\u001B[39m\u001B[38;5;124m, \u001B[39m\u001B[38;5;124m'\u001B[39m\u001B[38;5;124mw\u001B[39m\u001B[38;5;124m'\u001B[39m\u001B[38;5;124m, \u001B[39m\u001B[38;5;124m'\u001B[39m\u001B[38;5;124mw-\u001B[39m\u001B[38;5;124m'\u001B[39m\u001B[38;5;124m, \u001B[39m\u001B[38;5;124m'\u001B[39m\u001B[38;5;124mx\u001B[39m\u001B[38;5;124m'\u001B[39m\u001B[38;5;124m, or \u001B[39m\u001B[38;5;124m'\u001B[39m\u001B[38;5;124ma\u001B[39m\u001B[38;5;124m'\u001B[39m\u001B[38;5;124m\"\u001B[39m)\n\u001B[1;32m    355\u001B[0m                                \u001B[38;5;241m%\u001B[39m (\u001B[38;5;28mself\u001B[39m\u001B[38;5;241m.\u001B[39msource, \u001B[38;5;28mself\u001B[39m\u001B[38;5;241m.\u001B[39m__mode))\n\u001B[1;32m    357\u001B[0m cache_spec \u001B[38;5;241m=\u001B[39m popargs(\u001B[38;5;124m'\u001B[39m\u001B[38;5;124mcache_spec\u001B[39m\u001B[38;5;124m'\u001B[39m, kwargs)\n\u001B[0;32m--> 358\u001B[0m \u001B[38;5;28;43msuper\u001B[39;49m\u001B[43m(\u001B[49m\u001B[43m)\u001B[49m\u001B[38;5;241;43m.\u001B[39;49m\u001B[43mwrite\u001B[49m\u001B[43m(\u001B[49m\u001B[38;5;241;43m*\u001B[39;49m\u001B[38;5;241;43m*\u001B[39;49m\u001B[43mkwargs\u001B[49m\u001B[43m)\u001B[49m\n\u001B[1;32m    359\u001B[0m \u001B[38;5;28;01mif\u001B[39;00m cache_spec:\n\u001B[1;32m    360\u001B[0m     \u001B[38;5;28mself\u001B[39m\u001B[38;5;241m.\u001B[39m__cache_spec()\n",
      "File \u001B[0;32m~/opt/anaconda3/envs/nwb-photostim/lib/python3.10/site-packages/hdmf/utils.py:645\u001B[0m, in \u001B[0;36mdocval.<locals>.dec.<locals>.func_call\u001B[0;34m(*args, **kwargs)\u001B[0m\n\u001B[1;32m    643\u001B[0m \u001B[38;5;28;01mdef\u001B[39;00m \u001B[38;5;21mfunc_call\u001B[39m(\u001B[38;5;241m*\u001B[39margs, \u001B[38;5;241m*\u001B[39m\u001B[38;5;241m*\u001B[39mkwargs):\n\u001B[1;32m    644\u001B[0m     pargs \u001B[38;5;241m=\u001B[39m _check_args(args, kwargs)\n\u001B[0;32m--> 645\u001B[0m     \u001B[38;5;28;01mreturn\u001B[39;00m \u001B[43mfunc\u001B[49m\u001B[43m(\u001B[49m\u001B[43margs\u001B[49m\u001B[43m[\u001B[49m\u001B[38;5;241;43m0\u001B[39;49m\u001B[43m]\u001B[49m\u001B[43m,\u001B[49m\u001B[43m \u001B[49m\u001B[38;5;241;43m*\u001B[39;49m\u001B[38;5;241;43m*\u001B[39;49m\u001B[43mpargs\u001B[49m\u001B[43m)\u001B[49m\n",
      "File \u001B[0;32m~/opt/anaconda3/envs/nwb-photostim/lib/python3.10/site-packages/hdmf/backends/io.py:50\u001B[0m, in \u001B[0;36mHDMFIO.write\u001B[0;34m(self, **kwargs)\u001B[0m\n\u001B[1;32m     48\u001B[0m \u001B[38;5;124;03m\"\"\"Write a container to the IO source.\"\"\"\u001B[39;00m\n\u001B[1;32m     49\u001B[0m container \u001B[38;5;241m=\u001B[39m popargs(\u001B[38;5;124m'\u001B[39m\u001B[38;5;124mcontainer\u001B[39m\u001B[38;5;124m'\u001B[39m, kwargs)\n\u001B[0;32m---> 50\u001B[0m f_builder \u001B[38;5;241m=\u001B[39m \u001B[38;5;28;43mself\u001B[39;49m\u001B[38;5;241;43m.\u001B[39;49m\u001B[43m__manager\u001B[49m\u001B[38;5;241;43m.\u001B[39;49m\u001B[43mbuild\u001B[49m\u001B[43m(\u001B[49m\u001B[43mcontainer\u001B[49m\u001B[43m,\u001B[49m\u001B[43m \u001B[49m\u001B[43msource\u001B[49m\u001B[38;5;241;43m=\u001B[39;49m\u001B[38;5;28;43mself\u001B[39;49m\u001B[38;5;241;43m.\u001B[39;49m\u001B[43m__source\u001B[49m\u001B[43m,\u001B[49m\u001B[43m \u001B[49m\u001B[43mroot\u001B[49m\u001B[38;5;241;43m=\u001B[39;49m\u001B[38;5;28;43;01mTrue\u001B[39;49;00m\u001B[43m)\u001B[49m\n\u001B[1;32m     51\u001B[0m \u001B[38;5;28mself\u001B[39m\u001B[38;5;241m.\u001B[39mwrite_builder(f_builder, \u001B[38;5;241m*\u001B[39m\u001B[38;5;241m*\u001B[39mkwargs)\n",
      "File \u001B[0;32m~/opt/anaconda3/envs/nwb-photostim/lib/python3.10/site-packages/hdmf/utils.py:645\u001B[0m, in \u001B[0;36mdocval.<locals>.dec.<locals>.func_call\u001B[0;34m(*args, **kwargs)\u001B[0m\n\u001B[1;32m    643\u001B[0m \u001B[38;5;28;01mdef\u001B[39;00m \u001B[38;5;21mfunc_call\u001B[39m(\u001B[38;5;241m*\u001B[39margs, \u001B[38;5;241m*\u001B[39m\u001B[38;5;241m*\u001B[39mkwargs):\n\u001B[1;32m    644\u001B[0m     pargs \u001B[38;5;241m=\u001B[39m _check_args(args, kwargs)\n\u001B[0;32m--> 645\u001B[0m     \u001B[38;5;28;01mreturn\u001B[39;00m \u001B[43mfunc\u001B[49m\u001B[43m(\u001B[49m\u001B[43margs\u001B[49m\u001B[43m[\u001B[49m\u001B[38;5;241;43m0\u001B[39;49m\u001B[43m]\u001B[49m\u001B[43m,\u001B[49m\u001B[43m \u001B[49m\u001B[38;5;241;43m*\u001B[39;49m\u001B[38;5;241;43m*\u001B[39;49m\u001B[43mpargs\u001B[49m\u001B[43m)\u001B[49m\n",
      "File \u001B[0;32m~/opt/anaconda3/envs/nwb-photostim/lib/python3.10/site-packages/hdmf/build/manager.py:188\u001B[0m, in \u001B[0;36mBuildManager.build\u001B[0;34m(self, **kwargs)\u001B[0m\n\u001B[1;32m    184\u001B[0m     \u001B[38;5;28mself\u001B[39m\u001B[38;5;241m.\u001B[39mlogger\u001B[38;5;241m.\u001B[39mdebug(\u001B[38;5;124m\"\u001B[39m\u001B[38;5;124mUsing prebuilt \u001B[39m\u001B[38;5;132;01m%s\u001B[39;00m\u001B[38;5;124m \u001B[39m\u001B[38;5;124m'\u001B[39m\u001B[38;5;132;01m%s\u001B[39;00m\u001B[38;5;124m'\u001B[39m\u001B[38;5;124m for \u001B[39m\u001B[38;5;132;01m%s\u001B[39;00m\u001B[38;5;124m \u001B[39m\u001B[38;5;124m'\u001B[39m\u001B[38;5;132;01m%s\u001B[39;00m\u001B[38;5;124m'\u001B[39m\u001B[38;5;124m\"\u001B[39m\n\u001B[1;32m    185\u001B[0m                       \u001B[38;5;241m%\u001B[39m (result\u001B[38;5;241m.\u001B[39m\u001B[38;5;18m__class__\u001B[39m\u001B[38;5;241m.\u001B[39m\u001B[38;5;18m__name__\u001B[39m, result\u001B[38;5;241m.\u001B[39mname,\n\u001B[1;32m    186\u001B[0m                          container\u001B[38;5;241m.\u001B[39m\u001B[38;5;18m__class__\u001B[39m\u001B[38;5;241m.\u001B[39m\u001B[38;5;18m__name__\u001B[39m, container\u001B[38;5;241m.\u001B[39mname))\n\u001B[1;32m    187\u001B[0m \u001B[38;5;28;01mif\u001B[39;00m root:  \u001B[38;5;66;03m# create reference builders only after building all other builders\u001B[39;00m\n\u001B[0;32m--> 188\u001B[0m     \u001B[38;5;28;43mself\u001B[39;49m\u001B[38;5;241;43m.\u001B[39;49m\u001B[43m__add_refs\u001B[49m\u001B[43m(\u001B[49m\u001B[43m)\u001B[49m\n\u001B[1;32m    189\u001B[0m     \u001B[38;5;28mself\u001B[39m\u001B[38;5;241m.\u001B[39m__active_builders\u001B[38;5;241m.\u001B[39mclear()  \u001B[38;5;66;03m# reset active builders now that build process has completed\u001B[39;00m\n\u001B[1;32m    190\u001B[0m \u001B[38;5;28;01mreturn\u001B[39;00m result\n",
      "File \u001B[0;32m~/opt/anaconda3/envs/nwb-photostim/lib/python3.10/site-packages/hdmf/build/manager.py:233\u001B[0m, in \u001B[0;36mBuildManager.__add_refs\u001B[0;34m(self)\u001B[0m\n\u001B[1;32m    230\u001B[0m call \u001B[38;5;241m=\u001B[39m \u001B[38;5;28mself\u001B[39m\u001B[38;5;241m.\u001B[39m__ref_queue\u001B[38;5;241m.\u001B[39mpopleft()\n\u001B[1;32m    231\u001B[0m \u001B[38;5;28mself\u001B[39m\u001B[38;5;241m.\u001B[39mlogger\u001B[38;5;241m.\u001B[39mdebug(\u001B[38;5;124m\"\u001B[39m\u001B[38;5;124mAdding ReferenceBuilder with call id \u001B[39m\u001B[38;5;132;01m%d\u001B[39;00m\u001B[38;5;124m from queue (length \u001B[39m\u001B[38;5;132;01m%d\u001B[39;00m\u001B[38;5;124m)\u001B[39m\u001B[38;5;124m\"\u001B[39m\n\u001B[1;32m    232\u001B[0m                   \u001B[38;5;241m%\u001B[39m (\u001B[38;5;28mid\u001B[39m(call), \u001B[38;5;28mlen\u001B[39m(\u001B[38;5;28mself\u001B[39m\u001B[38;5;241m.\u001B[39m__ref_queue)))\n\u001B[0;32m--> 233\u001B[0m \u001B[43mcall\u001B[49m\u001B[43m(\u001B[49m\u001B[43m)\u001B[49m\n",
      "File \u001B[0;32m~/opt/anaconda3/envs/nwb-photostim/lib/python3.10/site-packages/hdmf/build/objectmapper.py:843\u001B[0m, in \u001B[0;36mObjectMapper.__set_untyped_dataset_to_refs.<locals>._filler\u001B[0;34m()\u001B[0m\n\u001B[1;32m    841\u001B[0m         bldr_data\u001B[38;5;241m.\u001B[39mappend(\u001B[38;5;28;01mNone\u001B[39;00m)\n\u001B[1;32m    842\u001B[0m     \u001B[38;5;28;01melse\u001B[39;00m:\n\u001B[0;32m--> 843\u001B[0m         target_builder \u001B[38;5;241m=\u001B[39m \u001B[38;5;28;43mself\u001B[39;49m\u001B[38;5;241;43m.\u001B[39;49m\u001B[43m__get_target_builder\u001B[49m\u001B[43m(\u001B[49m\u001B[43md\u001B[49m\u001B[43m,\u001B[49m\u001B[43m \u001B[49m\u001B[43mbuild_manager\u001B[49m\u001B[43m,\u001B[49m\u001B[43m \u001B[49m\u001B[43mbuilder\u001B[49m\u001B[43m)\u001B[49m\n\u001B[1;32m    844\u001B[0m         bldr_data\u001B[38;5;241m.\u001B[39mappend(ReferenceBuilder(target_builder))\n\u001B[1;32m    845\u001B[0m builder\u001B[38;5;241m.\u001B[39mdata \u001B[38;5;241m=\u001B[39m bldr_data\n",
      "File \u001B[0;32m~/opt/anaconda3/envs/nwb-photostim/lib/python3.10/site-packages/hdmf/build/objectmapper.py:887\u001B[0m, in \u001B[0;36mObjectMapper.__get_target_builder\u001B[0;34m(self, container, build_manager, builder)\u001B[0m\n\u001B[1;32m    885\u001B[0m target_builder \u001B[38;5;241m=\u001B[39m build_manager\u001B[38;5;241m.\u001B[39mget_builder(container)\n\u001B[1;32m    886\u001B[0m \u001B[38;5;28;01mif\u001B[39;00m target_builder \u001B[38;5;129;01mis\u001B[39;00m \u001B[38;5;28;01mNone\u001B[39;00m:\n\u001B[0;32m--> 887\u001B[0m     \u001B[38;5;28;01mraise\u001B[39;00m ReferenceTargetNotBuiltError(builder, container)\n\u001B[1;32m    888\u001B[0m \u001B[38;5;28;01mreturn\u001B[39;00m target_builder\n",
      "\u001B[0;31mReferenceTargetNotBuiltError\u001B[0m: col2 (my table/col2): Could not find already-built Builder for Series 'test' in BuildManager"
     ]
    }
   ],
   "source": [
    "col1 = VectorData(\n",
    "    name='col1',\n",
    "    description='column #1',\n",
    "    data=[1, 2],\n",
    ")\n",
    "\n",
    "col2 = VectorData(\n",
    "    name='col2',\n",
    "    description='column #2',\n",
    "    data=[series, series],\n",
    ")\n",
    "\n",
    "# this table will have two rows with ids 0 and 1\n",
    "table = DynamicTable(\n",
    "    name='my table',\n",
    "    description='an example table',\n",
    "    columns=[col1, col2],\n",
    ")\n",
    "\n",
    "df = table.to_dataframe()\n",
    "print(df)\n",
    "\n",
    "\n",
    "with NWBHDF5IO(\"basics_tutorial.nwb\", \"w\") as io:\n",
    "    # io.write(series)\n",
    "    io.write(table)\n",
    "\n",
    "with NWBHDF5IO(\"basics_tutorial.nwb\", \"r\", load_namespaces=True) as io:\n",
    "    read_nwbfile = io.read()\n",
    "    # a = read_nwbfile.acquisition['test_presentation_table']\n",
    "    # print(a.time_series)\n",
    "    print('')"
   ],
   "metadata": {
    "collapsed": false,
    "pycharm": {
     "name": "#%%\n"
    }
   }
  },
  {
   "cell_type": "code",
   "execution_count": null,
   "outputs": [],
   "source": [
    "\n",
    "from datetime import datetime\n",
    "from dateutil.tz import tzlocal\n",
    "from pynwb import load_namespaces\n",
    "\n",
    "\n",
    "nwbfile.add_acquisition(events)\n",
    "\n",
    "with NWBHDF5IO(\"basics_tutorial.nwb\", \"w\") as io:\n",
    "    io.write(nwbfile)\n",
    "\n",
    "with NWBHDF5IO(\"basics_tutorial.nwb\", \"r\", load_namespaces=True) as io:\n",
    "    read_nwbfile = io.read()\n",
    "\n",
    "\n",
    "print('')"
   ],
   "metadata": {
    "collapsed": false,
    "pycharm": {
     "name": "#%%\n"
    }
   }
  },
  {
   "cell_type": "code",
   "execution_count": 20,
   "outputs": [],
   "source": [
    "io.close()"
   ],
   "metadata": {
    "collapsed": false,
    "pycharm": {
     "name": "#%%\n"
    }
   }
  },
  {
   "cell_type": "code",
   "execution_count": null,
   "outputs": [],
   "source": [
    "with NWBHDF5IO(\"basics_tutorial.nwb\", \"r\", load_namespaces=True) as io:\n",
    "    read_nwbfile = io.read()"
   ],
   "metadata": {
    "collapsed": false,
    "pycharm": {
     "name": "#%%\n"
    }
   }
  },
  {
   "cell_type": "code",
   "execution_count": 10,
   "outputs": [],
   "source": [
    "import file_classes\n",
    "\n",
    "from datetime import datetime\n",
    "from dateutil.tz import tzlocal\n",
    "from pynwb import load_namespaces\n",
    "\n",
    "from pynwb import NWBFile\n",
    "\n",
    "name = \"test\"\n",
    "ns_path = name + \".namespace.yaml\"\n",
    "load_namespaces(ns_path)\n",
    "\n",
    "from pynwb import register_class, load_namespaces\n",
    "from pynwb.core import NWBContainer, NWBDataInterface\n",
    "from pynwb.base import TimeSeries\n",
    "from collections.abc import Iterable\n",
    "from pynwb.device import  Device\n",
    "from hdmf.utils import docval, popargs, get_docval, popargs_to_dict\n",
    "from pynwb.core import DynamicTable, VectorData\n",
    "import numpy as np\n",
    "from hdmf.utils import docval, getargs, popargs, popargs_to_dict, get_docval, call_docval_func\n",
    "import warnings\n",
    "from pynwb.io.core import NWBContainerMapper\n",
    "from pynwb import register_map\n",
    "from pynwb.base import TimeSeries, TimeSeriesReferenceVectorData, TimeSeriesReference\n",
    "\n",
    "from file_classes import StimulusPresentation\n",
    "\n"
   ],
   "metadata": {
    "collapsed": false,
    "pycharm": {
     "name": "#%%\n"
    }
   }
  },
  {
   "cell_type": "code",
   "execution_count": 11,
   "outputs": [
    {
     "name": "stdout",
     "output_type": "stream",
     "text": [
      "Help on class StimulusPresentation in module file_classes:\n",
      "\n",
      "class StimulusPresentation(hdmf.common.table.DynamicTable)\n",
      " |  StimulusPresentation(*args, **kwargs)\n",
      " |  \n",
      " |  Table for storing Epoch data\n",
      " |  \n",
      " |  Method resolution order:\n",
      " |      StimulusPresentation\n",
      " |      hdmf.common.table.DynamicTable\n",
      " |      hdmf.container.Container\n",
      " |      hdmf.container.AbstractContainer\n",
      " |      builtins.object\n",
      " |  \n",
      " |  Methods defined here:\n",
      " |  \n",
      " |  __init__(*args, **kwargs)\n",
      " |      __init__(name, description, id=None, columns=None, colnames=None)\n",
      " |      \n",
      " |      \n",
      " |      \n",
      " |      Args:\n",
      " |          name (:py:class:`~str`): name of this TimeIntervals\n",
      " |          description (:py:class:`~str`): Description of this TimeIntervals\n",
      " |          id (:py:class:`~numpy.ndarray` or :py:class:`~list` or :py:class:`~tuple` or :py:class:`~Dataset` or :py:class:`~zarr.core.Array` or :py:class:`~hdmf.utils.StrDataset` or :py:class:`~hdmf.query.HDMFDataset` or :py:class:`~hdmf.data_utils.AbstractDataChunkIterator` or :py:class:`~hdmf.data_utils.DataIO` or :py:class:`~hdmf.common.table.ElementIdentifiers`): the identifiers for this table\n",
      " |          columns (:py:class:`~tuple` or :py:class:`~list`): the columns in this table\n",
      " |          colnames (:py:class:`~numpy.ndarray` or :py:class:`~list` or :py:class:`~tuple` or :py:class:`~Dataset` or :py:class:`~zarr.core.Array` or :py:class:`~hdmf.utils.StrDataset` or :py:class:`~hdmf.query.HDMFDataset` or :py:class:`~hdmf.data_utils.AbstractDataChunkIterator`): the ordered names of the columns in this table. columns must also be provided.\n",
      " |  \n",
      " |  add_event_type(*args, **kwargs)\n",
      " |      add_event_type(label, pattern, stimulus_description='')\n",
      " |      \n",
      " |      Add an event type as a row to this table.\n",
      " |      \n",
      " |      Args:\n",
      " |          label (:py:class:`~str`): name of this TimeIntervals\n",
      " |          pattern (:py:class:`~file_classes.HolographicPattern`): name of this TimeIntervals\n",
      " |          stimulus_description (:py:class:`~str` or :py:class:`~list`): name of this TimeIntervals\n",
      " |  \n",
      " |  ----------------------------------------------------------------------\n",
      " |  Data and other attributes defined here:\n",
      " |  \n",
      " |  __abstractmethods__ = frozenset()\n",
      " |  \n",
      " |  __columns__ = ({'description': 'Start time of epoch, in seconds', 'nam...\n",
      " |  \n",
      " |  __fields__ = ('id', 'columns', 'colnames', 'description')\n",
      " |  \n",
      " |  namespace = 'test'\n",
      " |  \n",
      " |  neurodata_type = 'StimulusPresentation'\n",
      " |  \n",
      " |  ----------------------------------------------------------------------\n",
      " |  Methods inherited from hdmf.common.table.DynamicTable:\n",
      " |  \n",
      " |  __contains__(self, val)\n",
      " |      Check if the given value (i.e., column) exists in this table\n",
      " |  \n",
      " |  __eq__(self, other)\n",
      " |      Compare if the two DynamicTables contain the same data.\n",
      " |      \n",
      " |      First this returns False if the other DynamicTable has a different name or\n",
      " |      description. Then, this table and the other table are converted to pandas\n",
      " |      dataframes and the equality of the two tables is returned.\n",
      " |      \n",
      " |      :param other: DynamicTable to compare to\n",
      " |      \n",
      " |      :return: Bool indicating whether the two DynamicTables contain the same data\n",
      " |  \n",
      " |  __getitem__(self, key)\n",
      " |  \n",
      " |  __len__(self)\n",
      " |      Number of rows in the table\n",
      " |  \n",
      " |  add_column(*args, **kwargs)\n",
      " |      add_column(name, description, data=[], table=False, index=False, enum=False, col_cls=<class 'hdmf.common.table.VectorData'>)\n",
      " |      \n",
      " |      Add a column to this table.\n",
      " |      \n",
      " |              If data is provided, it must contain the same number of rows as the current state of the table.\n",
      " |      \n",
      " |              Extra keyword arguments will be passed to the constructor of the column class (\"col_cls\").\n",
      " |      \n",
      " |              :raises ValueError: if the column has already been added to the table\n",
      " |      \n",
      " |      Args:\n",
      " |          name (:py:class:`~str`): the name of this VectorData\n",
      " |          description (:py:class:`~str`): a description for this column\n",
      " |          data (:py:class:`~numpy.ndarray` or :py:class:`~list` or :py:class:`~tuple` or :py:class:`~Dataset` or :py:class:`~zarr.core.Array` or :py:class:`~hdmf.utils.StrDataset` or :py:class:`~hdmf.query.HDMFDataset` or :py:class:`~hdmf.data_utils.AbstractDataChunkIterator` or :py:class:`~hdmf.data_utils.DataIO`): a dataset where the first dimension is a concatenation of multiple vectors\n",
      " |          table (:py:class:`~bool` or DynamicTable): whether or not this is a table region or the table the region applies to\n",
      " |          index (:py:class:`~bool` or :py:class:`~hdmf.common.table.VectorIndex` or :py:class:`~numpy.ndarray` or :py:class:`~list` or :py:class:`~tuple` or :py:class:`~Dataset` or :py:class:`~zarr.core.Array` or :py:class:`~hdmf.utils.StrDataset` or :py:class:`~hdmf.query.HDMFDataset` or :py:class:`~hdmf.data_utils.AbstractDataChunkIterator` or :py:class:`~int`):         * ``False`` (default): do not generate a VectorIndex\n",
      " |      \n",
      " |              * ``True``: generate one empty VectorIndex \n",
      " |      \n",
      " |              * ``VectorIndex``: Use the supplied VectorIndex \n",
      " |      \n",
      " |              * array-like of ints: Create a VectorIndex and use these values as the data \n",
      " |      \n",
      " |              * ``int``: Recursively create `n` VectorIndex objects for a multi-ragged array \n",
      " |      \n",
      " |          enum (:py:class:`~bool` or :py:class:`~numpy.ndarray` or :py:class:`~list` or :py:class:`~tuple` or :py:class:`~Dataset` or :py:class:`~zarr.core.Array` or :py:class:`~hdmf.utils.StrDataset` or :py:class:`~hdmf.query.HDMFDataset` or :py:class:`~hdmf.data_utils.AbstractDataChunkIterator`): whether or not this column contains data from a fixed set of elements\n",
      " |          col_cls (:py:class:`~type`): class to use to represent the column data. If table=True, this field is ignored and a DynamicTableRegion object is used. If enum=True, this field is ignored and a EnumData object is used.\n",
      " |  \n",
      " |  add_row(*args, **kwargs)\n",
      " |      add_row(data=None, id=None, enforce_unique_id=False)\n",
      " |      \n",
      " |      Add a row to the table. If *id* is not provided, it will auto-increment.\n",
      " |      \n",
      " |      Args:\n",
      " |          data (:py:class:`~dict`): the data to put in this row\n",
      " |          id (:py:class:`~int`): the ID for the row\n",
      " |          enforce_unique_id (:py:class:`~bool`): enforce that the id in the table must be unique\n",
      " |  \n",
      " |  copy(self)\n",
      " |      Return a copy of this DynamicTable.\n",
      " |      This is useful for linking.\n",
      " |  \n",
      " |  create_region(*args, **kwargs)\n",
      " |      create_region(name, region, description)\n",
      " |      \n",
      " |      Create a DynamicTableRegion selecting a region (i.e., rows) in this DynamicTable.\n",
      " |      \n",
      " |              :raises: IndexError if the provided region contains invalid indices\n",
      " |      \n",
      " |      Args:\n",
      " |          name (:py:class:`~str`): the name of the DynamicTableRegion object\n",
      " |          region (:py:class:`~slice` or :py:class:`~list` or :py:class:`~tuple`): the indices of the table\n",
      " |          description (:py:class:`~str`): a brief description of what the region is\n",
      " |  \n",
      " |  get(self, key, default=None, df=True, index=True, **kwargs)\n",
      " |      Select a subset from the table.\n",
      " |      \n",
      " |      If the table includes a DynamicTableRegion column, then by default,\n",
      " |      the index/indices of the DynamicTableRegion will be returned. If ``df=True`` and ``index=False``,\n",
      " |      then the returned pandas DataFrame will contain a nested DataFrame in each row of the\n",
      " |      DynamicTableRegion column. If ``df=False`` and ``index=True``, then a list of lists will be returned\n",
      " |      where the list containing the DynamicTableRegion column contains the indices of the DynamicTableRegion.\n",
      " |      Note that in this case, the DynamicTable referenced by the DynamicTableRegion can be accessed through\n",
      " |      the ``table`` attribute of the DynamicTableRegion object. ``df=False`` and ``index=False`` is\n",
      " |      not yet supported.\n",
      " |      \n",
      " |      :param key: Key defining which elements of the table to select. This may be one of the following:\n",
      " |      \n",
      " |          1) string with the name of the column to select\n",
      " |          2) a tuple consisting of (int, str) where the int selects the row and the string identifies the\n",
      " |             column to select by name\n",
      " |          3) int, list of ints, array, or slice selecting a set of full rows in the table. If an int is used, then\n",
      " |             scalars are returned for each column that has a single value. If a list, array, or slice is used and\n",
      " |             df=False, then lists are returned for each column, even if the list, array, or slice resolves to a\n",
      " |             single row.\n",
      " |      \n",
      " |      :return: 1) If key is a string, then return the VectorData object representing the column with the string name\n",
      " |               2) If key is a tuple of (int, str), then return the scalar value of the selected cell\n",
      " |               3) If key is an int, list, np.ndarray, or slice, then return pandas.DataFrame or lists\n",
      " |                  consisting of one or more rows\n",
      " |      \n",
      " |      :raises: KeyError\n",
      " |  \n",
      " |  get_foreign_columns(self)\n",
      " |      Determine the names of all columns that link to another DynamicTable, i.e.,\n",
      " |      find all DynamicTableRegion type columns. Similar to a foreign key in a\n",
      " |      database, a DynamicTableRegion column references elements in another table.\n",
      " |      \n",
      " |      :returns: List of strings with the column names\n",
      " |  \n",
      " |  get_linked_tables(*args, **kwargs)\n",
      " |      get_linked_tables(other_tables=None)\n",
      " |      \n",
      " |      Get a list of the full list of all tables that are being linked to directly or indirectly\n",
      " |              from this table via foreign DynamicTableColumns included in this table or in any table that\n",
      " |              can be reached through DynamicTableRegion columns\n",
      " |      \n",
      " |              Returns: List of NamedTuple objects with:\n",
      " |                      * 'source_table' : The source table containing the DynamicTableRegion column\n",
      " |                      * 'source_column' : The relevant DynamicTableRegion column in the 'source_table'\n",
      " |                      * 'target_table' : The target DynamicTable; same as source_column.table.\n",
      " |      \n",
      " |      Args:\n",
      " |          other_tables (:py:class:`~list` or :py:class:`~tuple` or :py:class:`~set`): List of additional tables to consider in the search. Usually this parameter is used for internal purposes, e.g., when we need to consider AlignedDynamicTable\n",
      " |  \n",
      " |  has_foreign_columns(self)\n",
      " |      Does the table contain DynamicTableRegion columns\n",
      " |      \n",
      " |      :returns: True if the table contains a DynamicTableRegion column, else False\n",
      " |  \n",
      " |  to_dataframe(*args, **kwargs)\n",
      " |      to_dataframe(exclude=None, index=False)\n",
      " |      \n",
      " |      Produce a pandas DataFrame containing this table's data.\n",
      " |      \n",
      " |              If this table contains a DynamicTableRegion, by default,\n",
      " |      \n",
      " |              If exclude is None, this is equivalent to table.get(slice(None, None, None), index=False).\n",
      " |      \n",
      " |      Args:\n",
      " |          exclude (:py:class:`~set`): Set of column names to exclude from the dataframe\n",
      " |          index (:py:class:`~bool`): Whether to return indices for a DynamicTableRegion column. If False, nested dataframes will be returned.\n",
      " |  \n",
      " |  ----------------------------------------------------------------------\n",
      " |  Class methods inherited from hdmf.common.table.DynamicTable:\n",
      " |  \n",
      " |  from_dataframe(*args, **kwargs) from hdmf.utils.ExtenderMeta\n",
      " |      from_dataframe(df, name, index_column=None, table_description='', columns=None)\n",
      " |      \n",
      " |      Construct an instance of DynamicTable (or a subclass) from a pandas DataFrame.\n",
      " |      \n",
      " |              The columns of the resulting table are defined by the columns of the\n",
      " |              dataframe and the index by the dataframe's index (make sure it has a\n",
      " |              name!) or by a column whose name is supplied to the index_column\n",
      " |              parameter. We recommend that you supply *columns* - a list/tuple of\n",
      " |              dictionaries containing the name and description of the column- to help\n",
      " |              others understand the contents of your table. See\n",
      " |              :py:class:`~hdmf.common.table.DynamicTable` for more details on *columns*.\n",
      " |      \n",
      " |      Args:\n",
      " |          df (:py:class:`~DataFrame`): source DataFrame\n",
      " |          name (:py:class:`~str`): the name of this table\n",
      " |          index_column (:py:class:`~str`): if provided, this column will become the table's index\n",
      " |          table_description (:py:class:`~str`): a description of what is in the resulting table\n",
      " |          columns (:py:class:`~list` or :py:class:`~tuple`): a list/tuple of dictionaries specifying columns in the table\n",
      " |  \n",
      " |  ----------------------------------------------------------------------\n",
      " |  Data descriptors inherited from hdmf.common.table.DynamicTable:\n",
      " |  \n",
      " |  colnames\n",
      " |      the ordered names of the columns in this table. columns must also be provided.\n",
      " |  \n",
      " |  columns\n",
      " |      the columns in this table\n",
      " |  \n",
      " |  description\n",
      " |      a description of what is in this table\n",
      " |  \n",
      " |  id\n",
      " |      the identifiers for this table\n",
      " |  \n",
      " |  ----------------------------------------------------------------------\n",
      " |  Data and other attributes inherited from hdmf.common.table.DynamicTable:\n",
      " |  \n",
      " |  __hash__ = None\n",
      " |  \n",
      " |  data_type = 'DynamicTable'\n",
      " |  \n",
      " |  ----------------------------------------------------------------------\n",
      " |  Methods inherited from hdmf.container.Container:\n",
      " |  \n",
      " |  __repr__(self)\n",
      " |      Return repr(self).\n",
      " |  \n",
      " |  ----------------------------------------------------------------------\n",
      " |  Methods inherited from hdmf.container.AbstractContainer:\n",
      " |  \n",
      " |  add_child(*args, **kwargs)\n",
      " |      add_child(child=None)\n",
      " |      \n",
      " |      \n",
      " |      \n",
      " |      Args:\n",
      " |          child (Container): the child Container for this Container\n",
      " |  \n",
      " |  generate_new_id(*args, **kwargs)\n",
      " |      generate_new_id(recurse=True)\n",
      " |      \n",
      " |      Changes the object ID of this Container and all of its children to a new UUID string.\n",
      " |      \n",
      " |      Args:\n",
      " |          recurse (:py:class:`~bool`): whether or not to change the object ID of this container's children\n",
      " |  \n",
      " |  get_ancestor(*args, **kwargs)\n",
      " |      get_ancestor(data_type=None)\n",
      " |      \n",
      " |      Traverse parent hierarchy and return first instance of the specified data_type\n",
      " |      \n",
      " |      Args:\n",
      " |          data_type (:py:class:`~str`): the data_type to search for\n",
      " |  \n",
      " |  reset_parent(self)\n",
      " |      Reset the parent of this Container to None and remove the Container from the children of its parent.\n",
      " |      \n",
      " |      Use with caution. This can result in orphaned containers and broken links.\n",
      " |  \n",
      " |  set_modified(*args, **kwargs)\n",
      " |      set_modified(modified=True)\n",
      " |      \n",
      " |      \n",
      " |      \n",
      " |      Args:\n",
      " |          modified (:py:class:`~bool`): whether or not this Container has been modified\n",
      " |  \n",
      " |  ----------------------------------------------------------------------\n",
      " |  Class methods inherited from hdmf.container.AbstractContainer:\n",
      " |  \n",
      " |  get_fields_conf() from hdmf.utils.ExtenderMeta\n",
      " |  \n",
      " |  type_hierarchy() from hdmf.utils.ExtenderMeta\n",
      " |  \n",
      " |  ----------------------------------------------------------------------\n",
      " |  Static methods inherited from hdmf.container.AbstractContainer:\n",
      " |  \n",
      " |  __new__(cls, *args, **kwargs)\n",
      " |      Static method of the object class called by Python to create the object first and then\n",
      " |       __init__() is called to initialize the object's attributes.\n",
      " |      \n",
      " |      NOTE: this method is called directly from ObjectMapper.__new_container__ during the process of\n",
      " |      constructing the object from builders that are read from a file.\n",
      " |  \n",
      " |  ----------------------------------------------------------------------\n",
      " |  Readonly properties inherited from hdmf.container.AbstractContainer:\n",
      " |  \n",
      " |  children\n",
      " |  \n",
      " |  fields\n",
      " |  \n",
      " |  modified\n",
      " |  \n",
      " |  name\n",
      " |      The name of this Container\n",
      " |  \n",
      " |  object_id\n",
      " |  \n",
      " |  ----------------------------------------------------------------------\n",
      " |  Data descriptors inherited from hdmf.container.AbstractContainer:\n",
      " |  \n",
      " |  __dict__\n",
      " |      dictionary for instance variables (if defined)\n",
      " |  \n",
      " |  __weakref__\n",
      " |      list of weak references to the object (if defined)\n",
      " |  \n",
      " |  container_source\n",
      " |      The source of this Container\n",
      " |  \n",
      " |  parent\n",
      " |      The parent Container of this Container\n",
      "\n"
     ]
    }
   ],
   "source": [
    "help(StimulusPresentation)"
   ],
   "metadata": {
    "collapsed": false,
    "pycharm": {
     "name": "#%%\n"
    }
   }
  },
  {
   "cell_type": "code",
   "execution_count": 9,
   "outputs": [
    {
     "name": "stdout",
     "output_type": "stream",
     "text": [
      "{'__module__': '__main__', '__init__': <function StimulusPresentation.__init__ at 0x7fb5391c5750>, '__doc__': None, '__abstractmethods__': frozenset(), '_abc_impl': <_abc._abc_data object at 0x7fb528f62e80>, 'constructor_args': {'name': <function ObjectMapper.get_container_name at 0x7fb528cc81f0>}, 'obj_attrs': {}}\n"
     ]
    }
   ],
   "source": [
    "print(StimulusPresentation.__dict__)"
   ],
   "metadata": {
    "collapsed": false,
    "pycharm": {
     "name": "#%%\n"
    }
   }
  },
  {
   "cell_type": "code",
   "execution_count": 13,
   "outputs": [
    {
     "name": "stdout",
     "output_type": "stream",
     "text": [
      "(<class 'file_classes.StimulusPresentation'>, <class 'hdmf.common.table.DynamicTable'>, <class 'hdmf.container.Container'>, <class 'hdmf.container.AbstractContainer'>, <class 'object'>)\n"
     ]
    }
   ],
   "source": [
    "print(StimulusPresentation.type_hierarchy())"
   ],
   "metadata": {
    "collapsed": false,
    "pycharm": {
     "name": "#%%\n"
    }
   }
  },
  {
   "cell_type": "code",
   "execution_count": 11,
   "outputs": [
    {
     "name": "stdout",
     "output_type": "stream",
     "text": [
      "\n"
     ]
    }
   ],
   "source": [
    "from hdmf.common import DynamicTable\n",
    "\n",
    "users_table = DynamicTable(\n",
    "    name='users',\n",
    "    description='a table containing data/metadata about users, one user per row',\n",
    ")\n",
    "\n",
    "users_table.add_column(\n",
    "    name='first_name',\n",
    "    description='the first name of the user',\n",
    ")\n",
    "\n",
    "users_table.add_column(\n",
    "    name='last_name',\n",
    "    description='the last name of the user',\n",
    ")\n",
    "\n",
    "users_table.add_column(\n",
    "    name='phone_number',\n",
    "    description='the phone number of the user',\n",
    "    index=False,\n",
    ")\n",
    "\n",
    "ts = TimeSeries(name='test', description='test d', data = [0, 1, 2, 3, 4, 5], unit='sec', rate=10.)\n",
    "\n",
    "# id will be set to 0 automatically\n",
    "users_table.add_row(\n",
    "    first_name='Grace',\n",
    "    last_name='Hopper',\n",
    "    phone_number=ts,\n",
    ")\n",
    "\n",
    "# id will be set to 1 automatically\n",
    "users_table.add_row(\n",
    "    first_name='Alan',\n",
    "    last_name='Turing',\n",
    "    phone_number=ts,\n",
    ")\n",
    "\n",
    "with NWBHDF5IO(\"basics_tutorial.nwb\", \"w\") as io:\n",
    "    # io.write(series)\n",
    "    io.write(ts)\n",
    "    io.write(users_table)\n",
    "\n",
    "with NWBHDF5IO(\"basics_tutorial.nwb\", \"r\", load_namespaces=True) as io:\n",
    "    read_nwbfile = io.read()\n",
    "    # a = read_nwbfile.acquisition['test_presentation_table']\n",
    "    # print(a.time_series)\n",
    "    print('')\n"
   ],
   "metadata": {
    "collapsed": false,
    "pycharm": {
     "name": "#%%\n"
    }
   }
  },
  {
   "cell_type": "code",
   "execution_count": 1,
   "outputs": [
    {
     "name": "stdout",
     "output_type": "stream",
     "text": [
      "\n"
     ]
    }
   ],
   "source": [
    "from pynwb import NWBHDF5IO\n",
    "from nwbwidgets import nwb2widget\n",
    "\n",
    "io = NWBHDF5IO('basics_tutorial.nwb', mode='r', load_namespaces=True)\n",
    "nwb = io.read()\n",
    "\n",
    "nwb2widget(nwb)\n",
    "\n",
    "print('')"
   ],
   "metadata": {
    "collapsed": false,
    "pycharm": {
     "name": "#%%\n"
    }
   }
  },
  {
   "cell_type": "code",
   "execution_count": 13,
   "outputs": [],
   "source": [
    "io.close()"
   ],
   "metadata": {
    "collapsed": false,
    "pycharm": {
     "name": "#%%\n"
    }
   }
  },
  {
   "cell_type": "code",
   "execution_count": null,
   "outputs": [],
   "source": [],
   "metadata": {
    "collapsed": false,
    "pycharm": {
     "name": "#%%\n"
    }
   }
  }
 ],
 "metadata": {
  "kernelspec": {
   "display_name": "Python 3",
   "language": "python",
   "name": "python3"
  },
  "language_info": {
   "codemirror_mode": {
    "name": "ipython",
    "version": 2
   },
   "file_extension": ".py",
   "mimetype": "text/x-python",
   "name": "python",
   "nbconvert_exporter": "python",
   "pygments_lexer": "ipython2",
   "version": "2.7.6"
  }
 },
 "nbformat": 4,
 "nbformat_minor": 0
}