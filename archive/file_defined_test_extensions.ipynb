{
 "cells": [
  {
   "cell_type": "code",
   "metadata": {
    "collapsed": true,
    "pycharm": {
     "name": "#%%\n"
    }
   },
   "source": [
    "# %load_ext autoreload\n",
    "# %autoreload 2\n"
   ],
   "execution_count": 1,
   "outputs": []
  },
  {
   "cell_type": "code",
   "execution_count": null,
   "outputs": [],
   "source": [
    "from file_classes import SpatialLightModulator, PhotostimulationDevice, ImagingPlane, HolographicPattern, PhotostimulationSeries"
   ],
   "metadata": {
    "collapsed": false,
    "pycharm": {
     "name": "#%%\n",
     "is_executing": true
    }
   }
  },
  {
   "cell_type": "code",
   "execution_count": null,
   "outputs": [],
   "source": [
    "from datetime import datetime\n",
    "from dateutil.tz import tzlocal\n",
    "\n",
    "from pynwb import NWBFile\n",
    "\n",
    "nwbfile = NWBFile(\n",
    "    'my first synthetic recording',\n",
    "    'EXAMPLE_ID',\n",
    "    datetime.now(tzlocal()),\n",
    ")\n",
    "\n",
    "import numpy as np\n",
    "slm = SpatialLightModulator(\n",
    "    name=\"OpticalChannel\",\n",
    "    dimensions = [1, 2, 3],#[32, 10],\n",
    ")\n",
    "\n",
    "dev = PhotostimulationDevice(name=\"device\", description=\"photostim_device\", type='LED', wavelength=320., slm=slm)\n",
    "nwbfile.add_device(dev)\n",
    "\n",
    "imaging_plane = ImagingPlane(name=\"imaging_plane\",  device=dev)\n",
    "\n",
    "\n",
    "# stim = PhotostimulationPattern(name=\"photostim\", device=dev, roi_coordinates=[[1, 2], [3, 4]], stimulation_diameter=5)\n",
    "# nwbfile.add_acquisition(stim)\n",
    "\n"
   ],
   "metadata": {
    "collapsed": false,
    "pycharm": {
     "name": "#%%\n",
     "is_executing": true
    }
   }
  },
  {
   "cell_type": "code",
   "execution_count": null,
   "outputs": [],
   "source": [
    "hp = HolographicPattern(name='HolographicPattern', description='HolographicPattern')\n",
    "\n",
    "for _ in range(30):\n",
    "    image_mask = np.zeros((100, 100))\n",
    "\n",
    "    # randomly generate example image masks\n",
    "    x = np.random.randint(0, 95)\n",
    "    y = np.random.randint(0, 95)\n",
    "    image_mask[x:x + 5, y:y + 5] = 1\n",
    "\n",
    "    # add image mask to plane segmentation\n",
    "    hp.add_roi(image_mask=image_mask)"
   ],
   "metadata": {
    "collapsed": false,
    "pycharm": {
     "name": "#%%\n",
     "is_executing": true
    }
   }
  },
  {
   "cell_type": "code",
   "execution_count": 9,
   "outputs": [
    {
     "ename": "ValueError",
     "evalue": "Argument not found in dict: 'photostimulation_pattern'",
     "output_type": "error",
     "traceback": [
      "\u001B[0;31m---------------------------------------------------------------------------\u001B[0m",
      "\u001B[0;31mKeyError\u001B[0m                                  Traceback (most recent call last)",
      "File \u001B[0;32m~/opt/anaconda3/envs/NWB/lib/python3.10/site-packages/hdmf/utils.py:803\u001B[0m, in \u001B[0;36mpopargs_to_dict\u001B[0;34m(keys, argdict)\u001B[0m\n\u001B[1;32m    802\u001B[0m \u001B[38;5;28;01mtry\u001B[39;00m:\n\u001B[0;32m--> 803\u001B[0m     ret[arg] \u001B[38;5;241m=\u001B[39m \u001B[43margdict\u001B[49m\u001B[38;5;241;43m.\u001B[39;49m\u001B[43mpop\u001B[49m\u001B[43m(\u001B[49m\u001B[43marg\u001B[49m\u001B[43m)\u001B[49m\n\u001B[1;32m    804\u001B[0m \u001B[38;5;28;01mexcept\u001B[39;00m \u001B[38;5;167;01mKeyError\u001B[39;00m \u001B[38;5;28;01mas\u001B[39;00m ke:\n",
      "\u001B[0;31mKeyError\u001B[0m: 'photostimulation_pattern'",
      "\nDuring handling of the above exception, another exception occurred:\n",
      "\u001B[0;31mValueError\u001B[0m                                Traceback (most recent call last)",
      "Input \u001B[0;32mIn [9]\u001B[0m, in \u001B[0;36m<cell line: 2>\u001B[0;34m()\u001B[0m\n\u001B[1;32m      1\u001B[0m data \u001B[38;5;241m=\u001B[39m \u001B[38;5;28mlist\u001B[39m(\u001B[38;5;28mrange\u001B[39m(\u001B[38;5;241m10\u001B[39m))\n\u001B[0;32m----> 2\u001B[0m ser \u001B[38;5;241m=\u001B[39m \u001B[43mPhotostimulationSeries\u001B[49m\u001B[43m(\u001B[49m\u001B[43mname\u001B[49m\u001B[38;5;241;43m=\u001B[39;49m\u001B[38;5;124;43m\"\u001B[39;49m\u001B[38;5;124;43mphotosim series\u001B[39;49m\u001B[38;5;124;43m\"\u001B[39;49m\u001B[43m,\u001B[49m\u001B[43m \u001B[49m\u001B[43mpattern\u001B[49m\u001B[38;5;241;43m=\u001B[39;49m\u001B[43mhp\u001B[49m\u001B[43m,\u001B[49m\u001B[43m \u001B[49m\u001B[43mdata\u001B[49m\u001B[38;5;241;43m=\u001B[39;49m\u001B[43mdata\u001B[49m\u001B[43m,\u001B[49m\u001B[43m \u001B[49m\u001B[43munit\u001B[49m\u001B[38;5;241;43m=\u001B[39;49m\u001B[38;5;124;43m'\u001B[39;49m\u001B[38;5;124;43mSIunit\u001B[39;49m\u001B[38;5;124;43m'\u001B[39;49m\u001B[43m,\u001B[49m\u001B[43m \u001B[49m\u001B[43mrate\u001B[49m\u001B[38;5;241;43m=\u001B[39;49m\u001B[38;5;241;43m1.\u001B[39;49m\u001B[43m)\u001B[49m\n\u001B[1;32m      3\u001B[0m nwbfile\u001B[38;5;241m.\u001B[39madd_stimulus(ser)\n",
      "File \u001B[0;32m~/opt/anaconda3/envs/NWB/lib/python3.10/site-packages/hdmf/utils.py:645\u001B[0m, in \u001B[0;36mdocval.<locals>.dec.<locals>.func_call\u001B[0;34m(*args, **kwargs)\u001B[0m\n\u001B[1;32m    643\u001B[0m \u001B[38;5;28;01mdef\u001B[39;00m \u001B[38;5;21mfunc_call\u001B[39m(\u001B[38;5;241m*\u001B[39margs, \u001B[38;5;241m*\u001B[39m\u001B[38;5;241m*\u001B[39mkwargs):\n\u001B[1;32m    644\u001B[0m     pargs \u001B[38;5;241m=\u001B[39m _check_args(args, kwargs)\n\u001B[0;32m--> 645\u001B[0m     \u001B[38;5;28;01mreturn\u001B[39;00m \u001B[43mfunc\u001B[49m\u001B[43m(\u001B[49m\u001B[43margs\u001B[49m\u001B[43m[\u001B[49m\u001B[38;5;241;43m0\u001B[39;49m\u001B[43m]\u001B[49m\u001B[43m,\u001B[49m\u001B[43m \u001B[49m\u001B[38;5;241;43m*\u001B[39;49m\u001B[38;5;241;43m*\u001B[39;49m\u001B[43mpargs\u001B[49m\u001B[43m)\u001B[49m\n",
      "File \u001B[0;32m~/PycharmProjects/nwb-photostim/file_classes.py:158\u001B[0m, in \u001B[0;36mPhotostimulationSeries.__init__\u001B[0;34m(self, **kwargs)\u001B[0m\n\u001B[1;32m    152\u001B[0m \u001B[38;5;129m@docval\u001B[39m(\u001B[38;5;241m*\u001B[39mget_docval(TimeSeries\u001B[38;5;241m.\u001B[39m\u001B[38;5;21m__init__\u001B[39m) \u001B[38;5;241m+\u001B[39m (\n\u001B[1;32m    153\u001B[0m     {\u001B[38;5;124m'\u001B[39m\u001B[38;5;124mname\u001B[39m\u001B[38;5;124m'\u001B[39m: \u001B[38;5;124m'\u001B[39m\u001B[38;5;124mpattern\u001B[39m\u001B[38;5;124m'\u001B[39m, \u001B[38;5;124m'\u001B[39m\u001B[38;5;124mtype\u001B[39m\u001B[38;5;124m'\u001B[39m: HolographicPattern, \u001B[38;5;124m'\u001B[39m\u001B[38;5;124mdoc\u001B[39m\u001B[38;5;124m'\u001B[39m: \u001B[38;5;124m'\u001B[39m\u001B[38;5;124mphotostimulation pattern\u001B[39m\u001B[38;5;124m'\u001B[39m},\n\u001B[1;32m    154\u001B[0m     {\u001B[38;5;124m'\u001B[39m\u001B[38;5;124mname\u001B[39m\u001B[38;5;124m'\u001B[39m: \u001B[38;5;124m'\u001B[39m\u001B[38;5;124mfield_of_view\u001B[39m\u001B[38;5;124m'\u001B[39m, \u001B[38;5;124m'\u001B[39m\u001B[38;5;124mtype\u001B[39m\u001B[38;5;124m'\u001B[39m: (\u001B[38;5;28mint\u001B[39m, \u001B[38;5;28mfloat\u001B[39m), \u001B[38;5;124m'\u001B[39m\u001B[38;5;124mdoc\u001B[39m\u001B[38;5;124m'\u001B[39m: \u001B[38;5;124m'\u001B[39m\u001B[38;5;124mdiameter of stimulation (pixels)\u001B[39m\u001B[38;5;124m'\u001B[39m, \u001B[38;5;124m'\u001B[39m\u001B[38;5;124mdefault\u001B[39m\u001B[38;5;124m'\u001B[39m: \u001B[38;5;28;01mNone\u001B[39;00m},\n\u001B[1;32m    155\u001B[0m     ))\n\u001B[1;32m    156\u001B[0m \u001B[38;5;28;01mdef\u001B[39;00m \u001B[38;5;21m__init__\u001B[39m(\u001B[38;5;28mself\u001B[39m, \u001B[38;5;241m*\u001B[39m\u001B[38;5;241m*\u001B[39mkwargs):\n\u001B[1;32m    157\u001B[0m     keys_to_set \u001B[38;5;241m=\u001B[39m (\u001B[38;5;124m\"\u001B[39m\u001B[38;5;124mphotostimulation_pattern\u001B[39m\u001B[38;5;124m\"\u001B[39m, \u001B[38;5;124m\"\u001B[39m\u001B[38;5;124mfield_of_view\u001B[39m\u001B[38;5;124m\"\u001B[39m)\n\u001B[0;32m--> 158\u001B[0m     args_to_set \u001B[38;5;241m=\u001B[39m \u001B[43mpopargs_to_dict\u001B[49m\u001B[43m(\u001B[49m\u001B[43mkeys_to_set\u001B[49m\u001B[43m,\u001B[49m\u001B[43m \u001B[49m\u001B[43mkwargs\u001B[49m\u001B[43m)\u001B[49m\n\u001B[1;32m    159\u001B[0m     \u001B[38;5;28msuper\u001B[39m()\u001B[38;5;241m.\u001B[39m\u001B[38;5;21m__init__\u001B[39m(\u001B[38;5;241m*\u001B[39m\u001B[38;5;241m*\u001B[39mkwargs)\n\u001B[1;32m    161\u001B[0m     \u001B[38;5;28;01mfor\u001B[39;00m key, val \u001B[38;5;129;01min\u001B[39;00m args_to_set\u001B[38;5;241m.\u001B[39mitems():\n",
      "File \u001B[0;32m~/opt/anaconda3/envs/NWB/lib/python3.10/site-packages/hdmf/utils.py:805\u001B[0m, in \u001B[0;36mpopargs_to_dict\u001B[0;34m(keys, argdict)\u001B[0m\n\u001B[1;32m    803\u001B[0m         ret[arg] \u001B[38;5;241m=\u001B[39m argdict\u001B[38;5;241m.\u001B[39mpop(arg)\n\u001B[1;32m    804\u001B[0m     \u001B[38;5;28;01mexcept\u001B[39;00m \u001B[38;5;167;01mKeyError\u001B[39;00m \u001B[38;5;28;01mas\u001B[39;00m ke:\n\u001B[0;32m--> 805\u001B[0m         \u001B[38;5;28;01mraise\u001B[39;00m \u001B[38;5;167;01mValueError\u001B[39;00m(\u001B[38;5;124m'\u001B[39m\u001B[38;5;124mArgument not found in dict: \u001B[39m\u001B[38;5;132;01m%s\u001B[39;00m\u001B[38;5;124m'\u001B[39m \u001B[38;5;241m%\u001B[39m \u001B[38;5;28mstr\u001B[39m(ke))\n\u001B[1;32m    806\u001B[0m \u001B[38;5;28;01mreturn\u001B[39;00m ret\n",
      "\u001B[0;31mValueError\u001B[0m: Argument not found in dict: 'photostimulation_pattern'"
     ]
    }
   ],
   "source": [
    "data = list(range(10))\n",
    "ser = PhotostimulationSeries(name=\"photosim series\", pattern=hp, data=data, unit='SIunit', rate=1.)\n",
    "nwbfile.add_stimulus(ser)"
   ],
   "metadata": {
    "collapsed": false,
    "pycharm": {
     "name": "#%%\n"
    }
   }
  },
  {
   "cell_type": "code",
   "execution_count": 4,
   "outputs": [
    {
     "name": "stderr",
     "output_type": "stream",
     "text": [
      "/Users/harriscaw/opt/anaconda3/envs/NWB/lib/python3.10/site-packages/pynwb/base.py:193: UserWarning: PhotostimulationSeries 'photosim series': Length of data does not match length of timestamps. Your data may be transposed. Time should be on the 0th dimension\n",
      "  warn(\"%s '%s': Length of data does not match length of timestamps. Your data may be transposed. \"\n"
     ]
    }
   ],
   "source": [
    "\n"
   ],
   "metadata": {
    "collapsed": false,
    "pycharm": {
     "name": "#%%\n"
    }
   }
  },
  {
   "cell_type": "code",
   "execution_count": 5,
   "outputs": [
    {
     "ename": "TypeError",
     "evalue": "roi_coordinates & stimulation_diameter OR roi_mask must be specified",
     "output_type": "error",
     "traceback": [
      "\u001B[0;31m---------------------------------------------------------------------------\u001B[0m",
      "\u001B[0;31mTypeError\u001B[0m                                 Traceback (most recent call last)",
      "Cell \u001B[0;32mIn [5], line 1\u001B[0m\n\u001B[0;32m----> 1\u001B[0m stim \u001B[38;5;241m=\u001B[39m \u001B[43mPhotostimulationPattern\u001B[49m\u001B[43m(\u001B[49m\u001B[43mname\u001B[49m\u001B[38;5;241;43m=\u001B[39;49m\u001B[38;5;124;43m\"\u001B[39;49m\u001B[38;5;124;43mphotostim\u001B[39;49m\u001B[38;5;124;43m\"\u001B[39;49m\u001B[43m,\u001B[49m\u001B[43m \u001B[49m\u001B[43mdevice\u001B[49m\u001B[38;5;241;43m=\u001B[39;49m\u001B[43mdev\u001B[49m\u001B[43m,\u001B[49m\u001B[43m \u001B[49m\u001B[43mpeak_pulse_power\u001B[49m\u001B[38;5;241;43m=\u001B[39;49m\u001B[38;5;241;43m10\u001B[39;49m\u001B[43m,\u001B[49m\u001B[43m \u001B[49m\u001B[43mopsin\u001B[49m\u001B[38;5;241;43m=\u001B[39;49m\u001B[38;5;124;43m'\u001B[39;49m\u001B[38;5;124;43mtest\u001B[39;49m\u001B[38;5;124;43m'\u001B[39;49m\u001B[43m)\u001B[49m\n",
      "File \u001B[0;32m~/opt/anaconda3/envs/NWB/lib/python3.10/site-packages/hdmf/utils.py:645\u001B[0m, in \u001B[0;36mdocval.<locals>.dec.<locals>.func_call\u001B[0;34m(*args, **kwargs)\u001B[0m\n\u001B[1;32m    643\u001B[0m \u001B[38;5;28;01mdef\u001B[39;00m \u001B[38;5;21mfunc_call\u001B[39m(\u001B[38;5;241m*\u001B[39margs, \u001B[38;5;241m*\u001B[39m\u001B[38;5;241m*\u001B[39mkwargs):\n\u001B[1;32m    644\u001B[0m     pargs \u001B[38;5;241m=\u001B[39m _check_args(args, kwargs)\n\u001B[0;32m--> 645\u001B[0m     \u001B[38;5;28;01mreturn\u001B[39;00m \u001B[43mfunc\u001B[49m\u001B[43m(\u001B[49m\u001B[43margs\u001B[49m\u001B[43m[\u001B[49m\u001B[38;5;241;43m0\u001B[39;49m\u001B[43m]\u001B[49m\u001B[43m,\u001B[49m\u001B[43m \u001B[49m\u001B[38;5;241;43m*\u001B[39;49m\u001B[38;5;241;43m*\u001B[39;49m\u001B[43mpargs\u001B[49m\u001B[43m)\u001B[49m\n",
      "Cell \u001B[0;32mIn [2], line 80\u001B[0m, in \u001B[0;36mPhotostimulationPattern.__init__\u001B[0;34m(self, **kwargs)\u001B[0m\n\u001B[1;32m     77\u001B[0m     \u001B[38;5;28msetattr\u001B[39m(\u001B[38;5;28mself\u001B[39m, key, val)\n\u001B[1;32m     79\u001B[0m \u001B[38;5;28;01mif\u001B[39;00m (\u001B[38;5;28mself\u001B[39m\u001B[38;5;241m.\u001B[39mroi_coordinates \u001B[38;5;129;01mis\u001B[39;00m \u001B[38;5;28;01mNone\u001B[39;00m \u001B[38;5;129;01mand\u001B[39;00m \u001B[38;5;28mself\u001B[39m\u001B[38;5;241m.\u001B[39mstimulation_diameter \u001B[38;5;129;01mis\u001B[39;00m \u001B[38;5;28;01mNone\u001B[39;00m) \u001B[38;5;129;01mand\u001B[39;00m (\u001B[38;5;28mself\u001B[39m\u001B[38;5;241m.\u001B[39mroi_mask \u001B[38;5;129;01mis\u001B[39;00m \u001B[38;5;28;01mNone\u001B[39;00m):\n\u001B[0;32m---> 80\u001B[0m     \u001B[38;5;28;01mraise\u001B[39;00m \u001B[38;5;167;01mTypeError\u001B[39;00m(\u001B[38;5;124m\"\u001B[39m\u001B[38;5;124mroi_coordinates & stimulation_diameter OR roi_mask must be specified\u001B[39m\u001B[38;5;124m\"\u001B[39m)\n",
      "\u001B[0;31mTypeError\u001B[0m: roi_coordinates & stimulation_diameter OR roi_mask must be specified"
     ]
    }
   ],
   "source": [
    "stim = PhotostimulationPattern(name=\"photostim\", device=dev, peak_pulse_power=10, opsin='test')"
   ],
   "metadata": {
    "collapsed": false,
    "pycharm": {
     "name": "#%%\n"
    }
   }
  },
  {
   "cell_type": "code",
   "execution_count": null,
   "outputs": [],
   "source": [
    "image_mask = np.zeros((100, 100))\n",
    "\n",
    "# randomly generate example image masks\n",
    "x = np.random.randint(0, 95)\n",
    "y = np.random.randint(0, 95)\n",
    "image_mask[x:x + 5, y:y + 5] = 1\n",
    "\n",
    "stim = PhotostimulationPattern(name=\"photostim\", device=dev, roi_mask=image_mask, peak_pulse_power=10, opsin='test')"
   ],
   "metadata": {
    "collapsed": false,
    "pycharm": {
     "name": "#%%\n"
    }
   }
  },
  {
   "cell_type": "code",
   "execution_count": null,
   "outputs": [],
   "source": [
    "print(nwbfile.stimulus)\n",
    "print(nwbfile.units)\n",
    "print(nwbfile.stimulus['photosim series'].timestamps)"
   ],
   "metadata": {
    "collapsed": false,
    "pycharm": {
     "name": "#%%\n"
    }
   }
  },
  {
   "cell_type": "code",
   "execution_count": 9,
   "outputs": [
    {
     "name": "stdout",
     "output_type": "stream",
     "text": [
      "Enabling notebook extension jupyter-js-widgets/extension...\r\n",
      "      - Validating: \u001B[32mOK\u001B[0m\r\n"
     ]
    },
    {
     "data": {
      "text/plain": "VBox(children=(HBox(children=(Label(value='session_description:', layout=Layout(max_height='40px', max_width='…",
      "application/vnd.jupyter.widget-view+json": {
       "version_major": 2,
       "version_minor": 0,
       "model_id": "a87492dfe7a24b44a8ea32eab2113c51"
      }
     },
     "execution_count": 9,
     "metadata": {},
     "output_type": "execute_result"
    }
   ],
   "source": [
    "!jupyter nbextension enable --py widgetsnbextension\n",
    "%matplotlib widget\n",
    "from nwbwidgets import nwb2widget\n",
    "nwb2widget(nwbfile)"
   ],
   "metadata": {
    "collapsed": false,
    "pycharm": {
     "name": "#%%\n"
    }
   }
  },
  {
   "cell_type": "code",
   "execution_count": null,
   "outputs": [],
   "source": [],
   "metadata": {
    "collapsed": false,
    "pycharm": {
     "name": "#%%\n"
    }
   }
  }
 ],
 "metadata": {
  "kernelspec": {
   "display_name": "Python 3",
   "language": "python",
   "name": "python3"
  },
  "language_info": {
   "codemirror_mode": {
    "name": "ipython",
    "version": 2
   },
   "file_extension": ".py",
   "mimetype": "text/x-python",
   "name": "python",
   "nbconvert_exporter": "python",
   "pygments_lexer": "ipython2",
   "version": "2.7.6"
  }
 },
 "nbformat": 4,
 "nbformat_minor": 0
}