{
 "cells": [
  {
   "cell_type": "code",
   "execution_count": 1,
   "metadata": {
    "collapsed": true
   },
   "outputs": [],
   "source": [
    "from pynwb.spec import NWBNamespaceBuilder, NWBGroupSpec, NWBAttributeSpec\n",
    "\n",
    "ns_path = \"test.namespace.yaml\"\n",
    "ext_source = \"test.extensions.yaml\"\n",
    "\n",
    "ns_builder = NWBNamespaceBuilder('Test extension', \"test\", version='0.1.0')\n",
    "\n",
    "ns_builder.include_type('NWBContainer', namespace='core')\n",
    "\n",
    "ext = NWBGroupSpec(\n",
    "        neurodata_type_def='SpatialLightModulator',\n",
    "        neurodata_type_inc='NWBContainer',\n",
    "        doc=('slm'),\n",
    "        attributes=[\n",
    "            NWBAttributeSpec(\n",
    "                # name='size',\n",
    "                doc='vertices for surface, points in 3D space',\n",
    "                shape=(2, ),\n",
    "                name='size', dtype='float'\n",
    "            )\n",
    "        ])\n",
    "\n",
    "ns_builder.add_spec(ext_source, ext)\n",
    "\n",
    "from pynwb.spec import NWBDatasetSpec, NWBDtypeSpec, RefSpec\n",
    "\n",
    "ext = NWBGroupSpec(\n",
    "        neurodata_type_def='PhotostimulationDevice',\n",
    "        neurodata_type_inc='NWBContainer',\n",
    "        doc=('photostimDevice'),\n",
    "        attributes=[\n",
    "            NWBAttributeSpec(\n",
    "                # name='size',\n",
    "                name='slm',\n",
    "                doc='slm',\n",
    "                dtype=RefSpec('GroupSpec', 'object')\n",
    "            )\n",
    "        ])\n",
    "\n",
    "ns_builder.add_spec(ext_source, ext)\n",
    "ns_builder.export(ns_path)\n"
   ]
  },
  {
   "cell_type": "code",
   "execution_count": 2,
   "outputs": [],
   "source": [
    "from pynwb import register_class, load_namespaces\n",
    "from pynwb.ecephys import ElectricalSeries\n",
    "from hdmf.utils import docval, get_docval, popargs\n",
    "from pynwb.core import NWBContainer\n",
    "from collections.abc import Iterable\n",
    "\n",
    "\n",
    "ns_path = \"test.namespace.yaml\"\n",
    "load_namespaces(ns_path)\n",
    "\n",
    "\n",
    "@register_class('SpatialLightModulator', 'test')\n",
    "class SpatialLightModulator(NWBContainer):\n",
    "\n",
    "    __nwbfields__ = ('size',)\n",
    "\n",
    "    @docval(*get_docval(NWBContainer.__init__) + (\n",
    "        {'name': 'size', 'type': Iterable, 'doc': 'the tetrode id'},))\n",
    "    def __init__(self, **kwargs):\n",
    "        size = popargs('size', kwargs)\n",
    "        super().__init__(**kwargs)\n",
    "        self.size = size\n",
    "\n",
    "@register_class('PhotostimulationDevice', 'test')\n",
    "class PhotostimulationDevice(NWBContainer):\n",
    "\n",
    "    __nwbfields__ = ('slm',)\n",
    "\n",
    "    @docval(*get_docval(NWBContainer.__init__) + (\n",
    "        {'name': 'slm', 'type': SpatialLightModulator, 'doc': 'the tetrode id'},))\n",
    "    def __init__(self, **kwargs):\n",
    "        slm = popargs('slm', kwargs)\n",
    "        super().__init__(**kwargs)\n",
    "        self.slm = slm"
   ],
   "metadata": {
    "collapsed": false,
    "pycharm": {
     "name": "#%%\n"
    }
   }
  },
  {
   "cell_type": "code",
   "execution_count": 4,
   "outputs": [
    {
     "name": "stdout",
     "output_type": "stream",
     "text": [
      "device __main__.PhotostimulationDevice at 0x140717368021248\n",
      "Fields:\n",
      "  slm: OpticalChannel __main__.SpatialLightModulator at 0x140716819804272\n",
      "Fields:\n",
      "  size: [1 2]\n",
      "\n",
      "\n",
      "root pynwb.file.NWBFile at 0x140716819716896\n",
      "Fields:\n",
      "  file_create_date: [datetime.datetime(2022, 9, 20, 12, 48, 9, 906028, tzinfo=tzlocal())]\n",
      "  identifier: EXAMPLE_ID\n",
      "  session_description: my first synthetic recording\n",
      "  session_start_time: 2022-09-20 12:48:09.905726-04:00\n",
      "  timestamps_reference_time: 2022-09-20 12:48:09.905726-04:00\n",
      "\n"
     ]
    },
    {
     "ename": "TypeError",
     "evalue": "MultiContainerInterface.__make_add.<locals>._func: incorrect type for 'devices' (got 'SpatialLightModulator', expected 'list, tuple, dict or Device')",
     "output_type": "error",
     "traceback": [
      "\u001B[0;31m---------------------------------------------------------------------------\u001B[0m",
      "\u001B[0;31mTypeError\u001B[0m                                 Traceback (most recent call last)",
      "Input \u001B[0;32mIn [4]\u001B[0m, in \u001B[0;36m<cell line: 33>\u001B[0;34m()\u001B[0m\n\u001B[1;32m     29\u001B[0m \u001B[38;5;28mprint\u001B[39m(dev)\n\u001B[1;32m     31\u001B[0m \u001B[38;5;28mprint\u001B[39m(nwbfile)\n\u001B[0;32m---> 33\u001B[0m \u001B[43mnwbfile\u001B[49m\u001B[38;5;241;43m.\u001B[39;49m\u001B[43madd_device\u001B[49m\u001B[43m(\u001B[49m\u001B[43mslm\u001B[49m\u001B[43m)\u001B[49m\n\u001B[1;32m     35\u001B[0m \u001B[38;5;28mprint\u001B[39m(nwbfile)\n",
      "File \u001B[0;32m~/opt/anaconda3/envs/NWB/lib/python3.8/site-packages/hdmf/utils.py:644\u001B[0m, in \u001B[0;36mdocval.<locals>.dec.<locals>.func_call\u001B[0;34m(*args, **kwargs)\u001B[0m\n\u001B[1;32m    643\u001B[0m \u001B[38;5;28;01mdef\u001B[39;00m \u001B[38;5;21mfunc_call\u001B[39m(\u001B[38;5;241m*\u001B[39margs, \u001B[38;5;241m*\u001B[39m\u001B[38;5;241m*\u001B[39mkwargs):\n\u001B[0;32m--> 644\u001B[0m     pargs \u001B[38;5;241m=\u001B[39m \u001B[43m_check_args\u001B[49m\u001B[43m(\u001B[49m\u001B[43margs\u001B[49m\u001B[43m,\u001B[49m\u001B[43m \u001B[49m\u001B[43mkwargs\u001B[49m\u001B[43m)\u001B[49m\n\u001B[1;32m    645\u001B[0m     \u001B[38;5;28;01mreturn\u001B[39;00m func(args[\u001B[38;5;241m0\u001B[39m], \u001B[38;5;241m*\u001B[39m\u001B[38;5;241m*\u001B[39mpargs)\n",
      "File \u001B[0;32m~/opt/anaconda3/envs/NWB/lib/python3.8/site-packages/hdmf/utils.py:637\u001B[0m, in \u001B[0;36mdocval.<locals>.dec.<locals>._check_args\u001B[0;34m(args, kwargs)\u001B[0m\n\u001B[1;32m    635\u001B[0m     \u001B[38;5;28;01mif\u001B[39;00m parse_err:\n\u001B[1;32m    636\u001B[0m         msg \u001B[38;5;241m=\u001B[39m \u001B[38;5;124m'\u001B[39m\u001B[38;5;132;01m%s\u001B[39;00m\u001B[38;5;124m: \u001B[39m\u001B[38;5;132;01m%s\u001B[39;00m\u001B[38;5;124m'\u001B[39m \u001B[38;5;241m%\u001B[39m (func\u001B[38;5;241m.\u001B[39m\u001B[38;5;18m__qualname__\u001B[39m, \u001B[38;5;124m'\u001B[39m\u001B[38;5;124m, \u001B[39m\u001B[38;5;124m'\u001B[39m\u001B[38;5;241m.\u001B[39mjoin(parse_err))\n\u001B[0;32m--> 637\u001B[0m         \u001B[38;5;28;01mraise\u001B[39;00m ExceptionType(msg)\n\u001B[1;32m    639\u001B[0m \u001B[38;5;28;01mreturn\u001B[39;00m parsed[\u001B[38;5;124m'\u001B[39m\u001B[38;5;124margs\u001B[39m\u001B[38;5;124m'\u001B[39m]\n",
      "\u001B[0;31mTypeError\u001B[0m: MultiContainerInterface.__make_add.<locals>._func: incorrect type for 'devices' (got 'SpatialLightModulator', expected 'list, tuple, dict or Device')"
     ]
    }
   ],
   "source": [
    "\n",
    "from datetime import datetime\n",
    "from dateutil.tz import tzlocal\n",
    "\n",
    "import numpy as np\n",
    "from pynwb import NWBFile, TimeSeries, NWBHDF5IO\n",
    "from pynwb.image import ImageSeries\n",
    "from pynwb.ophys import TwoPhotonSeries, OpticalChannel, ImageSegmentation, \\\n",
    "    Fluorescence, CorrectedImageStack, MotionCorrection, RoiResponseSeries\n",
    "\n",
    "import matplotlib.pyplot as plt\n",
    "\n",
    "import importlib\n",
    "import ndx_photostim\n",
    "importlib.reload(ndx_photostim)\n",
    "\n",
    "nwbfile = NWBFile(\n",
    "    'my first synthetic recording',\n",
    "    'EXAMPLE_ID',\n",
    "    datetime.now(tzlocal()),\n",
    ")\n",
    "\n",
    "import numpy as np\n",
    "slm = SpatialLightModulator(\n",
    "    name=\"OpticalChannel\",\n",
    "    size = [1, 2],#[32, 10],\n",
    ")\n",
    "\n",
    "dev = PhotostimulationDevice(name=\"device\", slm=slm)\n",
    "print(dev)\n",
    "\n",
    "print(nwbfile)\n",
    "\n",
    "nwbfile.add_device(slm)\n",
    "\n",
    "print(nwbfile)"
   ],
   "metadata": {
    "collapsed": false,
    "pycharm": {
     "name": "#%%\n"
    }
   }
  },
  {
   "cell_type": "code",
   "execution_count": null,
   "outputs": [],
   "source": [],
   "metadata": {
    "collapsed": false,
    "pycharm": {
     "name": "#%%\n"
    }
   }
  }
 ],
 "metadata": {
  "kernelspec": {
   "display_name": "Python 3",
   "language": "python",
   "name": "python3"
  },
  "language_info": {
   "codemirror_mode": {
    "name": "ipython",
    "version": 2
   },
   "file_extension": ".py",
   "mimetype": "text/x-python",
   "name": "python",
   "nbconvert_exporter": "python",
   "pygments_lexer": "ipython2",
   "version": "2.7.6"
  }
 },
 "nbformat": 4,
 "nbformat_minor": 0
}