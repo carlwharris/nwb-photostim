{
 "cells": [
  {
   "cell_type": "code",
   "execution_count": 15,
   "metadata": {
    "collapsed": true
   },
   "outputs": [],
   "source": [
    "from pynwb.spec import NWBNamespaceBuilder, NWBGroupSpec, NWBAttributeSpec\n",
    "\n",
    "ns_path = \"test.namespace.yaml\"\n",
    "ext_source = \"test.extensions.yaml\"\n",
    "\n",
    "ns_builder = NWBNamespaceBuilder('Test extension', \"test\", version='0.1.0')\n",
    "\n",
    "ns_builder.include_type('NWBContainer', namespace='core')\n",
    "ns_builder.include_type('Device', namespace='core')\n",
    "ns_builder.include_type('NWBDataInterface', namespace='core')\n",
    "\n",
    "slm = NWBGroupSpec(\n",
    "        neurodata_type_def='SpatialLightModulator',\n",
    "        neurodata_type_inc='NWBContainer',\n",
    "        doc=('Spatial light modulator used in holographic photostimulation'),\n",
    "        attributes=[\n",
    "            NWBAttributeSpec('dimensions', 'dimensions ([w, h] or [w, h, d]) of SLM field', 'numeric', shape=((2, ), (3,)),\n",
    "            )\n",
    "        ])\n",
    "\n",
    "ns_builder.add_spec(ext_source, slm)\n",
    "\n",
    "from pynwb.spec import NWBDatasetSpec, NWBDtypeSpec, RefSpec\n",
    "\n",
    "photostim_device = NWBGroupSpec(\n",
    "        neurodata_type_def='PhotostimulationDevice',\n",
    "        neurodata_type_inc='Device',\n",
    "        doc=('photostimDevice'),\n",
    "        attributes=[\n",
    "            NWBAttributeSpec('type', 'type of stimulation (laser or LED)', 'text'),\n",
    "            NWBAttributeSpec('wavelength', 'wavelength of photostimulation', 'numeric'),\n",
    "            NWBAttributeSpec('slm', 'spatial light modulator device', RefSpec('GroupSpec', 'object'))\n",
    "        ])\n",
    "\n",
    "ns_builder.add_spec(ext_source, photostim_device)\n",
    "\n",
    "photostim = NWBGroupSpec(\n",
    "        neurodata_type_def='Photostimulation',\n",
    "        neurodata_type_inc='NWBDataInterface',\n",
    "        doc=('photostimulation container'),\n",
    "        attributes=[\n",
    "            NWBAttributeSpec('device', 'photostimulation device', RefSpec('GroupSpec', 'object')),\n",
    "            NWBAttributeSpec('roi_coordinates', '[n,2] or [n,3] list of coordinates', 'numeric', shape=((None, 2), (None, 3))),\n",
    "            NWBAttributeSpec('stimulation_diameter', 'diameter of stimulation (pixels)', 'numeric'),\n",
    "            NWBAttributeSpec('roi_mask', 'mask of region of interest', 'numeric'),\n",
    "            NWBAttributeSpec('opsin', 'opsin used', 'text'),\n",
    "            NWBAttributeSpec('peak_pulse_power', 'peak pulse power (J)', 'numeric')\n",
    "        ])\n",
    "\n",
    "ns_builder.add_spec(ext_source, photostim)\n",
    "\n",
    "ns_builder.export(ns_path)\n",
    "\n",
    "\n"
   ]
  },
  {
   "cell_type": "code",
   "execution_count": 24,
   "outputs": [],
   "source": [
    "from pynwb import register_class, load_namespaces\n",
    "from pynwb.core import NWBContainer, NWBDataInterface\n",
    "from collections.abc import Iterable\n",
    "from pynwb.device import  Device\n",
    "from hdmf.utils import docval, popargs, get_docval, get_data_shape, popargs_to_dict\n",
    "\n",
    "ns_path = \"test.namespace.yaml\"\n",
    "load_namespaces(ns_path)\n",
    "\n",
    "\n",
    "@register_class('SpatialLightModulator', 'test')\n",
    "class SpatialLightModulator(NWBContainer):\n",
    "\n",
    "    __nwbfields__ = ('dimensions',)\n",
    "\n",
    "    @docval(\n",
    "        {'name': 'name', 'type': str, 'doc': 'name of spatial light modulator'},\n",
    "        {'name': 'dimensions', 'type': Iterable, 'doc': 'dimensions ([w, h] or [w, h, d]) of SLM field'}\n",
    "    )\n",
    "    def __init__(self, **kwargs):\n",
    "        dimensions = popargs('dimensions', kwargs)\n",
    "        super().__init__(**kwargs)\n",
    "        self.dimensions = dimensions\n",
    "\n",
    "@register_class('PhotostimulationDevice', 'test')\n",
    "class PhotostimulationDevice(Device):\n",
    "\n",
    "    __nwbfields__ = ('type', 'wavelength', 'slm')\n",
    "\n",
    "    @docval(*get_docval(Device.__init__) + (\n",
    "        {'name': 'type', 'type': str, 'doc': 'type of stimulation (laser or LED)', 'default': None},\n",
    "        {'name': 'wavelength', 'type': float, 'doc': 'wavelength of photostimulation', 'default': None},\n",
    "        {'name': 'slm', 'type': SpatialLightModulator, 'doc': 'spatial light modulator', 'default': None},\n",
    "        ))\n",
    "    def __init__(self, **kwargs):\n",
    "        keys_to_set = (\"type\",\n",
    "                       \"wavelength\",\n",
    "                       \"slm\")\n",
    "        args_to_set = popargs_to_dict(keys_to_set, kwargs)\n",
    "        super().__init__(**kwargs)\n",
    "\n",
    "        for key, val in args_to_set.items():\n",
    "            setattr(self, key, val)\n",
    "\n",
    "\n",
    "@register_class('Photostimulation', 'test')\n",
    "class Photostimulation(NWBDataInterface):\n",
    "\n",
    "    # __nwbfields__ = ('device', 'roi_coordinates', 'stimulation_diameter')\n",
    "\n",
    "    @docval(*get_docval(NWBDataInterface.__init__) + (\n",
    "        {'name': 'device', 'type': PhotostimulationDevice, 'doc': 'photostimulation device'},\n",
    "        {'name': 'roi_coordinates', 'type': Iterable, 'doc': '[n,2] or [n,3] list of coordinates', 'default': None},\n",
    "        {'name': 'stimulation_diameter', 'type': (int, float), 'doc': 'diameter of stimulation (pixels)', 'default': None},\n",
    "        {'name': 'roi_mask', 'type': 'array_data', 'doc': 'pixel mask for ROI', 'default': None},\n",
    "        {'name': 'opsin', 'type': str, 'doc': 'opsin used', 'default': None},\n",
    "        {'name': 'peak_pulse_power', 'type': (int, float), 'doc': 'peak pulse power (J)', 'default': None}\n",
    "        ))\n",
    "    def __init__(self, **kwargs):\n",
    "        keys_to_set = (\"device\", \"roi_coordinates\",\n",
    "                       \"stimulation_diameter\", \"roi_mask\", \"opsin\", \"peak_pulse_power\")\n",
    "        args_to_set = popargs_to_dict(keys_to_set, kwargs)\n",
    "        super().__init__(**kwargs)\n",
    "\n",
    "        for key, val in args_to_set.items():\n",
    "            setattr(self, key, val)\n",
    "\n",
    "        if (self.roi_coordinates is None and self.stimulation_diameter is None) and (self.roi_mask is None):\n",
    "            raise TypeError(\"roi_coordinates & stimulation_diameter OR roi_mask must be specified\")\n",
    "\n",
    "\n"
   ],
   "metadata": {
    "collapsed": false,
    "pycharm": {
     "name": "#%%\n"
    }
   }
  },
  {
   "cell_type": "code",
   "execution_count": 28,
   "outputs": [
    {
     "name": "stdout",
     "output_type": "stream",
     "text": [
      "device __main__.PhotostimulationDevice at 0x140526109246464\n",
      "Fields:\n",
      "  description: photostim_device\n",
      "  slm: OpticalChannel __main__.SpatialLightModulator at 0x140524225511232\n",
      "Fields:\n",
      "  dimensions: [1 2 3]\n",
      "\n",
      "  type: LED\n",
      "  wavelength: 320.0\n",
      "\n",
      "root pynwb.file.NWBFile at 0x140526379403776\n",
      "Fields:\n",
      "  file_create_date: [datetime.datetime(2022, 9, 28, 15, 11, 8, 242197, tzinfo=tzlocal())]\n",
      "  identifier: EXAMPLE_ID\n",
      "  session_description: my first synthetic recording\n",
      "  session_start_time: 2022-09-28 15:11:08.241854-04:00\n",
      "  timestamps_reference_time: 2022-09-28 15:11:08.241854-04:00\n",
      "\n",
      "root pynwb.file.NWBFile at 0x140526379403776\n",
      "Fields:\n",
      "  acquisition: {\n",
      "    photostim <class '__main__.Photostimulation'>\n",
      "  }\n",
      "  devices: {\n",
      "    device <class '__main__.PhotostimulationDevice'>\n",
      "  }\n",
      "  file_create_date: [datetime.datetime(2022, 9, 28, 15, 11, 8, 242197, tzinfo=tzlocal())]\n",
      "  identifier: EXAMPLE_ID\n",
      "  session_description: my first synthetic recording\n",
      "  session_start_time: 2022-09-28 15:11:08.241854-04:00\n",
      "  timestamps_reference_time: 2022-09-28 15:11:08.241854-04:00\n",
      "\n"
     ]
    }
   ],
   "source": [
    "\n",
    "from datetime import datetime\n",
    "from dateutil.tz import tzlocal\n",
    "\n",
    "import numpy as np\n",
    "from pynwb import NWBFile, TimeSeries, NWBHDF5IO\n",
    "from pynwb.image import ImageSeries\n",
    "from pynwb.ophys import TwoPhotonSeries, OpticalChannel, ImageSegmentation, \\\n",
    "    Fluorescence, CorrectedImageStack, MotionCorrection, RoiResponseSeries\n",
    "\n",
    "import matplotlib.pyplot as plt\n",
    "\n",
    "import importlib\n",
    "import ndx_photostim\n",
    "importlib.reload(ndx_photostim)\n",
    "\n",
    "nwbfile = NWBFile(\n",
    "    'my first synthetic recording',\n",
    "    'EXAMPLE_ID',\n",
    "    datetime.now(tzlocal()),\n",
    ")\n",
    "\n",
    "import numpy as np\n",
    "slm = SpatialLightModulator(\n",
    "    name=\"OpticalChannel\",\n",
    "    dimensions = [1, 2, 3],#[32, 10],\n",
    ")\n",
    "\n",
    "dev = PhotostimulationDevice(name=\"device\", description=\"photostim_device\", type='LED', wavelength=320., slm=slm)\n",
    "print(dev)\n",
    "\n",
    "print(nwbfile)\n",
    "\n",
    "nwbfile.add_device(dev)\n",
    "\n",
    "stim = Photostimulation(name=\"photostim\", device=dev, roi_coordinates=[[1, 2], [3, 4]], stimulation_diameter=5)\n",
    "\n",
    "nwbfile.add_acquisition(stim)\n",
    "\n",
    "print(nwbfile)"
   ],
   "metadata": {
    "collapsed": false,
    "pycharm": {
     "name": "#%%\n"
    }
   }
  },
  {
   "cell_type": "code",
   "execution_count": 26,
   "outputs": [
    {
     "ename": "TypeError",
     "evalue": "roi_coordinates & stimulation_diameter OR roi_mask must be specified",
     "output_type": "error",
     "traceback": [
      "\u001B[0;31m---------------------------------------------------------------------------\u001B[0m",
      "\u001B[0;31mTypeError\u001B[0m                                 Traceback (most recent call last)",
      "Input \u001B[0;32mIn [26]\u001B[0m, in \u001B[0;36m<cell line: 1>\u001B[0;34m()\u001B[0m\n\u001B[0;32m----> 1\u001B[0m stim \u001B[38;5;241m=\u001B[39m \u001B[43mPhotostimulation\u001B[49m\u001B[43m(\u001B[49m\u001B[43mname\u001B[49m\u001B[38;5;241;43m=\u001B[39;49m\u001B[38;5;124;43m\"\u001B[39;49m\u001B[38;5;124;43mphotostim\u001B[39;49m\u001B[38;5;124;43m\"\u001B[39;49m\u001B[43m,\u001B[49m\u001B[43m \u001B[49m\u001B[43mdevice\u001B[49m\u001B[38;5;241;43m=\u001B[39;49m\u001B[43mdev\u001B[49m\u001B[43m,\u001B[49m\u001B[43m \u001B[49m\u001B[43mpeak_pulse_power\u001B[49m\u001B[38;5;241;43m=\u001B[39;49m\u001B[38;5;241;43m10\u001B[39;49m\u001B[43m,\u001B[49m\u001B[43m \u001B[49m\u001B[43mopsin\u001B[49m\u001B[38;5;241;43m=\u001B[39;49m\u001B[38;5;124;43m'\u001B[39;49m\u001B[38;5;124;43mtest\u001B[39;49m\u001B[38;5;124;43m'\u001B[39;49m\u001B[43m)\u001B[49m\n",
      "File \u001B[0;32m~/opt/anaconda3/envs/NWB/lib/python3.8/site-packages/hdmf/utils.py:645\u001B[0m, in \u001B[0;36mdocval.<locals>.dec.<locals>.func_call\u001B[0;34m(*args, **kwargs)\u001B[0m\n\u001B[1;32m    643\u001B[0m \u001B[38;5;28;01mdef\u001B[39;00m \u001B[38;5;21mfunc_call\u001B[39m(\u001B[38;5;241m*\u001B[39margs, \u001B[38;5;241m*\u001B[39m\u001B[38;5;241m*\u001B[39mkwargs):\n\u001B[1;32m    644\u001B[0m     pargs \u001B[38;5;241m=\u001B[39m _check_args(args, kwargs)\n\u001B[0;32m--> 645\u001B[0m     \u001B[38;5;28;01mreturn\u001B[39;00m \u001B[43mfunc\u001B[49m\u001B[43m(\u001B[49m\u001B[43margs\u001B[49m\u001B[43m[\u001B[49m\u001B[38;5;241;43m0\u001B[39;49m\u001B[43m]\u001B[49m\u001B[43m,\u001B[49m\u001B[43m \u001B[49m\u001B[38;5;241;43m*\u001B[39;49m\u001B[38;5;241;43m*\u001B[39;49m\u001B[43mpargs\u001B[49m\u001B[43m)\u001B[49m\n",
      "Input \u001B[0;32mIn [24]\u001B[0m, in \u001B[0;36mPhotostimulation.__init__\u001B[0;34m(self, **kwargs)\u001B[0m\n\u001B[1;32m     66\u001B[0m     \u001B[38;5;28msetattr\u001B[39m(\u001B[38;5;28mself\u001B[39m, key, val)\n\u001B[1;32m     68\u001B[0m \u001B[38;5;28;01mif\u001B[39;00m (\u001B[38;5;28mself\u001B[39m\u001B[38;5;241m.\u001B[39mroi_coordinates \u001B[38;5;129;01mis\u001B[39;00m \u001B[38;5;28;01mNone\u001B[39;00m \u001B[38;5;129;01mand\u001B[39;00m \u001B[38;5;28mself\u001B[39m\u001B[38;5;241m.\u001B[39mstimulation_diameter \u001B[38;5;129;01mis\u001B[39;00m \u001B[38;5;28;01mNone\u001B[39;00m) \u001B[38;5;129;01mand\u001B[39;00m (\u001B[38;5;28mself\u001B[39m\u001B[38;5;241m.\u001B[39mroi_mask \u001B[38;5;129;01mis\u001B[39;00m \u001B[38;5;28;01mNone\u001B[39;00m):\n\u001B[0;32m---> 69\u001B[0m     \u001B[38;5;28;01mraise\u001B[39;00m \u001B[38;5;167;01mTypeError\u001B[39;00m(\u001B[38;5;124m\"\u001B[39m\u001B[38;5;124mroi_coordinates & stimulation_diameter OR roi_mask must be specified\u001B[39m\u001B[38;5;124m\"\u001B[39m)\n",
      "\u001B[0;31mTypeError\u001B[0m: roi_coordinates & stimulation_diameter OR roi_mask must be specified"
     ]
    }
   ],
   "source": [
    "stim = Photostimulation(name=\"photostim\", device=dev, peak_pulse_power=10, opsin='test')"
   ],
   "metadata": {
    "collapsed": false,
    "pycharm": {
     "name": "#%%\n"
    }
   }
  },
  {
   "cell_type": "code",
   "execution_count": 27,
   "outputs": [],
   "source": [
    "image_mask = np.zeros((100, 100))\n",
    "\n",
    "# randomly generate example image masks\n",
    "x = np.random.randint(0, 95)\n",
    "y = np.random.randint(0, 95)\n",
    "image_mask[x:x + 5, y:y + 5] = 1\n",
    "\n",
    "stim = Photostimulation(name=\"photostim\", device=dev, roi_mask=image_mask, peak_pulse_power=10, opsin='test')"
   ],
   "metadata": {
    "collapsed": false,
    "pycharm": {
     "name": "#%%\n"
    }
   }
  },
  {
   "cell_type": "code",
   "execution_count": null,
   "outputs": [],
   "source": [],
   "metadata": {
    "collapsed": false,
    "pycharm": {
     "name": "#%%\n"
    }
   }
  }
 ],
 "metadata": {
  "kernelspec": {
   "display_name": "Python 3",
   "language": "python",
   "name": "python3"
  },
  "language_info": {
   "codemirror_mode": {
    "name": "ipython",
    "version": 2
   },
   "file_extension": ".py",
   "mimetype": "text/x-python",
   "name": "python",
   "nbconvert_exporter": "python",
   "pygments_lexer": "ipython2",
   "version": "2.7.6"
  }
 },
 "nbformat": 4,
 "nbformat_minor": 0
}