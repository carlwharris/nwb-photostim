{
 "cells": [
  {
   "cell_type": "code",
   "metadata": {
    "collapsed": true,
    "pycharm": {
     "name": "#%%\n"
    }
   },
   "source": [
    "%load_ext autoreload\n",
    "%autoreload 2"
   ],
   "execution_count": 1,
   "outputs": []
  },
  {
   "cell_type": "code",
   "execution_count": 1,
   "outputs": [],
   "source": [
    "import file_classes\n",
    "from file_classes import SpatialLightModulator, PhotostimulationDevice, ImagingPlane, HolographicPattern, PhotostimulationSeries"
   ],
   "metadata": {
    "collapsed": false,
    "pycharm": {
     "name": "#%%\n"
    }
   }
  },
  {
   "cell_type": "code",
   "execution_count": 2,
   "outputs": [],
   "source": [
    "from datetime import datetime\n",
    "from dateutil.tz import tzlocal\n",
    "\n",
    "from pynwb import NWBFile\n",
    "\n",
    "nwbfile = NWBFile(\n",
    "    'my first synthetic recording',\n",
    "    'EXAMPLE_ID',\n",
    "    datetime.now(tzlocal()),\n",
    ")\n",
    "\n",
    "import numpy as np\n",
    "slm = SpatialLightModulator(\n",
    "    name=\"slm\",\n",
    "    dimensions = [1, 2]\n",
    ")\n",
    "\n",
    "dev = PhotostimulationDevice(name=\"device\", description=\"photostim_device\", type='LED', wavelength=320, slm=slm)"
   ],
   "metadata": {
    "collapsed": false,
    "pycharm": {
     "name": "#%%\n"
    }
   }
  },
  {
   "cell_type": "code",
   "execution_count": 3,
   "outputs": [],
   "source": [
    "from datetime import datetime\n",
    "from dateutil.tz import tzlocal\n",
    "\n",
    "from pynwb import NWBFile\n",
    "\n",
    "nwbfile = NWBFile(\n",
    "    'my first synthetic recording',\n",
    "    'EXAMPLE_ID',\n",
    "    datetime.now(tzlocal()),\n",
    ")\n",
    "\n",
    "import numpy as np\n",
    "slm = SpatialLightModulator(\n",
    "    name=\"slm\",\n",
    "    dimensions = [1, 2, 3],#[32, 10],\n",
    ")\n",
    "\n",
    "dev = PhotostimulationDevice(name=\"device\", description=\"photostim_device\", type='LED', wavelength=320.)\n",
    "nwbfile.add_device(dev)\n",
    "\n",
    "dev = PhotostimulationDevice(name=\"device1\")\n",
    "nwbfile.add_device(dev)\n",
    "\n",
    "imaging_plane = ImagingPlane(name=\"imaging_plane\",  device=dev)"
   ],
   "metadata": {
    "collapsed": false,
    "pycharm": {
     "name": "#%%\n"
    }
   }
  },
  {
   "cell_type": "code",
   "execution_count": 15,
   "outputs": [],
   "source": [
    "# hp = HolographicPattern(name='HolographicPattern', description='HolographicPattern')\n",
    "import numpy as np\n",
    "\n",
    "image_mask = np.zeros((100, 100))\n",
    "\n",
    "# randomly generate example image masks\n",
    "x = np.random.randint(0, 95)\n",
    "y = np.random.randint(0, 95)\n",
    "image_mask[x:x + 5, y:y + 5] = 1\n",
    "hp = HolographicPattern(name='HolographicPattern',  mask_roi= image_mask)"
   ],
   "metadata": {
    "collapsed": false,
    "pycharm": {
     "name": "#%%\n"
    }
   }
  },
  {
   "cell_type": "code",
   "execution_count": 16,
   "outputs": [],
   "source": [
    "from file_classes import PhotostimulationSeries\n",
    "ser = PhotostimulationSeries(name=\"photosim series\", pattern=hp, unit='SIunit',  field_of_view=1, imaging_plane=imaging_plane)\n",
    "\n",
    "ser = PhotostimulationSeries(name=\"photosim series\", pattern=hp, unit='SIunit',  data=[1, 1, 1], timestamps=[0.5, 1, 2], imaging_plane=imaging_plane)\n",
    "\n",
    "ser.add_interval(10, 20)\n",
    "\n",
    "nwbfile.add_stimulus(ser)"
   ],
   "metadata": {
    "collapsed": false,
    "pycharm": {
     "name": "#%%\n"
    }
   }
  },
  {
   "cell_type": "code",
   "execution_count": 17,
   "outputs": [
    {
     "name": "stderr",
     "output_type": "stream",
     "text": [
      "/Users/harriscaw/PycharmProjects/nwb-photostim/file_classes.py:202: UserWarning: if 'format' is 'series', 'stimulus_duration' should be specified\n",
      "  warnings.warn(\"if 'format' is 'series', 'stimulus_duration' should be specified\")\n"
     ]
    }
   ],
   "source": [
    "from file_classes import PhotostimulationSeries\n",
    "ser = PhotostimulationSeries(name=\"photosim series\", pattern=hp, unit='SIunit',  field_of_view=1, format='series', data=[0, 1, 0], rate=10., imaging_plane=imaging_plane)"
   ],
   "metadata": {
    "collapsed": false,
    "pycharm": {
     "name": "#%%\n"
    }
   }
  },
  {
   "cell_type": "code",
   "execution_count": 12,
   "outputs": [],
   "source": [
    "x = np.random.randint(0, 95)\n",
    "y = np.random.randint(0, 95)\n",
    "\n",
    "pixel_roi = []\n",
    "for ix in range(x, x + 5):\n",
    "    for iy in range(y, y + 5):\n",
    "        pixel_roi.append((ix, iy, 1))\n",
    "\n",
    "hp2 = HolographicPattern(name='HolographicPattern', pixel_roi=pixel_roi, stimulation_diameter=5, dimension=[100, 100])\n",
    "ser = PhotostimulationSeries(name=\"photosim series2\", pattern=hp2, unit='SIunit',  imaging_plane=imaging_plane)\n",
    "# nwbfile.add_stimulus(ser)"
   ],
   "metadata": {
    "collapsed": false,
    "pycharm": {
     "name": "#%%\n"
    }
   }
  },
  {
   "cell_type": "code",
   "execution_count": 23,
   "outputs": [],
   "source": [
    "from pynwb import NWBHDF5IO\n",
    "\n",
    "f_name = 'holographic_photosim_example.nwb'\n",
    "io = NWBHDF5IO(f_name, mode='w')\n",
    "io.write(slm)\n",
    "io.close()"
   ],
   "metadata": {
    "collapsed": false,
    "pycharm": {
     "name": "#%%\n"
    }
   }
  },
  {
   "cell_type": "code",
   "execution_count": 3,
   "outputs": [],
   "source": [
    "from pynwb import NWBHDF5IO\n",
    "\n",
    "with NWBHDF5IO(\"basics_tutorial.nwb\", \"w\") as io:\n",
    "    io.write(dev)\n",
    "#"
   ],
   "metadata": {
    "collapsed": false,
    "pycharm": {
     "name": "#%%\n"
    }
   }
  },
  {
   "cell_type": "code",
   "execution_count": 4,
   "outputs": [],
   "source": [
    "with NWBHDF5IO(\"basics_tutorial.nwb\", \"r\", load_namespaces=True) as io:\n",
    "    read_nwbfile = io.read()"
   ],
   "metadata": {
    "collapsed": false,
    "pycharm": {
     "name": "#%%\n"
    }
   }
  },
  {
   "cell_type": "code",
   "execution_count": 20,
   "outputs": [
    {
     "name": "stderr",
     "output_type": "stream",
     "text": [
      "/Users/harriscaw/opt/anaconda3/envs/NWB/lib/python3.10/site-packages/hdmf/build/objectmapper.py:660: MissingRequiredBuildWarning: ImagingPlane 'imaging_plane' is missing required value for attribute 'pulse_rate'.\n",
      "  warnings.warn(msg, MissingRequiredBuildWarning)\n",
      "/Users/harriscaw/opt/anaconda3/envs/NWB/lib/python3.10/site-packages/hdmf/build/objectmapper.py:660: MissingRequiredBuildWarning: ImagingPlane 'imaging_plane' is missing required value for attribute 'power'.\n",
      "  warnings.warn(msg, MissingRequiredBuildWarning)\n",
      "/Users/harriscaw/opt/anaconda3/envs/NWB/lib/python3.10/site-packages/hdmf/build/objectmapper.py:660: MissingRequiredBuildWarning: ImagingPlane 'imaging_plane' is missing required value for attribute 'peak_pulse_power'.\n",
      "  warnings.warn(msg, MissingRequiredBuildWarning)\n",
      "/Users/harriscaw/opt/anaconda3/envs/NWB/lib/python3.10/site-packages/hdmf/build/objectmapper.py:660: MissingRequiredBuildWarning: ImagingPlane 'imaging_plane' is missing required value for attribute 'opsin'.\n",
      "  warnings.warn(msg, MissingRequiredBuildWarning)\n"
     ]
    }
   ],
   "source": [
    "from pynwb import NWBHDF5IO\n",
    "dev = PhotostimulationDevice(name=\"device\", description=\"photostim_device\", type='LED', wavelength=320., slm=slm)\n",
    "\n",
    "dev = PhotostimulationDevice(name=\"device\", description=\"photostim_device\", type='LED')\n",
    "\n",
    "dev = PhotostimulationDevice(name=\"device\", description=\"photostim_device\", type='LED', wavelength=320., slm=slm)\n",
    "\n",
    "f = \"basics_tutorial.nwb\"\n",
    "io = NWBHDF5IO(f, 'w')\n",
    "io.write(slm)\n",
    "io.write(imaging_plane.device)\n",
    "io.write(imaging_plane)\n",
    "io.close()"
   ],
   "metadata": {
    "collapsed": false,
    "pycharm": {
     "name": "#%%\n"
    }
   }
  },
  {
   "cell_type": "code",
   "execution_count": 22,
   "outputs": [],
   "source": [
    "io.close()"
   ],
   "metadata": {
    "collapsed": false,
    "pycharm": {
     "name": "#%%\n"
    }
   }
  },
  {
   "cell_type": "code",
   "execution_count": null,
   "outputs": [],
   "source": [],
   "metadata": {
    "collapsed": false,
    "pycharm": {
     "name": "#%%\n"
    }
   }
  }
 ],
 "metadata": {
  "kernelspec": {
   "display_name": "Python 3",
   "language": "python",
   "name": "python3"
  },
  "language_info": {
   "codemirror_mode": {
    "name": "ipython",
    "version": 2
   },
   "file_extension": ".py",
   "mimetype": "text/x-python",
   "name": "python",
   "nbconvert_exporter": "python",
   "pygments_lexer": "ipython2",
   "version": "2.7.6"
  }
 },
 "nbformat": 4,
 "nbformat_minor": 0
}