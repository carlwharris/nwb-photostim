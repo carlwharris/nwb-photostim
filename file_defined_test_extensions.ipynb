{
 "cells": [
  {
   "cell_type": "code",
   "metadata": {
    "collapsed": true,
    "pycharm": {
     "name": "#%%\n"
    }
   },
   "source": [
    "%load_ext autoreload\n",
    "%autoreload 2"
   ],
   "execution_count": 1,
   "outputs": []
  },
  {
   "cell_type": "code",
   "execution_count": 1,
   "outputs": [],
   "source": [
    "import file_classes\n",
    "from file_classes import SpatialLightModulator, PhotostimulationDevice, StimulationPlane, HolographicPattern, PhotostimulationSeries"
   ],
   "metadata": {
    "collapsed": false,
    "pycharm": {
     "name": "#%%\n"
    }
   }
  },
  {
   "cell_type": "code",
   "execution_count": 2,
   "outputs": [],
   "source": [
    "from datetime import datetime\n",
    "from dateutil.tz import tzlocal\n",
    "\n",
    "from pynwb import NWBFile\n",
    "\n",
    "nwbfile = NWBFile(\n",
    "    'my first synthetic recording',\n",
    "    'EXAMPLE_ID',\n",
    "    datetime.now(tzlocal()),\n",
    ")\n",
    "\n",
    "import numpy as np\n",
    "slm = SpatialLightModulator(\n",
    "    name=\"slm\",\n",
    "    dimensions = [1, 2]\n",
    ")\n",
    "\n",
    "dev = PhotostimulationDevice(name=\"device\", description=\"photostim_device\", type='LED', wavelength=320, slm=slm)\n",
    "imaging_plane = StimulationPlane(name=\"imaging_plane\",  device=dev, opsin='test opsin', pulse_rate=10)"
   ],
   "metadata": {
    "collapsed": false,
    "pycharm": {
     "name": "#%%\n"
    }
   }
  },
  {
   "cell_type": "code",
   "execution_count": 3,
   "outputs": [],
   "source": [
    "x = np.random.randint(0, 95)\n",
    "y = np.random.randint(0, 95)\n",
    "\n",
    "pixel_roi = []\n",
    "for ix in range(x, x + 5):\n",
    "    for iy in range(y, y + 5):\n",
    "        pixel_roi.append((ix, iy, 1))\n",
    "\n",
    "hp2 = HolographicPattern(name='HolographicPattern', pixel_roi=pixel_roi, stimulation_diameter=5)"
   ],
   "metadata": {
    "collapsed": false,
    "pycharm": {
     "name": "#%%\n"
    }
   }
  },
  {
   "cell_type": "code",
   "execution_count": 4,
   "outputs": [],
   "source": [
    "from file_classes import PhotostimulationSeries\n",
    "ser = PhotostimulationSeries(name='hi', field_of_view=1,unit='seconds', format='series', data=[0, 1, 0, 1], holographic_pattern=hp2, stimulus_duration=10, rate=10., stimulation_plane=imaging_plane)\n",
    "\n",
    "nwbfile.add_stimulus(ser)"
   ],
   "metadata": {
    "collapsed": false,
    "pycharm": {
     "name": "#%%\n"
    }
   }
  },
  {
   "cell_type": "code",
   "execution_count": 6,
   "outputs": [],
   "source": [
    "from pynwb import NWBHDF5IO\n",
    "\n",
    "with NWBHDF5IO(\"basics_tutorial.nwb\", \"w\") as io:\n",
    "    io.write(nwbfile)"
   ],
   "metadata": {
    "collapsed": false,
    "pycharm": {
     "name": "#%%\n"
    }
   }
  },
  {
   "cell_type": "code",
   "execution_count": 7,
   "outputs": [],
   "source": [
    "with NWBHDF5IO(\"basics_tutorial.nwb\", \"r\", load_namespaces=True) as io:\n",
    "    read_nwbfile = io.read()"
   ],
   "metadata": {
    "collapsed": false,
    "pycharm": {
     "name": "#%%\n"
    }
   }
  },
  {
   "cell_type": "code",
   "execution_count": 8,
   "outputs": [
    {
     "name": "stdout",
     "output_type": "stream",
     "text": [
      "    label  start_time  end_time  \\\n",
      "id                                \n",
      "0   stim1         1.0       3.0   \n",
      "1   stim2         4.0       6.0   \n",
      "\n",
      "                                             stimulus  \n",
      "id                                                     \n",
      "0   HolographicPattern file_classes.HolographicPat...  \n",
      "1   HolographicPattern file_classes.HolographicPat...  \n"
     ]
    }
   ],
   "source": [
    "from file_classes import StimulusPresentation\n",
    "\n",
    "sp = StimulusPresentation(name='test_presentation_table', description='abcd')\n",
    "sp.add_row(label='stim1', start_time=1., end_time=3., stimulus=hp2)\n",
    "sp.add_row(label='stim2', start_time=4., end_time=6., stimulus=hp2)\n",
    "df = sp.to_dataframe()\n",
    "print(df)\n"
   ],
   "metadata": {
    "collapsed": false,
    "pycharm": {
     "name": "#%%\n"
    }
   }
  },
  {
   "cell_type": "code",
   "execution_count": 7,
   "outputs": [
    {
     "data": {
      "text/plain": "device1 file_classes.PhotostimulationDevice at 0x140686359114224"
     },
     "execution_count": 7,
     "metadata": {},
     "output_type": "execute_result"
    }
   ],
   "source": [
    "from datetime import datetime\n",
    "from dateutil.tz import tzlocal\n",
    "\n",
    "from pynwb import NWBFile\n",
    "\n",
    "nwbfile = NWBFile(\n",
    "    'my first synthetic recording',\n",
    "    'EXAMPLE_ID',\n",
    "    datetime.now(tzlocal()),\n",
    ")\n",
    "\n",
    "import numpy as np\n",
    "slm = SpatialLightModulator(\n",
    "    name=\"slm\",\n",
    "    dimensions = [1, 2, 3],#[32, 10],\n",
    ")\n",
    "\n",
    "dev = PhotostimulationDevice(name=\"device\", description=\"photostim_device\", type='LED', wavelength=320.)\n",
    "nwbfile.add_device(dev)\n",
    "\n",
    "dev = PhotostimulationDevice(name=\"device1\")\n",
    "nwbfile.add_device(dev)"
   ],
   "metadata": {
    "collapsed": false,
    "pycharm": {
     "name": "#%%\n"
    }
   }
  },
  {
   "cell_type": "code",
   "execution_count": 15,
   "outputs": [],
   "source": [
    "# hp = HolographicPattern(name='HolographicPattern', description='HolographicPattern')\n",
    "import numpy as np\n",
    "\n",
    "image_mask = np.zeros((100, 100))\n",
    "\n",
    "# randomly generate example image masks\n",
    "x = np.random.randint(0, 95)\n",
    "y = np.random.randint(0, 95)\n",
    "image_mask[x:x + 5, y:y + 5] = 1\n",
    "hp = HolographicPattern(name='HolographicPattern',  mask_roi= image_mask)"
   ],
   "metadata": {
    "collapsed": false,
    "pycharm": {
     "name": "#%%\n"
    }
   }
  },
  {
   "cell_type": "code",
   "execution_count": 16,
   "outputs": [],
   "source": [
    "from file_classes import PhotostimulationSeries\n",
    "ser = PhotostimulationSeries(name=\"photosim series\", pattern=hp, unit='SIunit',  field_of_view=1, imaging_plane=imaging_plane)\n",
    "\n",
    "ser.add_interval(10, 20)\n",
    "\n",
    "nwbfile.add_stimulus(ser)"
   ],
   "metadata": {
    "collapsed": false,
    "pycharm": {
     "name": "#%%\n"
    }
   }
  },
  {
   "cell_type": "code",
   "execution_count": 11,
   "outputs": [
    {
     "ename": "NameError",
     "evalue": "name 'hp' is not defined",
     "output_type": "error",
     "traceback": [
      "\u001B[0;31m---------------------------------------------------------------------------\u001B[0m",
      "\u001B[0;31mNameError\u001B[0m                                 Traceback (most recent call last)",
      "Input \u001B[0;32mIn [11]\u001B[0m, in \u001B[0;36m<cell line: 2>\u001B[0;34m()\u001B[0m\n\u001B[1;32m      1\u001B[0m \u001B[38;5;28;01mfrom\u001B[39;00m \u001B[38;5;21;01mfile_classes\u001B[39;00m \u001B[38;5;28;01mimport\u001B[39;00m PhotostimulationSeries\n\u001B[0;32m----> 2\u001B[0m ser \u001B[38;5;241m=\u001B[39m PS(name\u001B[38;5;241m=\u001B[39m\u001B[38;5;124m\"\u001B[39m\u001B[38;5;124mphotosim series\u001B[39m\u001B[38;5;124m\"\u001B[39m, pattern\u001B[38;5;241m=\u001B[39m\u001B[43mhp\u001B[49m, unit\u001B[38;5;241m=\u001B[39m\u001B[38;5;124m'\u001B[39m\u001B[38;5;124mSIunit\u001B[39m\u001B[38;5;124m'\u001B[39m,  field_of_view\u001B[38;5;241m=\u001B[39m\u001B[38;5;241m1\u001B[39m, \u001B[38;5;28mformat\u001B[39m\u001B[38;5;241m=\u001B[39m\u001B[38;5;124m'\u001B[39m\u001B[38;5;124mseries\u001B[39m\u001B[38;5;124m'\u001B[39m, data\u001B[38;5;241m=\u001B[39m[\u001B[38;5;241m0\u001B[39m, \u001B[38;5;241m1\u001B[39m, \u001B[38;5;241m0\u001B[39m], rate\u001B[38;5;241m=\u001B[39m\u001B[38;5;241m10.\u001B[39m, imaging_plane\u001B[38;5;241m=\u001B[39mimaging_plane)\n",
      "\u001B[0;31mNameError\u001B[0m: name 'hp' is not defined"
     ]
    }
   ],
   "source": [
    "from file_classes import PhotostimulationSeries\n",
    "ser = PhotostimulationSeries(name=\"photosim series\", pattern=hp, unit='SIunit',  field_of_view=1, format='series', data=[0, 1, 0], rate=10., imaging_plane=imaging_plane)"
   ],
   "metadata": {
    "collapsed": false,
    "pycharm": {
     "name": "#%%\n"
    }
   }
  },
  {
   "cell_type": "code",
   "execution_count": 12,
   "outputs": [],
   "source": [
    "x = np.random.randint(0, 95)\n",
    "y = np.random.randint(0, 95)\n",
    "\n",
    "pixel_roi = []\n",
    "for ix in range(x, x + 5):\n",
    "    for iy in range(y, y + 5):\n",
    "        pixel_roi.append((ix, iy, 1))\n",
    "\n",
    "hp2 = HolographicPattern(name='HolographicPattern', pixel_roi=pixel_roi, stimulation_diameter=5, dimension=[100, 100])\n",
    "ser = PhotostimulationSeries(name=\"photosim series2\", pattern=hp2, unit='SIunit',  imaging_plane=imaging_plane)\n",
    "# nwbfile.add_stimulus(ser)"
   ],
   "metadata": {
    "collapsed": false,
    "pycharm": {
     "name": "#%%\n"
    }
   }
  },
  {
   "cell_type": "code",
   "execution_count": 23,
   "outputs": [],
   "source": [
    "from pynwb import NWBHDF5IO\n",
    "\n",
    "f_name = 'holographic_photosim_example.nwb'\n",
    "io = NWBHDF5IO(f_name, mode='w')\n",
    "io.write(slm)\n",
    "io.close()"
   ],
   "metadata": {
    "collapsed": false,
    "pycharm": {
     "name": "#%%\n"
    }
   }
  },
  {
   "cell_type": "code",
   "execution_count": 5,
   "outputs": [
    {
     "name": "stdout",
     "output_type": "stream",
     "text": [
      "[[56  4  1]\n",
      " [56  5  1]\n",
      " [56  6  1]\n",
      " [56  7  1]\n",
      " [56  8  1]\n",
      " [57  4  1]\n",
      " [57  5  1]\n",
      " [57  6  1]\n",
      " [57  7  1]\n",
      " [57  8  1]\n",
      " [58  4  1]\n",
      " [58  5  1]\n",
      " [58  6  1]\n",
      " [58  7  1]\n",
      " [58  8  1]\n",
      " [59  4  1]\n",
      " [59  5  1]\n",
      " [59  6  1]\n",
      " [59  7  1]\n",
      " [59  8  1]\n",
      " [60  4  1]\n",
      " [60  5  1]\n",
      " [60  6  1]\n",
      " [60  7  1]\n",
      " [60  8  1]]\n",
      "5\n"
     ]
    }
   ],
   "source": [
    "with NWBHDF5IO(\"basics_tutorial.nwb\", \"r\", load_namespaces=True) as io:\n",
    "    read_nwbfile = io.read()\n",
    "    # print(read_nwbfile.pixel_roi[:])\n",
    "    # print(read_nwbfile.stimulation_diameter)"
   ],
   "metadata": {
    "collapsed": false,
    "pycharm": {
     "name": "#%%\n"
    }
   }
  },
  {
   "cell_type": "code",
   "execution_count": 20,
   "outputs": [
    {
     "name": "stderr",
     "output_type": "stream",
     "text": [
      "/Users/harriscaw/opt/anaconda3/envs/NWB/lib/python3.10/site-packages/hdmf/build/objectmapper.py:660: MissingRequiredBuildWarning: ImagingPlane 'imaging_plane' is missing required value for attribute 'pulse_rate'.\n",
      "  warnings.warn(msg, MissingRequiredBuildWarning)\n",
      "/Users/harriscaw/opt/anaconda3/envs/NWB/lib/python3.10/site-packages/hdmf/build/objectmapper.py:660: MissingRequiredBuildWarning: ImagingPlane 'imaging_plane' is missing required value for attribute 'power'.\n",
      "  warnings.warn(msg, MissingRequiredBuildWarning)\n",
      "/Users/harriscaw/opt/anaconda3/envs/NWB/lib/python3.10/site-packages/hdmf/build/objectmapper.py:660: MissingRequiredBuildWarning: ImagingPlane 'imaging_plane' is missing required value for attribute 'peak_pulse_power'.\n",
      "  warnings.warn(msg, MissingRequiredBuildWarning)\n",
      "/Users/harriscaw/opt/anaconda3/envs/NWB/lib/python3.10/site-packages/hdmf/build/objectmapper.py:660: MissingRequiredBuildWarning: ImagingPlane 'imaging_plane' is missing required value for attribute 'opsin'.\n",
      "  warnings.warn(msg, MissingRequiredBuildWarning)\n"
     ]
    }
   ],
   "source": [
    "from pynwb import NWBHDF5IO\n",
    "dev = PhotostimulationDevice(name=\"device\", description=\"photostim_device\", type='LED', wavelength=320., slm=slm)\n",
    "\n",
    "dev = PhotostimulationDevice(name=\"device\", description=\"photostim_device\", type='LED')\n",
    "\n",
    "dev = PhotostimulationDevice(name=\"device\", description=\"photostim_device\", type='LED', wavelength=320., slm=slm)\n",
    "\n",
    "f = \"basics_tutorial.nwb\"\n",
    "io = NWBHDF5IO(f, 'w')\n",
    "io.write(slm)\n",
    "io.write(imaging_plane.device)\n",
    "io.write(imaging_plane)\n",
    "io.close()"
   ],
   "metadata": {
    "collapsed": false,
    "pycharm": {
     "name": "#%%\n"
    }
   }
  },
  {
   "cell_type": "code",
   "execution_count": 11,
   "outputs": [],
   "source": [
    "io.close()"
   ],
   "metadata": {
    "collapsed": false,
    "pycharm": {
     "name": "#%%\n"
    }
   }
  },
  {
   "cell_type": "code",
   "execution_count": 10,
   "outputs": [
    {
     "ename": "TypeError",
     "evalue": "PhotostimulationSeries.__init__: incorrect type for 'stimulation_plane' (got 'PhotostimulationDevice', expected 'StimulationPlane')",
     "output_type": "error",
     "traceback": [
      "\u001B[0;31m---------------------------------------------------------------------------\u001B[0m",
      "\u001B[0;31mTypeError\u001B[0m                                 Traceback (most recent call last)",
      "Input \u001B[0;32mIn [10]\u001B[0m, in \u001B[0;36m<cell line: 7>\u001B[0;34m()\u001B[0m\n\u001B[1;32m      4\u001B[0m load_namespaces(ns_path)\n\u001B[1;32m      5\u001B[0m PS \u001B[38;5;241m=\u001B[39m get_class(\u001B[38;5;124m\"\u001B[39m\u001B[38;5;124mPhotostimulationSeries\u001B[39m\u001B[38;5;124m\"\u001B[39m, \u001B[38;5;124m\"\u001B[39m\u001B[38;5;124mtest\u001B[39m\u001B[38;5;124m\"\u001B[39m)\n\u001B[0;32m----> 7\u001B[0m ser \u001B[38;5;241m=\u001B[39m \u001B[43mPS\u001B[49m\u001B[43m(\u001B[49m\u001B[43mname\u001B[49m\u001B[38;5;241;43m=\u001B[39;49m\u001B[38;5;124;43m'\u001B[39;49m\u001B[38;5;124;43mhi\u001B[39;49m\u001B[38;5;124;43m'\u001B[39;49m\u001B[43m,\u001B[49m\u001B[43m \u001B[49m\u001B[43mfield_of_view\u001B[49m\u001B[38;5;241;43m=\u001B[39;49m\u001B[38;5;241;43m1\u001B[39;49m\u001B[43m,\u001B[49m\u001B[43munit\u001B[49m\u001B[38;5;241;43m=\u001B[39;49m\u001B[38;5;124;43m'\u001B[39;49m\u001B[38;5;124;43mseconds\u001B[39;49m\u001B[38;5;124;43m'\u001B[39;49m\u001B[43m,\u001B[49m\u001B[43m \u001B[49m\u001B[38;5;28;43mformat\u001B[39;49m\u001B[38;5;241;43m=\u001B[39;49m\u001B[38;5;124;43m'\u001B[39;49m\u001B[38;5;124;43mseries\u001B[39;49m\u001B[38;5;124;43m'\u001B[39;49m\u001B[43m,\u001B[49m\u001B[43m \u001B[49m\u001B[43mdata\u001B[49m\u001B[38;5;241;43m=\u001B[39;49m\u001B[43m[\u001B[49m\u001B[38;5;241;43m0\u001B[39;49m\u001B[43m,\u001B[49m\u001B[43m \u001B[49m\u001B[38;5;241;43m1\u001B[39;49m\u001B[43m,\u001B[49m\u001B[43m \u001B[49m\u001B[38;5;241;43m0\u001B[39;49m\u001B[43m]\u001B[49m\u001B[43m,\u001B[49m\u001B[43m \u001B[49m\u001B[43mstimulation_plane\u001B[49m\u001B[38;5;241;43m=\u001B[39;49m\u001B[43mdev\u001B[49m\u001B[43m,\u001B[49m\u001B[43m \u001B[49m\u001B[43mstimulus_duration\u001B[49m\u001B[38;5;241;43m=\u001B[39;49m\u001B[38;5;241;43m10\u001B[39;49m\u001B[43m,\u001B[49m\u001B[43m \u001B[49m\u001B[43mrate\u001B[49m\u001B[38;5;241;43m=\u001B[39;49m\u001B[38;5;241;43m10.\u001B[39;49m\u001B[43m)\u001B[49m\n",
      "File \u001B[0;32m~/opt/anaconda3/envs/nwb-photostim/lib/python3.10/site-packages/hdmf/utils.py:644\u001B[0m, in \u001B[0;36mdocval.<locals>.dec.<locals>.func_call\u001B[0;34m(*args, **kwargs)\u001B[0m\n\u001B[1;32m    643\u001B[0m \u001B[38;5;28;01mdef\u001B[39;00m \u001B[38;5;21mfunc_call\u001B[39m(\u001B[38;5;241m*\u001B[39margs, \u001B[38;5;241m*\u001B[39m\u001B[38;5;241m*\u001B[39mkwargs):\n\u001B[0;32m--> 644\u001B[0m     pargs \u001B[38;5;241m=\u001B[39m \u001B[43m_check_args\u001B[49m\u001B[43m(\u001B[49m\u001B[43margs\u001B[49m\u001B[43m,\u001B[49m\u001B[43m \u001B[49m\u001B[43mkwargs\u001B[49m\u001B[43m)\u001B[49m\n\u001B[1;32m    645\u001B[0m     \u001B[38;5;28;01mreturn\u001B[39;00m func(args[\u001B[38;5;241m0\u001B[39m], \u001B[38;5;241m*\u001B[39m\u001B[38;5;241m*\u001B[39mpargs)\n",
      "File \u001B[0;32m~/opt/anaconda3/envs/nwb-photostim/lib/python3.10/site-packages/hdmf/utils.py:637\u001B[0m, in \u001B[0;36mdocval.<locals>.dec.<locals>._check_args\u001B[0;34m(args, kwargs)\u001B[0m\n\u001B[1;32m    635\u001B[0m     \u001B[38;5;28;01mif\u001B[39;00m parse_err:\n\u001B[1;32m    636\u001B[0m         msg \u001B[38;5;241m=\u001B[39m \u001B[38;5;124m'\u001B[39m\u001B[38;5;132;01m%s\u001B[39;00m\u001B[38;5;124m: \u001B[39m\u001B[38;5;132;01m%s\u001B[39;00m\u001B[38;5;124m'\u001B[39m \u001B[38;5;241m%\u001B[39m (func\u001B[38;5;241m.\u001B[39m\u001B[38;5;18m__qualname__\u001B[39m, \u001B[38;5;124m'\u001B[39m\u001B[38;5;124m, \u001B[39m\u001B[38;5;124m'\u001B[39m\u001B[38;5;241m.\u001B[39mjoin(parse_err))\n\u001B[0;32m--> 637\u001B[0m         \u001B[38;5;28;01mraise\u001B[39;00m ExceptionType(msg)\n\u001B[1;32m    639\u001B[0m \u001B[38;5;28;01mreturn\u001B[39;00m parsed[\u001B[38;5;124m'\u001B[39m\u001B[38;5;124margs\u001B[39m\u001B[38;5;124m'\u001B[39m]\n",
      "\u001B[0;31mTypeError\u001B[0m: PhotostimulationSeries.__init__: incorrect type for 'stimulation_plane' (got 'PhotostimulationDevice', expected 'StimulationPlane')"
     ]
    }
   ],
   "source": [
    "from pynwb import load_namespaces, get_class, NWBHDF5IO, NWBFile\n",
    "\n",
    "ns_path = \"test.namespace.yaml\"\n",
    "load_namespaces(ns_path)\n",
    "PS = get_class(\"PhotostimulationSeries\", \"test\")\n",
    "\n",
    "ser = PS(name='hi', field_of_view=1,unit='seconds', format='series', data=[0, 1, 0], stimulation_plane=imaging_plane, stimulus_duration=10, rate=10.)\n"
   ],
   "metadata": {
    "collapsed": false,
    "pycharm": {
     "name": "#%%\n"
    }
   }
  },
  {
   "cell_type": "code",
   "execution_count": 8,
   "outputs": [
    {
     "data": {
      "text/plain": "['DEFAULT_CONVERSION',\n 'DEFAULT_DATA',\n 'DEFAULT_OFFSET',\n 'DEFAULT_RESOLUTION',\n 'DEFAULT_UNIT',\n '_AbstractContainer__fieldsconf',\n '_AbstractContainer__gather_fields',\n '_Container__smart_str',\n '_Container__smart_str_dict',\n '_Container__smart_str_list',\n '_TimeSeries__add_link',\n '_TimeSeries__get_links',\n '_TimeSeries__time_unit',\n '__abstractmethods__',\n '__class__',\n '__delattr__',\n '__dict__',\n '__dir__',\n '__doc__',\n '__eq__',\n '__fields__',\n '__format__',\n '__ge__',\n '__getattribute__',\n '__gt__',\n '__hash__',\n '__init__',\n '__init_subclass__',\n '__le__',\n '__lt__',\n '__module__',\n '__ne__',\n '__new__',\n '__nwbfields__',\n '__reduce__',\n '__reduce_ex__',\n '__repr__',\n '__setattr__',\n '__sizeof__',\n '__str__',\n '__subclasshook__',\n '__weakref__',\n '_abc_impl',\n '_check_field_spec',\n '_check_field_spec_keys',\n '_check_time_series_dimension',\n '_data_type_attr',\n '_experimental',\n '_fieldsname',\n '_get_fields',\n '_getter',\n '_pconf_allowed_keys',\n '_remove_child',\n '_set_fields',\n '_setter',\n 'add_child',\n 'add_interval',\n 'children',\n 'comments',\n 'container_source',\n 'continuity',\n 'control',\n 'control_description',\n 'conversion',\n 'data',\n 'data_link',\n 'data_type',\n 'description',\n 'field_of_view',\n 'fields',\n 'format',\n 'generate_new_id',\n 'get_ancestor',\n 'get_fields_conf',\n 'interval',\n 'modified',\n 'name',\n 'namespace',\n 'neurodata_type',\n 'num_samples',\n 'object_id',\n 'offset',\n 'parent',\n 'rate',\n 'reset_parent',\n 'resolution',\n 'set_modified',\n 'starting_time',\n 'starting_time_unit',\n 'stimulation_plane',\n 'stimulus_duration',\n 'time_unit',\n 'timestamp_link',\n 'timestamps',\n 'timestamps_unit',\n 'type_hierarchy',\n 'unit']"
     },
     "execution_count": 8,
     "metadata": {},
     "output_type": "execute_result"
    }
   ],
   "source": [
    "dir(ps)"
   ],
   "metadata": {
    "collapsed": false,
    "pycharm": {
     "name": "#%%\n"
    }
   }
  },
  {
   "cell_type": "code",
   "execution_count": null,
   "outputs": [],
   "source": [],
   "metadata": {
    "collapsed": false,
    "pycharm": {
     "name": "#%%\n"
    }
   }
  }
 ],
 "metadata": {
  "kernelspec": {
   "display_name": "Python 3",
   "language": "python",
   "name": "python3"
  },
  "language_info": {
   "codemirror_mode": {
    "name": "ipython",
    "version": 2
   },
   "file_extension": ".py",
   "mimetype": "text/x-python",
   "name": "python",
   "nbconvert_exporter": "python",
   "pygments_lexer": "ipython2",
   "version": "2.7.6"
  }
 },
 "nbformat": 4,
 "nbformat_minor": 0
}