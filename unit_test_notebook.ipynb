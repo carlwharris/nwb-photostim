{
 "cells": [
  {
   "cell_type": "code",
   "execution_count": 1,
   "metadata": {
    "collapsed": true
   },
   "outputs": [],
   "source": [
    "from pynwb.spec import NWBDatasetSpec\n",
    "from pynwb.spec import NWBNamespaceBuilder, NWBGroupSpec, NWBAttributeSpec\n",
    "\n",
    "name = 'ecog'\n",
    "ns_path = name + \".namespace.yaml\"\n",
    "ext_source = name + \".extensions.yaml\"\n",
    "\n",
    "\n",
    "ns_builder = NWBNamespaceBuilder(name + ' extensions', name, version='0.1.0')\n",
    "\n",
    "slm = NWBGroupSpec(\n",
    "        neurodata_type_def='SpatialLightModulator',\n",
    "        neurodata_type_inc='NWBContainer',\n",
    "        doc=('SpatialLightModulator'),\n",
    "        attributes=[NWBAttributeSpec('dimensions', 'dimensions ([w, h] or [w, h, d]) of SLM field', 'numeric', shape=((2, ), (3,)))\n",
    "        ]\n",
    ")\n",
    "ns_builder.add_spec(ext_source, slm)\n",
    "ns_builder.export(ns_path)\n",
    "\n",
    "from pynwb import load_namespaces, get_class, NWBHDF5IO, NWBFile\n",
    "from datetime import datetime\n",
    "import numpy as np\n",
    "\n"
   ]
  },
  {
   "cell_type": "code",
   "execution_count": 4,
   "outputs": [
    {
     "ename": "ValueError",
     "evalue": "No specification for 'SpatialLightModulator1' in namespace 'ecog'",
     "output_type": "error",
     "traceback": [
      "\u001B[0;31m---------------------------------------------------------------------------\u001B[0m",
      "\u001B[0;31mValueError\u001B[0m                                Traceback (most recent call last)",
      "Input \u001B[0;32mIn [4]\u001B[0m, in \u001B[0;36m<cell line: 12>\u001B[0;34m()\u001B[0m\n\u001B[1;32m      9\u001B[0m \u001B[38;5;28;01mdef\u001B[39;00m \u001B[38;5;21mpopargs_to_dict\u001B[39m(keys, argdict):\n\u001B[1;32m     10\u001B[0m     \u001B[38;5;28;01mreturn\u001B[39;00m {key: argdict\u001B[38;5;241m.\u001B[39mpop(key) \u001B[38;5;28;01mfor\u001B[39;00m key \u001B[38;5;129;01min\u001B[39;00m keys}\n\u001B[1;32m     12\u001B[0m \u001B[38;5;129;43m@register_class\u001B[39;49m\u001B[43m(\u001B[49m\u001B[38;5;124;43m'\u001B[39;49m\u001B[38;5;124;43mSpatialLightModulator1\u001B[39;49m\u001B[38;5;124;43m'\u001B[39;49m\u001B[43m,\u001B[49m\u001B[43m \u001B[49m\u001B[38;5;124;43m'\u001B[39;49m\u001B[38;5;124;43mecog\u001B[39;49m\u001B[38;5;124;43m'\u001B[39;49m\u001B[43m)\u001B[49m\n\u001B[0;32m---> 13\u001B[0m \u001B[38;5;28;43;01mclass\u001B[39;49;00m\u001B[43m \u001B[49m\u001B[38;5;21;43;01mSpatialLightModulator1\u001B[39;49;00m\u001B[43m(\u001B[49m\u001B[43mNWBContainer\u001B[49m\u001B[43m)\u001B[49m\u001B[43m:\u001B[49m\n\u001B[1;32m     14\u001B[0m \u001B[43m    \u001B[49m\u001B[43m__nwbfields__\u001B[49m\u001B[43m \u001B[49m\u001B[38;5;241;43m=\u001B[39;49m\u001B[43m \u001B[49m\u001B[43m(\u001B[49m\u001B[38;5;124;43m'\u001B[39;49m\u001B[38;5;124;43mdimensions\u001B[39;49m\u001B[38;5;124;43m'\u001B[39;49m\u001B[43m,\u001B[49m\u001B[43m \u001B[49m\u001B[38;5;124;43m'\u001B[39;49m\u001B[38;5;124;43mdimensions1\u001B[39;49m\u001B[38;5;124;43m'\u001B[39;49m\u001B[43m)\u001B[49m\n\u001B[1;32m     16\u001B[0m \u001B[43m    \u001B[49m\u001B[38;5;129;43m@docval\u001B[39;49m\u001B[43m(\u001B[49m\n\u001B[1;32m     17\u001B[0m \u001B[43m        \u001B[49m\u001B[38;5;241;43m*\u001B[39;49m\u001B[43mget_docval\u001B[49m\u001B[43m(\u001B[49m\u001B[43mNWBContainer\u001B[49m\u001B[38;5;241;43m.\u001B[39;49m\u001B[38;5;21;43m__init__\u001B[39;49m\u001B[43m)\u001B[49m\u001B[43m \u001B[49m\u001B[38;5;241;43m+\u001B[39;49m\u001B[43m \u001B[49m\u001B[43m(\u001B[49m\n\u001B[1;32m     18\u001B[0m \u001B[43m        \u001B[49m\u001B[43m{\u001B[49m\u001B[38;5;124;43m'\u001B[39;49m\u001B[38;5;124;43mname\u001B[39;49m\u001B[38;5;124;43m'\u001B[39;49m\u001B[43m:\u001B[49m\u001B[43m \u001B[49m\u001B[38;5;124;43m'\u001B[39;49m\u001B[38;5;124;43mdimensions\u001B[39;49m\u001B[38;5;124;43m'\u001B[39;49m\u001B[43m,\u001B[49m\u001B[43m \u001B[49m\u001B[38;5;124;43m'\u001B[39;49m\u001B[38;5;124;43mtype\u001B[39;49m\u001B[38;5;124;43m'\u001B[39;49m\u001B[43m:\u001B[49m\u001B[43m \u001B[49m\u001B[43mIterable\u001B[49m\u001B[43m,\u001B[49m\u001B[43m \u001B[49m\u001B[38;5;124;43m'\u001B[39;49m\u001B[38;5;124;43mdoc\u001B[39;49m\u001B[38;5;124;43m'\u001B[39;49m\u001B[43m:\u001B[49m\u001B[43m \u001B[49m\u001B[38;5;124;43m'\u001B[39;49m\u001B[38;5;124;43mdimensions ([w, h] or [w, h, d]) of SLM field\u001B[39;49m\u001B[38;5;124;43m'\u001B[39;49m\u001B[43m}\u001B[49m\u001B[43m,\u001B[49m\n\u001B[1;32m     19\u001B[0m \u001B[43m        \u001B[49m\u001B[43m{\u001B[49m\u001B[38;5;124;43m'\u001B[39;49m\u001B[38;5;124;43mname\u001B[39;49m\u001B[38;5;124;43m'\u001B[39;49m\u001B[43m:\u001B[49m\u001B[43m \u001B[49m\u001B[38;5;124;43m'\u001B[39;49m\u001B[38;5;124;43mdimensions1\u001B[39;49m\u001B[38;5;124;43m'\u001B[39;49m\u001B[43m,\u001B[49m\u001B[43m \u001B[49m\u001B[38;5;124;43m'\u001B[39;49m\u001B[38;5;124;43mtype\u001B[39;49m\u001B[38;5;124;43m'\u001B[39;49m\u001B[43m:\u001B[49m\u001B[43m \u001B[49m\u001B[43mIterable\u001B[49m\u001B[43m,\u001B[49m\u001B[43m \u001B[49m\u001B[38;5;124;43m'\u001B[39;49m\u001B[38;5;124;43mdoc\u001B[39;49m\u001B[38;5;124;43m'\u001B[39;49m\u001B[43m:\u001B[49m\u001B[43m \u001B[49m\u001B[38;5;124;43m'\u001B[39;49m\u001B[38;5;124;43mdimensions ([w, h] or [w, h, d]) of SLM field\u001B[39;49m\u001B[38;5;124;43m'\u001B[39;49m\u001B[43m}\u001B[49m\u001B[43m)\u001B[49m\n\u001B[1;32m     20\u001B[0m \u001B[43m    \u001B[49m\u001B[43m)\u001B[49m\n\u001B[1;32m     21\u001B[0m \u001B[43m    \u001B[49m\u001B[38;5;28;43;01mdef\u001B[39;49;00m\u001B[43m \u001B[49m\u001B[38;5;21;43m__init__\u001B[39;49m\u001B[43m(\u001B[49m\u001B[38;5;28;43mself\u001B[39;49m\u001B[43m,\u001B[49m\u001B[43m \u001B[49m\u001B[38;5;241;43m*\u001B[39;49m\u001B[38;5;241;43m*\u001B[39;49m\u001B[43mkwargs\u001B[49m\u001B[43m)\u001B[49m\u001B[43m:\u001B[49m\n",
      "File \u001B[0;32m~/opt/anaconda3/envs/nwb-photostim/lib/python3.10/site-packages/pynwb/__init__.py:130\u001B[0m, in \u001B[0;36mregister_class.<locals>._dec\u001B[0;34m(cls)\u001B[0m\n\u001B[1;32m    129\u001B[0m \u001B[38;5;28;01mdef\u001B[39;00m \u001B[38;5;21m_dec\u001B[39m(\u001B[38;5;28mcls\u001B[39m):\n\u001B[0;32m--> 130\u001B[0m     \u001B[43m__TYPE_MAP\u001B[49m\u001B[38;5;241;43m.\u001B[39;49m\u001B[43mregister_container_type\u001B[49m\u001B[43m(\u001B[49m\u001B[43mnamespace\u001B[49m\u001B[43m,\u001B[49m\u001B[43m \u001B[49m\u001B[43mneurodata_type\u001B[49m\u001B[43m,\u001B[49m\u001B[43m \u001B[49m\u001B[38;5;28;43mcls\u001B[39;49m\u001B[43m)\u001B[49m\n\u001B[1;32m    131\u001B[0m     \u001B[38;5;28;01mreturn\u001B[39;00m \u001B[38;5;28mcls\u001B[39m\n",
      "File \u001B[0;32m~/opt/anaconda3/envs/nwb-photostim/lib/python3.10/site-packages/hdmf/utils.py:645\u001B[0m, in \u001B[0;36mdocval.<locals>.dec.<locals>.func_call\u001B[0;34m(*args, **kwargs)\u001B[0m\n\u001B[1;32m    643\u001B[0m \u001B[38;5;28;01mdef\u001B[39;00m \u001B[38;5;21mfunc_call\u001B[39m(\u001B[38;5;241m*\u001B[39margs, \u001B[38;5;241m*\u001B[39m\u001B[38;5;241m*\u001B[39mkwargs):\n\u001B[1;32m    644\u001B[0m     pargs \u001B[38;5;241m=\u001B[39m _check_args(args, kwargs)\n\u001B[0;32m--> 645\u001B[0m     \u001B[38;5;28;01mreturn\u001B[39;00m \u001B[43mfunc\u001B[49m\u001B[43m(\u001B[49m\u001B[43margs\u001B[49m\u001B[43m[\u001B[49m\u001B[38;5;241;43m0\u001B[39;49m\u001B[43m]\u001B[49m\u001B[43m,\u001B[49m\u001B[43m \u001B[49m\u001B[38;5;241;43m*\u001B[39;49m\u001B[38;5;241;43m*\u001B[39;49m\u001B[43mpargs\u001B[49m\u001B[43m)\u001B[49m\n",
      "File \u001B[0;32m~/opt/anaconda3/envs/nwb-photostim/lib/python3.10/site-packages/hdmf/build/manager.py:724\u001B[0m, in \u001B[0;36mTypeMap.register_container_type\u001B[0;34m(self, **kwargs)\u001B[0m\n\u001B[1;32m    722\u001B[0m \u001B[38;5;124;03m''' Map a container class to a data_type '''\u001B[39;00m\n\u001B[1;32m    723\u001B[0m namespace, data_type, container_cls \u001B[38;5;241m=\u001B[39m getargs(\u001B[38;5;124m'\u001B[39m\u001B[38;5;124mnamespace\u001B[39m\u001B[38;5;124m'\u001B[39m, \u001B[38;5;124m'\u001B[39m\u001B[38;5;124mdata_type\u001B[39m\u001B[38;5;124m'\u001B[39m, \u001B[38;5;124m'\u001B[39m\u001B[38;5;124mcontainer_cls\u001B[39m\u001B[38;5;124m'\u001B[39m, kwargs)\n\u001B[0;32m--> 724\u001B[0m spec \u001B[38;5;241m=\u001B[39m \u001B[38;5;28;43mself\u001B[39;49m\u001B[38;5;241;43m.\u001B[39;49m\u001B[43m__ns_catalog\u001B[49m\u001B[38;5;241;43m.\u001B[39;49m\u001B[43mget_spec\u001B[49m\u001B[43m(\u001B[49m\u001B[43mnamespace\u001B[49m\u001B[43m,\u001B[49m\u001B[43m \u001B[49m\u001B[43mdata_type\u001B[49m\u001B[43m)\u001B[49m  \u001B[38;5;66;03m# make sure the spec exists\u001B[39;00m\n\u001B[1;32m    725\u001B[0m \u001B[38;5;28mself\u001B[39m\u001B[38;5;241m.\u001B[39m__container_types\u001B[38;5;241m.\u001B[39msetdefault(namespace, \u001B[38;5;28mdict\u001B[39m())\n\u001B[1;32m    726\u001B[0m \u001B[38;5;28mself\u001B[39m\u001B[38;5;241m.\u001B[39m__container_types[namespace][data_type] \u001B[38;5;241m=\u001B[39m container_cls\n",
      "File \u001B[0;32m~/opt/anaconda3/envs/nwb-photostim/lib/python3.10/site-packages/hdmf/utils.py:645\u001B[0m, in \u001B[0;36mdocval.<locals>.dec.<locals>.func_call\u001B[0;34m(*args, **kwargs)\u001B[0m\n\u001B[1;32m    643\u001B[0m \u001B[38;5;28;01mdef\u001B[39;00m \u001B[38;5;21mfunc_call\u001B[39m(\u001B[38;5;241m*\u001B[39margs, \u001B[38;5;241m*\u001B[39m\u001B[38;5;241m*\u001B[39mkwargs):\n\u001B[1;32m    644\u001B[0m     pargs \u001B[38;5;241m=\u001B[39m _check_args(args, kwargs)\n\u001B[0;32m--> 645\u001B[0m     \u001B[38;5;28;01mreturn\u001B[39;00m \u001B[43mfunc\u001B[49m\u001B[43m(\u001B[49m\u001B[43margs\u001B[49m\u001B[43m[\u001B[49m\u001B[38;5;241;43m0\u001B[39;49m\u001B[43m]\u001B[49m\u001B[43m,\u001B[49m\u001B[43m \u001B[49m\u001B[38;5;241;43m*\u001B[39;49m\u001B[38;5;241;43m*\u001B[39;49m\u001B[43mpargs\u001B[49m\u001B[43m)\u001B[49m\n",
      "File \u001B[0;32m~/opt/anaconda3/envs/nwb-photostim/lib/python3.10/site-packages/hdmf/spec/namespace.py:316\u001B[0m, in \u001B[0;36mNamespaceCatalog.get_spec\u001B[0;34m(self, **kwargs)\u001B[0m\n\u001B[1;32m    314\u001B[0m \u001B[38;5;28;01mif\u001B[39;00m namespace \u001B[38;5;129;01mnot\u001B[39;00m \u001B[38;5;129;01min\u001B[39;00m \u001B[38;5;28mself\u001B[39m\u001B[38;5;241m.\u001B[39m__namespaces:\n\u001B[1;32m    315\u001B[0m     \u001B[38;5;28;01mraise\u001B[39;00m \u001B[38;5;167;01mKeyError\u001B[39;00m(\u001B[38;5;124m\"\u001B[39m\u001B[38;5;124m'\u001B[39m\u001B[38;5;132;01m%s\u001B[39;00m\u001B[38;5;124m'\u001B[39m\u001B[38;5;124m not a namespace\u001B[39m\u001B[38;5;124m\"\u001B[39m \u001B[38;5;241m%\u001B[39m namespace)\n\u001B[0;32m--> 316\u001B[0m \u001B[38;5;28;01mreturn\u001B[39;00m \u001B[38;5;28;43mself\u001B[39;49m\u001B[38;5;241;43m.\u001B[39;49m\u001B[43m__namespaces\u001B[49m\u001B[43m[\u001B[49m\u001B[43mnamespace\u001B[49m\u001B[43m]\u001B[49m\u001B[38;5;241;43m.\u001B[39;49m\u001B[43mget_spec\u001B[49m\u001B[43m(\u001B[49m\u001B[43mdata_type\u001B[49m\u001B[43m)\u001B[49m\n",
      "File \u001B[0;32m~/opt/anaconda3/envs/nwb-photostim/lib/python3.10/site-packages/hdmf/utils.py:645\u001B[0m, in \u001B[0;36mdocval.<locals>.dec.<locals>.func_call\u001B[0;34m(*args, **kwargs)\u001B[0m\n\u001B[1;32m    643\u001B[0m \u001B[38;5;28;01mdef\u001B[39;00m \u001B[38;5;21mfunc_call\u001B[39m(\u001B[38;5;241m*\u001B[39margs, \u001B[38;5;241m*\u001B[39m\u001B[38;5;241m*\u001B[39mkwargs):\n\u001B[1;32m    644\u001B[0m     pargs \u001B[38;5;241m=\u001B[39m _check_args(args, kwargs)\n\u001B[0;32m--> 645\u001B[0m     \u001B[38;5;28;01mreturn\u001B[39;00m \u001B[43mfunc\u001B[49m\u001B[43m(\u001B[49m\u001B[43margs\u001B[49m\u001B[43m[\u001B[49m\u001B[38;5;241;43m0\u001B[39;49m\u001B[43m]\u001B[49m\u001B[43m,\u001B[49m\u001B[43m \u001B[49m\u001B[38;5;241;43m*\u001B[39;49m\u001B[38;5;241;43m*\u001B[39;49m\u001B[43mpargs\u001B[49m\u001B[43m)\u001B[49m\n",
      "File \u001B[0;32m~/opt/anaconda3/envs/nwb-photostim/lib/python3.10/site-packages/hdmf/spec/namespace.py:150\u001B[0m, in \u001B[0;36mSpecNamespace.get_spec\u001B[0;34m(self, **kwargs)\u001B[0m\n\u001B[1;32m    148\u001B[0m spec \u001B[38;5;241m=\u001B[39m \u001B[38;5;28mself\u001B[39m\u001B[38;5;241m.\u001B[39m__catalog\u001B[38;5;241m.\u001B[39mget_spec(data_type)\n\u001B[1;32m    149\u001B[0m \u001B[38;5;28;01mif\u001B[39;00m spec \u001B[38;5;129;01mis\u001B[39;00m \u001B[38;5;28;01mNone\u001B[39;00m:\n\u001B[0;32m--> 150\u001B[0m     \u001B[38;5;28;01mraise\u001B[39;00m \u001B[38;5;167;01mValueError\u001B[39;00m(\u001B[38;5;124m\"\u001B[39m\u001B[38;5;124mNo specification for \u001B[39m\u001B[38;5;124m'\u001B[39m\u001B[38;5;132;01m%s\u001B[39;00m\u001B[38;5;124m'\u001B[39m\u001B[38;5;124m in namespace \u001B[39m\u001B[38;5;124m'\u001B[39m\u001B[38;5;132;01m%s\u001B[39;00m\u001B[38;5;124m'\u001B[39m\u001B[38;5;124m\"\u001B[39m \u001B[38;5;241m%\u001B[39m (data_type, \u001B[38;5;28mself\u001B[39m\u001B[38;5;241m.\u001B[39mname))\n\u001B[1;32m    151\u001B[0m \u001B[38;5;28;01mreturn\u001B[39;00m spec\n",
      "\u001B[0;31mValueError\u001B[0m: No specification for 'SpatialLightModulator1' in namespace 'ecog'"
     ]
    }
   ],
   "source": [
    "from pynwb import register_class\n",
    "from pynwb.core import NWBContainer\n",
    "from collections.abc import Iterable\n",
    "from hdmf.utils import docval, popargs\n",
    "from hdmf.utils import docval, get_docval, popargs\n",
    "from hdmf.utils import docval, popargs, get_docval\n",
    "\n",
    "load_namespaces('ecog.namespace.yaml')\n",
    "def popargs_to_dict(keys, argdict):\n",
    "    return {key: argdict.pop(key) for key in keys}\n",
    "\n",
    "@register_class('SpatialLightModulator', 'ecog')\n",
    "class SpatialLightModulator(NWBContainer):\n",
    "    __nwbfields__ = ('dimensions', 'dimensions1')\n",
    "\n",
    "    @docval(\n",
    "        *get_docval(NWBContainer.__init__) + (\n",
    "        {'name': 'dimensions', 'type': Iterable, 'doc': 'dimensions ([w, h] or [w, h, d]) of SLM field'},\n",
    "        {'name': 'dimensions1', 'type': Iterable, 'doc': 'dimensions ([w, h] or [w, h, d]) of SLM field'})\n",
    "    )\n",
    "    def __init__(self, **kwargs):\n",
    "        load_namespaces('ecog.namespace.yaml')\n",
    "        args_to_set = popargs_to_dict(('dimensions', 'dimensions1'), kwargs)\n",
    "        super().__init__(**kwargs)\n",
    "        for key, val in args_to_set.items():\n",
    "            setattr(self, key, val)\n",
    "\n",
    "\n",
    "slm = SpatialLightModulator(\n",
    "    name=\"slm\",\n",
    "    dimensions = [1, 2, 3, 5],\n",
    "    dimensions1 = [1, 2,3, 4, 5]\n",
    ")"
   ],
   "metadata": {
    "collapsed": false,
    "pycharm": {
     "name": "#%%\n"
    }
   }
  },
  {
   "cell_type": "code",
   "execution_count": 5,
   "outputs": [
    {
     "ename": "TypeError",
     "evalue": "SpatialLightModulator.__init__: missing argument 'dimensions1'",
     "output_type": "error",
     "traceback": [
      "\u001B[0;31m---------------------------------------------------------------------------\u001B[0m",
      "\u001B[0;31mTypeError\u001B[0m                                 Traceback (most recent call last)",
      "Input \u001B[0;32mIn [5]\u001B[0m, in \u001B[0;36m<cell line: 3>\u001B[0;34m()\u001B[0m\n\u001B[1;32m      1\u001B[0m SpatialLightModulator \u001B[38;5;241m=\u001B[39m get_class(\u001B[38;5;124m'\u001B[39m\u001B[38;5;124mSpatialLightModulator\u001B[39m\u001B[38;5;124m'\u001B[39m, \u001B[38;5;124m'\u001B[39m\u001B[38;5;124mecog\u001B[39m\u001B[38;5;124m'\u001B[39m)\n\u001B[0;32m----> 3\u001B[0m slm \u001B[38;5;241m=\u001B[39m \u001B[43mSpatialLightModulator\u001B[49m\u001B[43m(\u001B[49m\n\u001B[1;32m      4\u001B[0m \u001B[43m    \u001B[49m\u001B[43mname\u001B[49m\u001B[38;5;241;43m=\u001B[39;49m\u001B[38;5;124;43m\"\u001B[39;49m\u001B[38;5;124;43mslm\u001B[39;49m\u001B[38;5;124;43m\"\u001B[39;49m\u001B[43m,\u001B[49m\n\u001B[1;32m      5\u001B[0m \u001B[43m    \u001B[49m\u001B[43mdimensions\u001B[49m\u001B[43m \u001B[49m\u001B[38;5;241;43m=\u001B[39;49m\u001B[43m \u001B[49m\u001B[43m[\u001B[49m\u001B[38;5;241;43m1\u001B[39;49m\u001B[43m,\u001B[49m\u001B[43m \u001B[49m\u001B[38;5;241;43m2\u001B[39;49m\u001B[43m,\u001B[49m\u001B[43m \u001B[49m\u001B[38;5;241;43m3\u001B[39;49m\u001B[43m,\u001B[49m\u001B[43m \u001B[49m\u001B[38;5;241;43m4\u001B[39;49m\u001B[43m,\u001B[49m\u001B[43m \u001B[49m\u001B[38;5;241;43m5\u001B[39;49m\u001B[43m]\u001B[49m\n\u001B[1;32m      6\u001B[0m \u001B[43m)\u001B[49m\n",
      "File \u001B[0;32m~/opt/anaconda3/envs/nwb-photostim/lib/python3.10/site-packages/hdmf/utils.py:582\u001B[0m, in \u001B[0;36mdocval.<locals>.dec.<locals>.func_call\u001B[0;34m(*args, **kwargs)\u001B[0m\n\u001B[1;32m    581\u001B[0m \u001B[38;5;28;01mdef\u001B[39;00m \u001B[38;5;21mfunc_call\u001B[39m(\u001B[38;5;241m*\u001B[39margs, \u001B[38;5;241m*\u001B[39m\u001B[38;5;241m*\u001B[39mkwargs):\n\u001B[0;32m--> 582\u001B[0m     pargs \u001B[38;5;241m=\u001B[39m \u001B[43m_check_args\u001B[49m\u001B[43m(\u001B[49m\u001B[43margs\u001B[49m\u001B[43m,\u001B[49m\u001B[43m \u001B[49m\u001B[43mkwargs\u001B[49m\u001B[43m)\u001B[49m\n\u001B[1;32m    583\u001B[0m     \u001B[38;5;28;01mreturn\u001B[39;00m func(args[\u001B[38;5;241m0\u001B[39m], \u001B[38;5;241m*\u001B[39m\u001B[38;5;241m*\u001B[39mpargs)\n",
      "File \u001B[0;32m~/opt/anaconda3/envs/nwb-photostim/lib/python3.10/site-packages/hdmf/utils.py:575\u001B[0m, in \u001B[0;36mdocval.<locals>.dec.<locals>._check_args\u001B[0;34m(args, kwargs)\u001B[0m\n\u001B[1;32m    573\u001B[0m     \u001B[38;5;28;01mif\u001B[39;00m parse_err:\n\u001B[1;32m    574\u001B[0m         msg \u001B[38;5;241m=\u001B[39m \u001B[38;5;124m'\u001B[39m\u001B[38;5;132;01m%s\u001B[39;00m\u001B[38;5;124m: \u001B[39m\u001B[38;5;132;01m%s\u001B[39;00m\u001B[38;5;124m'\u001B[39m \u001B[38;5;241m%\u001B[39m (func\u001B[38;5;241m.\u001B[39m\u001B[38;5;18m__qualname__\u001B[39m, \u001B[38;5;124m'\u001B[39m\u001B[38;5;124m, \u001B[39m\u001B[38;5;124m'\u001B[39m\u001B[38;5;241m.\u001B[39mjoin(parse_err))\n\u001B[0;32m--> 575\u001B[0m         \u001B[38;5;28;01mraise\u001B[39;00m ExceptionType(msg)\n\u001B[1;32m    577\u001B[0m \u001B[38;5;28;01mreturn\u001B[39;00m parsed[\u001B[38;5;124m'\u001B[39m\u001B[38;5;124margs\u001B[39m\u001B[38;5;124m'\u001B[39m]\n",
      "\u001B[0;31mTypeError\u001B[0m: SpatialLightModulator.__init__: missing argument 'dimensions1'"
     ]
    }
   ],
   "source": [
    "SpatialLightModulator = get_class('SpatialLightModulator', 'ecog')\n",
    "\n",
    "slm = SpatialLightModulator(\n",
    "    name=\"slm\",\n",
    "    dimensions = [1, 2, 3, 4, 5]\n",
    ")"
   ],
   "metadata": {
    "collapsed": false,
    "pycharm": {
     "name": "#%%\n"
    }
   }
  },
  {
   "cell_type": "code",
   "execution_count": null,
   "outputs": [],
   "source": [],
   "metadata": {
    "collapsed": false,
    "pycharm": {
     "name": "#%%\n"
    }
   }
  },
  {
   "cell_type": "code",
   "execution_count": 20,
   "outputs": [
    {
     "name": "stdout",
     "output_type": "stream",
     "text": [
      "{'doc': 'SpatialLightModulator', 'neurodata_type_inc': 'NWBContainer', 'neurodata_type_def': 'SpatialLightModulator', 'attributes': [{'doc': 'dimensions ([w, h] or [w, h, d]) of SLM field', 'name': 'dimensions', 'dtype': 'numeric', 'shape': ((2,), (3,))}]}\n"
     ]
    }
   ],
   "source": [
    "print(slm)"
   ],
   "metadata": {
    "collapsed": false,
    "pycharm": {
     "name": "#%%\n"
    }
   }
  },
  {
   "cell_type": "code",
   "execution_count": 1,
   "outputs": [],
   "source": [
    "from pynwb.spec import NWBNamespaceBuilder, NWBGroupSpec, NWBAttributeSpec\n",
    "\n",
    "name = 'test_multicontainerinterface'\n",
    "ns_path = name + \".namespace.yaml\"\n",
    "ext_source = name + \".extensions.yaml\"\n",
    "\n",
    "ns_builder = NWBNamespaceBuilder(name + ' extensions', name, version='0.1.0')\n",
    "ns_builder.include_type('NWBDataInterface', namespace='core')\n",
    "\n",
    "potato = NWBGroupSpec(neurodata_type_def='Potato',\n",
    "                      neurodata_type_inc='NWBDataInterface',\n",
    "                      doc='A potato', quantity='*',\n",
    "                      attributes=[\n",
    "                          NWBAttributeSpec(name='weight',\n",
    "                                           doc='weight of potato',\n",
    "                                           dtype='float',\n",
    "                                           shape=(None,2),\n",
    "                                           required=True),\n",
    "                          NWBAttributeSpec(name='age',\n",
    "                                           doc='age of potato',\n",
    "                                           dtype='float',\n",
    "                                           required=False)\n",
    "                      ])\n",
    "\n",
    "potato_sack = NWBGroupSpec(neurodata_type_def='PotatoSack',\n",
    "                           neurodata_type_inc='NWBDataInterface',\n",
    "                           name='potato_sack',\n",
    "                           doc='A sack of potatoes', quantity='?',\n",
    "                           groups=[potato])\n",
    "\n",
    "ns_builder.add_spec(ext_source, potato_sack)\n",
    "ns_builder.export(ns_path)"
   ],
   "metadata": {
    "collapsed": false,
    "pycharm": {
     "name": "#%%\n"
    }
   }
  },
  {
   "cell_type": "code",
   "execution_count": 4,
   "outputs": [],
   "source": [
    "from pynwb import register_class, load_namespaces\n",
    "from pynwb.file import MultiContainerInterface, NWBContainer\n",
    "from pynwb import register_class\n",
    "from pynwb.core import NWBContainer\n",
    "from collections.abc import Iterable\n",
    "from hdmf.utils import docval, popargs\n",
    "from hdmf.utils import docval, get_docval, popargs\n",
    "from hdmf.utils import docval, popargs, get_docval, popargs_to_dict\n",
    "from collections.abc import Iterable\n",
    "import numpy as np\n",
    "\n",
    "\n",
    "load_namespaces(ns_path)\n",
    "\n",
    "@register_class('Potato', name)\n",
    "class Potato(NWBContainer):\n",
    "    __nwbfields__ = ('name', 'weight', 'age')\n",
    "\n",
    "    @docval({'name': 'name', 'type': str, 'doc': 'who names a potato?'},\n",
    "            {'name': 'weight', 'type': (float, Iterable), 'doc': 'weight of potato in grams'},\n",
    "            {'name': 'age', 'type': float, 'doc': 'age of potato in days'})\n",
    "    def __init__(self, **kwargs):\n",
    "\n",
    "        super().__init__(name=kwargs['name'])\n",
    "        self.weight = kwargs['weight']\n",
    "        self.age = kwargs['age']\n",
    "\n",
    "\n",
    "@register_class('PotatoSack', name)\n",
    "class PotatoSack(MultiContainerInterface):\n",
    "\n",
    "    __clsconf__ = {\n",
    "        'attr': 'potatos',\n",
    "        'type': Potato,\n",
    "        'add': 'add_potato',\n",
    "        'get': 'get_potato',\n",
    "        'create': 'create_potato',\n",
    "    }"
   ],
   "metadata": {
    "collapsed": false,
    "pycharm": {
     "name": "#%%\n"
    }
   }
  },
  {
   "cell_type": "code",
   "execution_count": 5,
   "outputs": [],
   "source": [
    "from pynwb import NWBHDF5IO, NWBFile\n",
    "from datetime import datetime\n",
    "from dateutil.tz import tzlocal\n",
    "\n",
    "# You can add potatoes to a potato sack in different ways\n",
    "potato_sack = PotatoSack(potatos=Potato(name='potato1', age=2.3, weight=3.0))\n",
    "potato_sack.add_potato(Potato('potato2', [3.0, 1], 4.0))\n",
    "potato_sack.create_potato('big_potato', np.array([3.5, 5]), 20.0)\n",
    "\n",
    "nwbfile = NWBFile(\"a file with metadata\", \"NB123A\", datetime(2018, 6, 1, tzinfo=tzlocal()))\n",
    "\n",
    "pmod = nwbfile.create_processing_module('module_name', 'desc')\n",
    "pmod.add_container(potato_sack)"
   ],
   "metadata": {
    "collapsed": false,
    "pycharm": {
     "name": "#%%\n"
    }
   }
  },
  {
   "cell_type": "code",
   "execution_count": null,
   "outputs": [],
   "source": [],
   "metadata": {
    "collapsed": false,
    "pycharm": {
     "name": "#%%\n"
    }
   }
  }
 ],
 "metadata": {
  "kernelspec": {
   "display_name": "Python 3",
   "language": "python",
   "name": "python3"
  },
  "language_info": {
   "codemirror_mode": {
    "name": "ipython",
    "version": 2
   },
   "file_extension": ".py",
   "mimetype": "text/x-python",
   "name": "python",
   "nbconvert_exporter": "python",
   "pygments_lexer": "ipython2",
   "version": "2.7.6"
  }
 },
 "nbformat": 4,
 "nbformat_minor": 0
}